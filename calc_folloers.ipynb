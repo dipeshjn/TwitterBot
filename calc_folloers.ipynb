{
  "nbformat": 4,
  "nbformat_minor": 0,
  "metadata": {
    "colab": {
      "name": "Untitled3.ipynb",
      "version": "0.3.2",
      "provenance": []
    }
  },
  "cells": [
    {
      "cell_type": "markdown",
      "metadata": {
        "id": "view-in-github",
        "colab_type": "text"
      },
      "source": [
        "[View in Colaboratory](https://colab.research.google.com/github/dipeshjn/TwitterBot/blob/master/calc_folloers.ipynb)"
      ]
    },
    {
      "metadata": {
        "id": "mwkDrf1dXJZg",
        "colab_type": "code",
        "colab": {
          "base_uri": "https://localhost:8080/",
          "height": 34
        },
        "outputId": "8090c2f6-4e79-4bbd-b1fa-55798cf8e7f2"
      },
      "cell_type": "code",
      "source": [
        "!pip install Twitter\n"
      ],
      "execution_count": 44,
      "outputs": [
        {
          "output_type": "stream",
          "text": [
            "Requirement already satisfied: Twitter in /usr/local/lib/python2.7/dist-packages (1.18.0)\r\n"
          ],
          "name": "stdout"
        }
      ]
    },
    {
      "metadata": {
        "id": "47RqcuFWXfBv",
        "colab_type": "code",
        "colab": {}
      },
      "cell_type": "code",
      "source": [
        "API_KEY = 'CBHsfErs1OIJCzpGuLbJ3zzF7'"
      ],
      "execution_count": 0,
      "outputs": []
    },
    {
      "metadata": {
        "id": "uSbUa0e8X3je",
        "colab_type": "code",
        "colab": {}
      },
      "cell_type": "code",
      "source": [
        "API_SECRET = 'HtcTP7eq84OkwgOPLeHNgoFqA60qFSxFf6FrtXEbRLqEtWwqMA'"
      ],
      "execution_count": 0,
      "outputs": []
    },
    {
      "metadata": {
        "id": "dlSRGl6sX_dH",
        "colab_type": "code",
        "colab": {}
      },
      "cell_type": "code",
      "source": [
        "ACCESS_TOKEN = '780951174086168576-EJLRYPhcPBt6xwF4KAw68Ve9V4zyy8L'"
      ],
      "execution_count": 0,
      "outputs": []
    },
    {
      "metadata": {
        "id": "N_YfJiXsYH_i",
        "colab_type": "code",
        "colab": {}
      },
      "cell_type": "code",
      "source": [
        "ACCESS_TOKEN_SECRET = 'gBGk9JBHfNUCQOVOujLEu3PMWbrK6S4VlyVAz3hhwnSlT'"
      ],
      "execution_count": 0,
      "outputs": []
    },
    {
      "metadata": {
        "id": "QMlq6SclYOIz",
        "colab_type": "code",
        "colab": {}
      },
      "cell_type": "code",
      "source": [
        "from twitter import Twitter , OAuth"
      ],
      "execution_count": 0,
      "outputs": []
    },
    {
      "metadata": {
        "id": "JKayYtxvYVtj",
        "colab_type": "code",
        "colab": {}
      },
      "cell_type": "code",
      "source": [
        "import pprint"
      ],
      "execution_count": 0,
      "outputs": []
    },
    {
      "metadata": {
        "id": "PHuZzIsPYz6Y",
        "colab_type": "code",
        "colab": {}
      },
      "cell_type": "code",
      "source": [
        "twitter_oauth = OAuth(ACCESS_TOKEN, ACCESS_TOKEN_SECRET, API_KEY, API_SECRET)"
      ],
      "execution_count": 0,
      "outputs": []
    },
    {
      "metadata": {
        "id": "JDvkTPbbY3Ds",
        "colab_type": "code",
        "colab": {}
      },
      "cell_type": "code",
      "source": [
        "twitter = Twitter(auth = twitter_oauth)"
      ],
      "execution_count": 0,
      "outputs": []
    },
    {
      "metadata": {
        "id": "q88lYtTeZAaZ",
        "colab_type": "code",
        "colab": {
          "base_uri": "https://localhost:8080/",
          "height": 1562
        },
        "outputId": "459d8cbc-ff97-415c-fb12-4389bd9a1a6f"
      },
      "cell_type": "code",
      "source": [
        "def get_tweets(query):\n",
        "  tweets = twitter.search.tweets(q='#'+query , count = 100)\n",
        "  return tweets\n",
        "\n",
        "def get_num_followers(query):\n",
        "  tweets = get_tweets(query)\n",
        "  import json\n",
        "  num_followers=0\n",
        "  for each_tweet in tweets['statuses']:\n",
        "    print each_tweet['user']['followers_count']\n",
        "    num_followers+=each_tweet['user']['followers_count']\n",
        "  return num_followers\n",
        "\n",
        "def main():\n",
        "  while(True):\n",
        "    user_choice = input(\"1. Count the followers of people Tweeting using a certain Hashtag.\\n\"\n",
        "                        \"2. Determine the location, Timezone and Language of people Tweeting using a certain Hashtag.\\n\"\n",
        "                        \"3. Numbers of times Modi has referred to US in the past 200 Tweets compared to how many times Trump has mentioned India.\\n\"\n",
        "                        \"4. Determine the Sentiment of people Tweeting using a certain Hashtag.\\n\"\n",
        "                        \"5. Top used words by PM Modi on Twitter.\\n\"\n",
        "                        \"6. Tweet a message from your account.\\n\"\n",
        "                        \"7. Exit.\\n\")\n",
        "    if user_choice==1:\n",
        "      user_input = raw_input(\"Enter the Hashtag:\")\n",
        "      print \"\\n\\n Max. no. of people who might have seen this Hashatg: %s\" %(get_num_followers(user_input))\n",
        "    elif user_choice==7:\n",
        "        break\n",
        "    else:print(\"i didn't get that, plz try again.\\n\")\n",
        "          \n",
        "main()"
      ],
      "execution_count": 55,
      "outputs": [
        {
          "output_type": "stream",
          "text": [
            "1. Count the followers of people Tweeting using a certain Hashtag.\n",
            "2. Determine the location, Timezone and Language of people Tweeting using a certain Hashtag.\n",
            "3. Numbers of times Modi has referred to US in the past 200 Tweets compared to how many times Trump has mentioned India.\n",
            "4. Determine the Sentiment of people Tweeting using a certain Hashtag.\n",
            "5. Top used words by PM Modi on Twitter.\n",
            "6. Tweet a message from your account.\n",
            "7. Exit.\n",
            "1\n",
            "Enter the Hashtag:deletefacebook\n",
            "4564\n",
            "17568\n",
            "6852\n",
            "631\n",
            "441\n",
            "4200\n",
            "474\n",
            "2960\n",
            "844\n",
            "5956\n",
            "1171\n",
            "1171\n",
            "1171\n",
            "1171\n",
            "1568\n",
            "70\n",
            "1568\n",
            "201\n",
            "1568\n",
            "285\n",
            "1171\n",
            "4546\n",
            "190\n",
            "1171\n",
            "1171\n",
            "1171\n",
            "1171\n",
            "1171\n",
            "3842\n",
            "1171\n",
            "1171\n",
            "1171\n",
            "1171\n",
            "1171\n",
            "1171\n",
            "363\n",
            "98\n",
            "9\n",
            "2724\n",
            "1171\n",
            "1171\n",
            "4546\n",
            "1171\n",
            "1171\n",
            "1171\n",
            "1171\n",
            "1171\n",
            "1171\n",
            "1094\n",
            "1171\n",
            "1171\n",
            "41\n",
            "1171\n",
            "1171\n",
            "1423\n",
            "3779\n",
            "105\n",
            "257\n",
            "0\n",
            "2589\n",
            "215466\n",
            "180\n",
            "38988\n",
            "8\n",
            "2671\n",
            "9861\n",
            "156\n",
            "1785\n",
            "4460\n",
            "655\n",
            "1171\n",
            "209\n",
            "\n",
            "\n",
            " Max. no. of people who might have seen this Hashatg: 383754\n",
            "1. Count the followers of people Tweeting using a certain Hashtag.\n",
            "2. Determine the location, Timezone and Language of people Tweeting using a certain Hashtag.\n",
            "3. Numbers of times Modi has referred to US in the past 200 Tweets compared to how many times Trump has mentioned India.\n",
            "4. Determine the Sentiment of people Tweeting using a certain Hashtag.\n",
            "5. Top used words by PM Modi on Twitter.\n",
            "6. Tweet a message from your account.\n",
            "7. Exit.\n",
            "7\n"
          ],
          "name": "stdout"
        }
      ]
    },
    {
      "metadata": {
        "id": "eQk_9tNwZDP7",
        "colab_type": "code",
        "colab": {}
      },
      "cell_type": "code",
      "source": [
        ""
      ],
      "execution_count": 0,
      "outputs": []
    }
  ]
}