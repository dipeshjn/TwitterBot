{
  "nbformat": 4,
  "nbformat_minor": 0,
  "metadata": {
    "colab": {
      "name": "Untitled0.ipynb",
      "version": "0.3.2",
      "provenance": []
    }
  },
  "cells": [
    {
      "cell_type": "markdown",
      "metadata": {
        "id": "view-in-github",
        "colab_type": "text"
      },
      "source": [
        "[View in Colaboratory](https://colab.research.google.com/github/dipeshjn/TwitterBot/blob/master/tweet2nd_class.ipynb)"
      ]
    },
    {
      "metadata": {
        "id": "IrydCJsNi3e1",
        "colab_type": "code",
        "colab": {
          "base_uri": "https://localhost:8080/",
          "height": 336
        },
        "outputId": "43fe78e6-76ba-4000-fd32-7caf3e2bed80"
      },
      "cell_type": "code",
      "source": [
        "!pip install Tweepy\n"
      ],
      "execution_count": 1,
      "outputs": [
        {
          "output_type": "stream",
          "text": [
            "Collecting Tweepy\n",
            "  Downloading https://files.pythonhosted.org/packages/05/f1/2e8c7b202dd04117a378ac0c55cc7dafa80280ebd7f692f1fa8f27fd6288/tweepy-3.6.0-py2.py3-none-any.whl\n",
            "Requirement already satisfied: six>=1.10.0 in /usr/local/lib/python2.7/dist-packages (from Tweepy) (1.11.0)\n",
            "Requirement already satisfied: requests-oauthlib>=0.7.0 in /usr/local/lib/python2.7/dist-packages (from Tweepy) (0.8.0)\n",
            "Collecting PySocks>=1.5.7 (from Tweepy)\n",
            "\u001b[?25l  Downloading https://files.pythonhosted.org/packages/53/12/6bf1d764f128636cef7408e8156b7235b150ea31650d0260969215bb8e7d/PySocks-1.6.8.tar.gz (283kB)\n",
            "\u001b[K    100% |████████████████████████████████| 286kB 5.5MB/s \n",
            "\u001b[?25hRequirement already satisfied: requests>=2.11.1 in /usr/local/lib/python2.7/dist-packages (from Tweepy) (2.18.4)\n",
            "Requirement already satisfied: oauthlib>=0.6.2 in /usr/local/lib/python2.7/dist-packages (from requests-oauthlib>=0.7.0->Tweepy) (2.0.7)\n",
            "Requirement already satisfied: idna<2.7,>=2.5 in /usr/local/lib/python2.7/dist-packages (from requests>=2.11.1->Tweepy) (2.6)\n",
            "Requirement already satisfied: urllib3<1.23,>=1.21.1 in /usr/local/lib/python2.7/dist-packages (from requests>=2.11.1->Tweepy) (1.22)\n",
            "Requirement already satisfied: certifi>=2017.4.17 in /usr/local/lib/python2.7/dist-packages (from requests>=2.11.1->Tweepy) (2018.4.16)\n",
            "Requirement already satisfied: chardet<3.1.0,>=3.0.2 in /usr/local/lib/python2.7/dist-packages (from requests>=2.11.1->Tweepy) (3.0.4)\n",
            "Building wheels for collected packages: PySocks\n",
            "  Running setup.py bdist_wheel for PySocks ... \u001b[?25l-\b \bdone\n",
            "\u001b[?25h  Stored in directory: /content/.cache/pip/wheels/22/5c/b5/12e0dfdfa85bea67b23628b6425fae715c687e947a45ee3df9\n",
            "Successfully built PySocks\n",
            "Installing collected packages: PySocks, Tweepy\n",
            "Successfully installed PySocks-1.6.8 Tweepy-3.6.0\n"
          ],
          "name": "stdout"
        }
      ]
    },
    {
      "metadata": {
        "id": "wk4WvVIhjkE7",
        "colab_type": "code",
        "colab": {
          "base_uri": "https://localhost:8080/",
          "height": 135
        },
        "outputId": "06ea6a7c-e399-4717-e31b-79991b35430a"
      },
      "cell_type": "code",
      "source": [
        "!pip install TextBlob"
      ],
      "execution_count": 2,
      "outputs": [
        {
          "output_type": "stream",
          "text": [
            "Collecting TextBlob\n",
            "\u001b[?25l  Downloading https://files.pythonhosted.org/packages/11/18/7f55c8be6d68ddc4036ffda5382ca51e23a1075987f708b9123712091af1/textblob-0.15.1-py2.py3-none-any.whl (631kB)\n",
            "\u001b[K    100% |████████████████████████████████| 634kB 5.5MB/s \n",
            "\u001b[?25hRequirement already satisfied: nltk>=3.1 in /usr/local/lib/python2.7/dist-packages (from TextBlob) (3.2.5)\n",
            "Requirement already satisfied: six in /usr/local/lib/python2.7/dist-packages (from nltk>=3.1->TextBlob) (1.11.0)\n",
            "Installing collected packages: TextBlob\n",
            "Successfully installed TextBlob-0.15.1\n"
          ],
          "name": "stdout"
        }
      ]
    },
    {
      "metadata": {
        "id": "LYlbRqxcnzek",
        "colab_type": "code",
        "colab": {}
      },
      "cell_type": "code",
      "source": [
        "import tweepy\n",
        "from textblob import TextBlob"
      ],
      "execution_count": 0,
      "outputs": []
    },
    {
      "metadata": {
        "id": "wS8MuuZappOn",
        "colab_type": "code",
        "colab": {}
      },
      "cell_type": "code",
      "source": [
        "#authenticate consumer key's\n",
        "consumer_key = ''\n",
        "\n",
        "consumer_secret = ''\n",
        "\n"
      ],
      "execution_count": 0,
      "outputs": []
    },
    {
      "metadata": {
        "id": "iNJc-IQgqeYl",
        "colab_type": "code",
        "colab": {}
      },
      "cell_type": "code",
      "source": [
        "#authenticate access token's\n",
        "access_token = ''\n",
        "\n",
        "access_token_secret = ''"
      ],
      "execution_count": 0,
      "outputs": []
    },
    {
      "metadata": {
        "id": "ttDBc2bbq3qk",
        "colab_type": "code",
        "colab": {}
      },
      "cell_type": "code",
      "source": [
        "oauth = tweepy.OAuthHandler(consumer_key , consumer_secret)\n",
        "\n",
        "b = tweepy.OAuthHandler('123','213')"
      ],
      "execution_count": 0,
      "outputs": []
    },
    {
      "metadata": {
        "id": "fkb592WZrq9H",
        "colab_type": "code",
        "colab": {}
      },
      "cell_type": "code",
      "source": [
        "oauth.set_access_token(access_token , access_token_secret)"
      ],
      "execution_count": 0,
      "outputs": []
    },
    {
      "metadata": {
        "id": "bOZMw0zItW2G",
        "colab_type": "code",
        "colab": {}
      },
      "cell_type": "code",
      "source": [
        "api = tweepy.API(oauth)"
      ],
      "execution_count": 0,
      "outputs": []
    },
    {
      "metadata": {
        "id": "O2KEvvnkn2hI",
        "colab_type": "code",
        "colab": {}
      },
      "cell_type": "code",
      "source": [
        "public_tweets = api.search(\"#KKRvsCSK\")"
      ],
      "execution_count": 0,
      "outputs": []
    },
    {
      "metadata": {
        "id": "gBMDqdJd31v7",
        "colab_type": "code",
        "colab": {}
      },
      "cell_type": "code",
      "source": [
        "new_tweets = api.user_timeline(screen_name ='@realDonaldTrump',count=200)"
      ],
      "execution_count": 0,
      "outputs": []
    },
    {
      "metadata": {
        "id": "HqQbD2P-u6Ti",
        "colab_type": "code",
        "colab": {
          "base_uri": "https://localhost:8080/",
          "height": 10181
        },
        "outputId": "0fc39f07-9bd8-4c65-ef35-6737b2991545"
      },
      "cell_type": "code",
      "source": [
        "for tweet in new_tweets:\n",
        "  print(tweet.text)\n",
        "  \n",
        "  analyse = TextBlob(tweet.text)\n",
        "  \n",
        "  print(analyse.sentiment)\n",
        "  \n",
        "  print(\"------------\")"
      ],
      "execution_count": 12,
      "outputs": [
        {
          "output_type": "stream",
          "text": [
            "Thank you Cleveland, Ohio! https://t.co/ROEFRLY7jP\n",
            "Sentiment(polarity=0.0, subjectivity=0.0)\n",
            "------------\n",
            "Our high level delegation is on the way back from China where they had long meetings with Chinese leaders and busin… https://t.co/HGTEQMJrPG\n",
            "Sentiment(polarity=0.0275, subjectivity=0.235)\n",
            "------------\n",
            "Just returned home to the beautiful White House, from Dallas, where the Arena was packed to the rafters with the gr… https://t.co/5jKrLoTcmD\n",
            "Sentiment(polarity=0.425, subjectivity=0.5)\n",
            "------------\n",
            "Great book just out by very successful businessman @AndyPuzder. Always known as somebody who knows how to win, “Cap… https://t.co/EpbiTO9GHs\n",
            "Sentiment(polarity=0.8583333333333334, subjectivity=0.7166666666666667)\n",
            "------------\n",
            "I want to thank all of our friends and patriots at the @NRA. We will never fail, and we will always protect your Se… https://t.co/4GCOdVeiqv\n",
            "Sentiment(polarity=0.25, subjectivity=0.29999999999999993)\n",
            "------------\n",
            "We are going to demand Congress secure the border in the upcoming CR. Illegal immigration must end!\n",
            "Sentiment(polarity=-0.11249999999999999, subjectivity=0.55)\n",
            "------------\n",
            "Democrats and liberals in Congress want to disarm law-abiding Americans at the same time they are releasing dangero… https://t.co/Bm4XpXBswG\n",
            "Sentiment(polarity=0.0, subjectivity=0.125)\n",
            "------------\n",
            "All of us here today are united by the same timeless values. We believe that our liberty is a gift from our creator… https://t.co/JTq9VefLWZ\n",
            "Sentiment(polarity=0.0, subjectivity=0.125)\n",
            "------------\n",
            "JUST OUT: 3.9% Unemployment. 4% is Broken! In the meantime, WITCH HUNT!\n",
            "Sentiment(polarity=-0.625, subjectivity=0.4)\n",
            "------------\n",
            "Going to Dallas (the GREAT State of Texas) today. Leaving soon!\n",
            "Sentiment(polarity=1.0, subjectivity=0.75)\n",
            "------------\n",
            "NBC NEWS is wrong again! They cite “sources” which are constantly wrong. Problem is, like so many others, the sourc… https://t.co/XuqtOEesHg\n",
            "Sentiment(polarity=-0.20833333333333334, subjectivity=0.7666666666666666)\n",
            "------------\n",
            "Andy McCarthy will be on  @LouDobbs tonight. 7:00 P.M. , @FoxBusiness.\n",
            "Sentiment(polarity=0.0, subjectivity=0.0)\n",
            "------------\n",
            "Because Jobs in the U.S. are doing so well, Americans receiving unemployment aid is the lowest since 1973. Great!\n",
            "Sentiment(polarity=1.0, subjectivity=0.75)\n",
            "------------\n",
            "Our Southern Border is under siege. Congress must act now to change our weak and ineffective immigration laws. Must… https://t.co/JDTz0IUwMc\n",
            "Sentiment(polarity=-0.1875, subjectivity=0.3125)\n",
            "------------\n",
            "#NationalDayOfPrayer https://t.co/nFUc3uyQL8\n",
            "Sentiment(polarity=0.0, subjectivity=0.0)\n",
            "------------\n",
            "This spring marks 4yrs since the Phoenix VA crisis. We won't forget what happened to our GREAT VETS. Choice is vita… https://t.co/ACz8pT6D0I\n",
            "Sentiment(polarity=0.8, subjectivity=0.75)\n",
            "------------\n",
            "Today, it was my great honor to celebrate the #NationalDayOfPrayer at the @WhiteHouse, in the Rose Garden! Proclama… https://t.co/f4bx98Wcho\n",
            "Sentiment(polarity=0.775, subjectivity=0.85)\n",
            "------------\n",
            "...despite already having signed a detailed letter admitting that there was no affair. Prior to its violation by Ms… https://t.co/MvJNo3D9xM\n",
            "Sentiment(polarity=0.2, subjectivity=0.375)\n",
            "------------\n",
            "...very common among celebrities and people of wealth. In this case it is in full force and effect and will be used… https://t.co/jth4OnhaEs\n",
            "Sentiment(polarity=0.024999999999999994, subjectivity=0.525)\n",
            "------------\n",
            "Mr. Cohen, an attorney, received a monthly retainer, not from the campaign and having nothing to do with the campai… https://t.co/0k9Yv6JsL8\n",
            "Sentiment(polarity=0.0, subjectivity=0.0)\n",
            "------------\n",
            "Our great financial team is in China trying to negotiate a level playing field on trade! I look forward to being wi… https://t.co/cBpZb9oSuJ\n",
            "Sentiment(polarity=0.4, subjectivity=0.375)\n",
            "------------\n",
            "Ainsley Earnhardt, a truly great person, just wrote a wonderful book, “The Light Within Me,” which is doing really… https://t.co/N4IZMSWBMr\n",
            "Sentiment(polarity=0.7333333333333334, subjectivity=0.8166666666666668)\n",
            "------------\n",
            "As everybody is aware, the past Administration has long been asking for three hostages to be released from a North… https://t.co/vvJ7sBx2mE\n",
            "Sentiment(polarity=-0.016666666666666666, subjectivity=0.3)\n",
            "------------\n",
            "“This isn’t some game. You are screwing with the work of the president of the United States.”  John Dowd, March 201… https://t.co/UGJyw435dJ\n",
            "Sentiment(polarity=-0.4, subjectivity=0.4)\n",
            "------------\n",
            "I have been briefed on the U.S. C-130 “Hercules” cargo plane from the Puerto Rico National Guard that crashed near… https://t.co/bCzP3bkLF1\n",
            "Sentiment(polarity=0.0, subjectivity=0.0)\n",
            "------------\n",
            "Congratulations @SecPompeo! https://t.co/ECrMGkXMQF\n",
            "Sentiment(polarity=0.0, subjectivity=0.0)\n",
            "------------\n",
            "A Rigged System - They don’t want to turn over Documents to Congress. What are they afraid of? Why so much redactin… https://t.co/Wm7yAaO4Bl\n",
            "Sentiment(polarity=-0.19999999999999998, subjectivity=0.55)\n",
            "------------\n",
            "NEW BOOK - A MUST READ! “The Russia Hoax - The Illicit Scheme to Clear Hillary Clinton and Frame Donald Trump” by t… https://t.co/3PvEnKIFuo\n",
            "Sentiment(polarity=0.13522727272727272, subjectivity=0.41893939393939394)\n",
            "------------\n",
            "“The questions are an intrusion into the President’s Article 2  powers under the Constitution to fire any Executive… https://t.co/5eyTthQIU1\n",
            "Sentiment(polarity=0.0, subjectivity=0.0)\n",
            "------------\n",
            "There was no Collusion (it is a Hoax) and there is no Obstruction of Justice (that is a setup &amp; trap). What there i… https://t.co/WU8JFuWLJi\n",
            "Sentiment(polarity=0.0, subjectivity=0.0)\n",
            "------------\n",
            "Today, it was my great honor to thank and welcome heroic crew members and passengers of Southwest Airlines Flight 1… https://t.co/foqQ0iAZjY\n",
            "Sentiment(polarity=0.7666666666666666, subjectivity=0.85)\n",
            "------------\n",
            "Congratulations @ArmyWP_Football! https://t.co/rmaLoZMWtK\n",
            "Sentiment(polarity=0.0, subjectivity=0.0)\n",
            "------------\n",
            "Today I had the great honor of awarding the Commander-in-Chief’s Trophy, for the first time in 21 years, to the… https://t.co/0O5z2Rp85V\n",
            "Sentiment(polarity=0.525, subjectivity=0.5416666666666666)\n",
            "------------\n",
            "Yesterday, it was my great honor to welcome President @MBuhari of the Federal Republic of Nigeria to the… https://t.co/bH8ldGTJf6\n",
            "Sentiment(polarity=0.8, subjectivity=0.825)\n",
            "------------\n",
            "It would seem very hard to obstruct justice for a crime that never happened! Witch Hunt!\n",
            "Sentiment(polarity=-0.5924479166666667, subjectivity=0.7041666666666666)\n",
            "------------\n",
            "Delegation heading to China to begin talks on the Massive Trade Deficit that has been created with our Country. Ver… https://t.co/XmBwznEUps\n",
            "Sentiment(polarity=0.0, subjectivity=1.0)\n",
            "------------\n",
            "So disgraceful that the questions concerning the Russian Witch Hunt were “leaked” to the media. No questions on Col… https://t.co/T2n7SAWgJp\n",
            "Sentiment(polarity=0.0, subjectivity=0.0)\n",
            "------------\n",
            "The White House is running very smoothly despite phony Witch Hunts etc. There is great Energy and unending Stamina,… https://t.co/2jCDNt5hH8\n",
            "Sentiment(polarity=0.44, subjectivity=0.4666666666666666)\n",
            "------------\n",
            "The Fake News is going crazy making up false stories and using only unnamed sources (who don’t exist). They are tot… https://t.co/CU3W06ZAJw\n",
            "Sentiment(polarity=-0.37500000000000006, subjectivity=0.875)\n",
            "------------\n",
            "During Small Business Week, we celebrate the great, hard-working entrepreneurs across our country who have started… https://t.co/rryZMM5YAn\n",
            "Sentiment(polarity=0.275, subjectivity=0.575)\n",
            "------------\n",
            "The migrant ‘caravan’ that is openly defying our border shows how weak &amp; ineffective U.S. immigration laws are. Yet… https://t.co/eHoGHk6X37\n",
            "Sentiment(polarity=-0.1875, subjectivity=0.5625)\n",
            "------------\n",
            "I recently had a terrific meeting with a bipartisan group of freshman lawmakers who feel very strongly in favor of… https://t.co/PdidU1XzvL\n",
            "Sentiment(polarity=0.1877777777777778, subjectivity=0.7344444444444443)\n",
            "------------\n",
            "Numerous countries are being considered for the MEETING, but would Peace House/Freedom House, on the Border of Nort… https://t.co/DGizR3G5V2\n",
            "Sentiment(polarity=0.0, subjectivity=0.5)\n",
            "------------\n",
            "The White House Correspondents’ Dinner is DEAD as we know it. This was a total disaster and an embarrassment to our… https://t.co/tmz14TfqhT\n",
            "Sentiment(polarity=-0.06666666666666667, subjectivity=0.3833333333333333)\n",
            "------------\n",
            "Headline: “Kim Prepared to Cede Nuclear Weapons if U.S. Pledges Not to Invade” - from the Failing New York Times. A… https://t.co/jvYRAIAU7t\n",
            "Sentiment(polarity=0.13636363636363635, subjectivity=0.45454545454545453)\n",
            "------------\n",
            "The White House Correspondents’ Dinner was a failure last year, but this year was an embarrassment to everyone asso… https://t.co/lhm2FrUyS2\n",
            "Sentiment(polarity=-0.10555555555555557, subjectivity=0.12222222222222222)\n",
            "------------\n",
            "“Trump’s Triumphs are driving his critics Crazy!” Thank you Steve Hilton @NextRevFNC, just want to do what is right for our wonderful U.S.A.\n",
            "Sentiment(polarity=0.17857142857142858, subjectivity=0.811904761904762)\n",
            "------------\n",
            "Just got recent Poll - much higher than President O at same time....Well, much more has been accomplished!\n",
            "Sentiment(polarity=0.2, subjectivity=0.375)\n",
            "------------\n",
            "While Washington, Michigan, was a big success, Washington, D.C., just didn’t work. Everyone is talking about the fa… https://t.co/1jEA4ssPTg\n",
            "Sentiment(polarity=0.15, subjectivity=0.05)\n",
            "------------\n",
            "Great evening last night in Washington, Michigan. The enthusiasm, knowledge and love in that room was unreal. To th… https://t.co/FOPvQ3559W\n",
            "Sentiment(polarity=0.43333333333333335, subjectivity=0.47222222222222215)\n",
            "------------\n",
            "Join me LIVE in Washington, Michigan at 7:00pmE on @FoxNews! #MAGA\n",
            "Sentiment(polarity=0.17045454545454544, subjectivity=0.5)\n",
            "------------\n",
            "Secret Service has just informed me that Senator Jon Tester’s statements on Admiral Jackson are not true. There wer… https://t.co/WsPVNYvHOr\n",
            "Sentiment(polarity=-0.2875, subjectivity=0.675)\n",
            "------------\n",
            "Look forward to being in the Great State of Michigan tonight. Major business expansion and jobs pouring into your S… https://t.co/WSdinFPmCp\n",
            "Sentiment(polarity=0.43125, subjectivity=0.625)\n",
            "------------\n",
            "Just had a long and very good talk with President Moon of South Korea. Things are going very well, time and locatio… https://t.co/gj6yqufCtr\n",
            "Sentiment(polarity=0.3533333333333333, subjectivity=0.4933333333333334)\n",
            "------------\n",
            "“Clapper lied about (fraudulent) Dossier leaks to CNN” @foxandfriends FoxNews  He is a lying machine who now works for Fake News CNN.\n",
            "Sentiment(polarity=-0.5, subjectivity=1.0)\n",
            "------------\n",
            "....great people of Montana will not stand for this kind of slander when talking of a great human being. Admiral Ja… https://t.co/Z6XRJpgTFk\n",
            "Sentiment(polarity=0.4666666666666666, subjectivity=0.5833333333333334)\n",
            "------------\n",
            "Allegations made by Senator Jon Tester against Admiral/Doctor Ron Jackson are proving false. The Secret Service is… https://t.co/dybHbNNsoi\n",
            "Sentiment(polarity=-0.4, subjectivity=0.6499999999999999)\n",
            "------------\n",
            "House Intelligence Committee rules that there was NO COLLUSION between the Trump Campaign and Russia. As I have bee… https://t.co/n4809kuVx3\n",
            "Sentiment(polarity=0.0, subjectivity=0.0)\n",
            "------------\n",
            "RT @WhiteHouse: \"So today, on behalf of the United States, I want to thank every Olympian and Paralympian... To every member of @TeamUSA, I…\n",
            "Sentiment(polarity=0.0, subjectivity=0.0)\n",
            "------------\n",
            "I urge all Americans to participate in #takebackday tomorrow! Let’s come together and BEAT last October’s record of… https://t.co/aIwL3BXrAp\n",
            "Sentiment(polarity=0.0, subjectivity=0.06666666666666667)\n",
            "------------\n",
            "RT @WhiteHouse: \"Today I am honored to welcome Chancellor Angela Merkel back to the White House... We are also pleased to have our newly co…\n",
            "Sentiment(polarity=0.2872727272727273, subjectivity=0.4709090909090909)\n",
            "------------\n",
            "Just Out: House Intelligence Committee Report released. “No evidence” that the Trump Campaign “colluded, coordinate… https://t.co/3erasoPL4N\n",
            "Sentiment(polarity=0.0, subjectivity=0.0)\n",
            "------------\n",
            "Look forward to meeting with Chancellor Angela Merkel of Germany today. So much to discuss, so little time! It will… https://t.co/FVi18WtSdX\n",
            "Sentiment(polarity=-0.017187499999999994, subjectivity=0.35)\n",
            "------------\n",
            "Kanye West has performed a great service to the Black Community - Big things are happening and eyes are being opene… https://t.co/DFbFcLSqsl\n",
            "Sentiment(polarity=0.21111111111111114, subjectivity=0.4277777777777778)\n",
            "------------\n",
            "Please do not forget the great help that my good friend, President Xi of China, has given to the United States, par… https://t.co/9mQL7VpUp7\n",
            "Sentiment(polarity=0.75, subjectivity=0.675)\n",
            "------------\n",
            "So great to have Staff Sgt. Dan Nevins and the incredible WOUNDED WARRIORS with me in the White House yesterday. Th… https://t.co/29b2xOXNba\n",
            "Sentiment(polarity=0.5666666666666668, subjectivity=0.5499999999999999)\n",
            "------------\n",
            "KOREAN WAR TO END! The United States, and all of its GREAT people, should be very proud of what is now taking place in Korea!\n",
            "Sentiment(polarity=0.9, subjectivity=0.875)\n",
            "------------\n",
            "After a furious year of missile launches and Nuclear testing, a historic meeting between North and South Korea is n… https://t.co/PLUzX0MESi\n",
            "Sentiment(polarity=0.0, subjectivity=0.0)\n",
            "------------\n",
            "Is everybody believing what is going on. James Comey can’t define what a leak is. He illegally leaked CLASSIFIED IN… https://t.co/X5Ee7JEYpN\n",
            "Sentiment(polarity=-0.5, subjectivity=0.5)\n",
            "------------\n",
            "The U.S. has put together a STRONG bid w/ Canada &amp; Mexico for the 2026 World Cup. It would be a shame if countries… https://t.co/dTqZLP6oN0\n",
            "Sentiment(polarity=0.4333333333333333, subjectivity=0.7333333333333333)\n",
            "------------\n",
            "Loved being on @foxandfriends this morning. Great show!\n",
            "Sentiment(polarity=0.85, subjectivity=0.775)\n",
            "------------\n",
            "MAGA! https://t.co/jFf5ONASlv\n",
            "Sentiment(polarity=0.0, subjectivity=0.0)\n",
            "------------\n",
            "Thank you Kanye, very cool! https://t.co/vRIC87M21X\n",
            "Sentiment(polarity=0.56875, subjectivity=0.8450000000000001)\n",
            "------------\n",
            "RT @realDonaldTrump: Democrats are obstructing good (hopefully great) people wanting to give up a big portion of their life to work for our…\n",
            "Sentiment(polarity=0.5, subjectivity=0.4833333333333334)\n",
            "------------\n",
            "Looking forward to my meeting with Tim Cook of Apple. We will be talking about many things, including how the U.S.… https://t.co/1gRfA4s5hl\n",
            "Sentiment(polarity=0.5, subjectivity=0.5)\n",
            "------------\n",
            ".@FLOTUS did a spectacular job hosting the President of France @EmmanuelMacron and his wife Brigitte. Every detail… https://t.co/1eEkAVAgkl\n",
            "Sentiment(polarity=0.6, subjectivity=0.9)\n",
            "------------\n",
            "Busy day planned.  Looking forward to watching President Macron of France address a Joint Session of Congress today… https://t.co/G8DnullYl5\n",
            "Sentiment(polarity=0.1, subjectivity=0.3)\n",
            "------------\n",
            "Congratulations to Republican Debbie Lesko on her big win in the Special Election for Arizona House seat. Debbie wi… https://t.co/trwSb09q7l\n",
            "Sentiment(polarity=0.38571428571428573, subjectivity=0.35714285714285715)\n",
            "------------\n",
            "Our two great republics are linked together by the timeless bonds of history, culture, and destiny. We are people w… https://t.co/pwvB5g3GaY\n",
            "Sentiment(polarity=0.8, subjectivity=0.75)\n",
            "------------\n",
            "Today, @FLOTUS Melania and I were honored to welcome French President @EmmanuelMacron and Mrs. Brigitte Macron to t… https://t.co/8kwPVoGn8B\n",
            "Sentiment(polarity=0.4, subjectivity=0.45)\n",
            "------------\n",
            ".@JimRenacci has worked so hard on Tax Reductions, Illegal Immigration, the Border and Crime. I need Jim very badly… https://t.co/PqB2vspieq\n",
            "Sentiment(polarity=-0.19722222222222227, subjectivity=0.4472222222222222)\n",
            "------------\n",
            "“President Trump Calls the U.S.-France Relationship ‘Unbreakable.’ History Shows He’s Right.” https://t.co/L0gT4rvaJO\n",
            "Sentiment(polarity=0.2857142857142857, subjectivity=0.5357142857142857)\n",
            "------------\n",
            "Arizona, please get out today and vote @DebbieLesko for Congress in #AZ08. Strong on Border, Immigration and Crime.… https://t.co/D0awkdHmty\n",
            "Sentiment(polarity=0.4333333333333333, subjectivity=0.7333333333333333)\n",
            "------------\n",
            "Americans stand with you and all of Canada, Prime Minister @JustinTrudeau. Our thoughts and prayers are with you al… https://t.co/bn5yMNyVKm\n",
            "Sentiment(polarity=0.0, subjectivity=0.0)\n",
            "------------\n",
            "Having great meetings and discussions with my friend, President @EmmanuelMacron of France. We are in the midst of m… https://t.co/Dd4x7XmV2v\n",
            "Sentiment(polarity=0.8, subjectivity=0.75)\n",
            "------------\n",
            "RT @mike_pence: PROUD to support our friend @VoteMarsha for US Senate representing Tennessee. Marsha Blackburn is a rock-ribbed conservativ…\n",
            "Sentiment(polarity=0.8, subjectivity=1.0)\n",
            "------------\n",
            "Here’s a great stat - since January 2017, the number of people forced to use food stamps is down 1.9 million. The A… https://t.co/TWeJRygTfm\n",
            "Sentiment(polarity=0.11481481481481481, subjectivity=0.412962962962963)\n",
            "------------\n",
            "Mexico, whose laws on immigration are very tough, must stop people from going through Mexico and into the U.S. We m… https://t.co/mOUwvFuCpS\n",
            "Sentiment(polarity=-0.5055555555555555, subjectivity=1.0)\n",
            "------------\n",
            "Despite the Democrat inspired laws on Sanctuary Cities and the Border being so bad and one sided, I have instructed… https://t.co/aT1zwHmK6t\n",
            "Sentiment(polarity=-0.6999999999999998, subjectivity=0.6666666666666666)\n",
            "------------\n",
            "Hard to believe Obstructionists May vote against Mike Pompeo for Secretary of State. The Dems will not approve hund… https://t.co/ZElatyv8Fx\n",
            "Sentiment(polarity=-0.2916666666666667, subjectivity=0.5416666666666666)\n",
            "------------\n",
            "Thank you to the incredible Law Enforcement Officers from the Palm Beach County Sheriff’s Office. They keep us safe… https://t.co/ehyO5Ljcou\n",
            "Sentiment(polarity=0.9, subjectivity=0.9)\n",
            "------------\n",
            "Kim Strassel of the WSJ just said, after reviewing the dumb Comey Memos, “you got to ask, what was the purpose of t… https://t.co/tjHeBnSJof\n",
            "Sentiment(polarity=-0.375, subjectivity=0.5)\n",
            "------------\n",
            "Funny how all of the Pundits that couldn’t come close to making a deal on North Korea are now all over the place te… https://t.co/SBc5VJlOdw\n",
            "Sentiment(polarity=0.25, subjectivity=1.0)\n",
            "------------\n",
            "A complete Witch Hunt!\n",
            "Sentiment(polarity=0.125, subjectivity=0.4)\n",
            "------------\n",
            "“I can die happy now with Trump Job performance,” stated Mary Matalin. “A great overall President, stunning!” Thank you Mary.\n",
            "Sentiment(polarity=0.55625, subjectivity=0.6875)\n",
            "------------\n",
            "....We are a long way from conclusion on North Korea, maybe things will work out, and maybe they won’t - only time… https://t.co/vnYXvuzQVy\n",
            "Sentiment(polarity=-0.025, subjectivity=0.7)\n",
            "------------\n",
            "Sleepy Eyes Chuck Todd of Fake News NBC just stated that we have given up so much in our negotiations with North Ko… https://t.co/SycCm3qDvI\n",
            "Sentiment(polarity=-0.15, subjectivity=0.6)\n",
            "------------\n",
            "“GOP Lawmakers asking Sessions to Investigate Comey and Hillary Clinton.” @FoxNews   Good luck with that request!\n",
            "Sentiment(polarity=0.875, subjectivity=0.6000000000000001)\n",
            "------------\n",
            "“At least two Memos Comey shared with a friend contained Classified Information.”  Wall Street Journal\n",
            "Sentiment(polarity=-0.3, subjectivity=0.4)\n",
            "------------\n",
            "RT @dmartosko: The same can be said of the \"collusion\" stuff. https://t.co/xMCVuH3OTs\n",
            "Sentiment(polarity=0.0, subjectivity=0.125)\n",
            "------------\n",
            "The Washington Post said I refer to Jeff Sessions as “Mr. Magoo” and Rod Rosenstein as “Mr. Peepers.” This is “acco… https://t.co/ISMM0vuii6\n",
            "Sentiment(polarity=0.0, subjectivity=0.0)\n",
            "------------\n",
            "James Comey’s Memos are Classified, I did not Declassify them. They belong to our Government! Therefore, he broke t… https://t.co/Qw0POMocIy\n",
            "Sentiment(polarity=0.0, subjectivity=0.0)\n",
            "------------\n",
            "Sylvester Stallone called me with the story of heavyweight boxing champion Jack Johnson. His trials and tribulation… https://t.co/kQCWb2UOpH\n",
            "Sentiment(polarity=0.0, subjectivity=0.0)\n",
            "------------\n",
            "So funny, the Democrats have sued the Republicans for Winning. Now he R’s counter and force them to turn over a tre… https://t.co/xk8hm1WM14\n",
            "Sentiment(polarity=0.375, subjectivity=0.875)\n",
            "------------\n",
            "Heading to the Southern White House to watch the Funeral Service of Barbara Bush. First Lady Melania has arrived in… https://t.co/7tUt7jmI8N\n",
            "Sentiment(polarity=0.08333333333333333, subjectivity=0.1111111111111111)\n",
            "------------\n",
            "Today, my thoughts and prayers are with the entire Bush family. In memory of First Lady Barbara Bush, there is a re… https://t.co/Ryu60C8jI3\n",
            "Sentiment(polarity=0.125, subjectivity=0.47916666666666663)\n",
            "------------\n",
            "Fantastic crowd and great people yesterday in Key West, Florida. Thank you! https://t.co/HqOUFgmbQS\n",
            "Sentiment(polarity=0.4000000000000001, subjectivity=0.8833333333333333)\n",
            "------------\n",
            "Join me in Washington, Michigan on Saturday, April 28, 2018 at 7:00pm! #MAGA Tickets: https://t.co/DISosdqBuu https://t.co/gHdTgHw5FU\n",
            "Sentiment(polarity=0.0, subjectivity=0.0)\n",
            "------------\n",
            "....it means lying or making up stories. Sorry, I don’t see Michael doing that despite the horrible Witch Hunt and the dishonest media!\n",
            "Sentiment(polarity=-0.625, subjectivity=0.8333333333333334)\n",
            "------------\n",
            "....non-existent “sources” and a drunk/drugged up loser who hates Michael, a fine person with a wonderful family. M… https://t.co/dlBa5kZQId\n",
            "Sentiment(polarity=0.7083333333333334, subjectivity=0.75)\n",
            "------------\n",
            "The New York Times and a third rate reporter named Maggie Haberman, known as a Crooked H flunkie who I don’t speak… https://t.co/du9mLxGUjS\n",
            "Sentiment(polarity=0.04545454545454545, subjectivity=0.18484848484848485)\n",
            "------------\n",
            "A message from Kim Jong Un: “North Korea will stop nuclear tests and launches of intercontinental ballistic missile… https://t.co/S6q8mESfn7\n",
            "Sentiment(polarity=0.0, subjectivity=0.0)\n",
            "------------\n",
            "James Comey illegally leaked classified documents to the press in order to generate a Special Council? Therefore, t… https://t.co/5Oeo81Disr\n",
            "Sentiment(polarity=-0.07142857142857142, subjectivity=0.5357142857142857)\n",
            "------------\n",
            "Just heard the Campaign was sued by the Obstructionist Democrats. This can be good news in that we will now counter… https://t.co/77ChXaPzvm\n",
            "Sentiment(polarity=0.7, subjectivity=0.6000000000000001)\n",
            "------------\n",
            "North Korea has agreed to suspend all Nuclear Tests and close up a major test site. This is very good news for Nort… https://t.co/f7SCDPLvm0\n",
            "Sentiment(polarity=0.48624999999999996, subjectivity=0.6400000000000001)\n",
            "------------\n",
            "Can you believe that despite 93% bad stories from the Fake News Media (should be getting good stories), today we ha… https://t.co/x5Ad5M5UOi\n",
            "Sentiment(polarity=-0.1666666666666666, subjectivity=0.7555555555555555)\n",
            "------------\n",
            "Looks like OPEC is at it again. With record amounts of Oil all over the place, including the fully loaded ships at… https://t.co/l5MMjmtI14\n",
            "Sentiment(polarity=0.0, subjectivity=0.0)\n",
            "------------\n",
            "Nancy Pelosi is going absolutely crazy about the big Tax Cuts given to the American People by the Republicans...got… https://t.co/0REgmJNMqT\n",
            "Sentiment(polarity=-0.19999999999999998, subjectivity=0.3333333333333333)\n",
            "------------\n",
            "So exciting! I have agreed to be the Commencement Speaker at our GREAT Naval Academy on May 25th in Annapolis, Mary… https://t.co/L9iZ6RS3ft\n",
            "Sentiment(polarity=0.5875, subjectivity=0.775)\n",
            "------------\n",
            "So General Michael Flynn’s life can be totally destroyed while Shadey James Comey can Leak and Lie and make lots of… https://t.co/q1lyKyyeYI\n",
            "Sentiment(polarity=0.02500000000000001, subjectivity=0.625)\n",
            "------------\n",
            "James Comey Memos just out and show clearly that there was NO COLLUSION and NO OBSTRUCTION. Also, he leaked classif… https://t.co/YfMYBrTkza\n",
            "Sentiment(polarity=0.10000000000000002, subjectivity=0.3833333333333333)\n",
            "------------\n",
            "James Comey just threw Andrew McCabe “under the bus.” Inspector General’s Report on McCabe is a disaster for both o… https://t.co/EGXMB6QIkW\n",
            "Sentiment(polarity=0.05000000000000002, subjectivity=0.5)\n",
            "------------\n",
            "Sanctuary Cities released at least 142 Gang Members across the United States, making it easy for them to commit all… https://t.co/8HLBQXDCMJ\n",
            "Sentiment(polarity=0.06666666666666668, subjectivity=0.6166666666666667)\n",
            "------------\n",
            "My thoughts, prayers and condolences are with the families, friends and colleagues of the two @GCSOFlorida deputies… https://t.co/tgjwJuZNiO\n",
            "Sentiment(polarity=0.0, subjectivity=0.0)\n",
            "------------\n",
            "Mike Pompeo is outstanding. First in his class at West Point. A top student at Harvard Law School. A success at wha… https://t.co/L6ojtZ8lW8\n",
            "Sentiment(polarity=0.3875, subjectivity=0.4270833333333333)\n",
            "------------\n",
            "...Hopefully the Senate will not leave Washington until our Ambassadors, Judges and the people who make Washington… https://t.co/QdNusStstl\n",
            "Sentiment(polarity=0.0, subjectivity=0.0)\n",
            "------------\n",
            "Democrats are obstructing good (hopefully great) people wanting to give up a big portion of their life to work for… https://t.co/3bVTf4bSEk\n",
            "Sentiment(polarity=0.5, subjectivity=0.4833333333333334)\n",
            "------------\n",
            ".@MarshaBlackburn is a wonderful woman who has always been there when we have needed her. Great on the Military, Bo… https://t.co/ljbsW8m8k6\n",
            "Sentiment(polarity=0.5666666666666667, subjectivity=0.6166666666666667)\n",
            "------------\n",
            "THANK YOU #JIATFSouth, @Norad_Northcom, @southcomwatch and @DHSgov. Keep up the GREAT work! https://t.co/3v2uG6Jp1T\n",
            "Sentiment(polarity=1.0, subjectivity=0.75)\n",
            "------------\n",
            "Just arrived @NASKeyWest! Heading to a briefing with the Joint Interagency Task Force South, NORTHCOM and SOUTHCOM. https://t.co/r906IXnBcG\n",
            "Sentiment(polarity=0.0, subjectivity=0.0)\n",
            "------------\n",
            "Governor Jerry Brown announced he will deploy “up to 400 National Guard Troops” to do nothing. The crime rate in Ca… https://t.co/I1ag2ckky1\n",
            "Sentiment(polarity=0.0, subjectivity=0.0)\n",
            "------------\n",
            "Thank you San Diego County for defending the rule of law and supporting our lawsuit against California's illegal an… https://t.co/4mH0InRGwt\n",
            "Sentiment(polarity=-0.125, subjectivity=0.375)\n",
            "------------\n",
            "Great meeting with Prime Minister Abe of Japan, who has just left Florida. Talked in depth about North Korea, Milit… https://t.co/Tv1QmZN4IE\n",
            "Sentiment(polarity=0.4, subjectivity=0.375)\n",
            "------------\n",
            "It was my great honor to host my friend @JPN_PMO @AbeShinzo and his delegation at Mar-a-Lago for the past two days.… https://t.co/MjT3f7BAv3\n",
            "Sentiment(polarity=0.275, subjectivity=0.5)\n",
            "------------\n",
            "RT @StateDept: .@POTUS Trump thanks Prime Minister @AbeShinzo for his support, discusses U.S.-Japan cooperation on #NorthKorea, defense, an…\n",
            "Sentiment(polarity=0.2, subjectivity=0.2)\n",
            "------------\n",
            "Great working luncheon with U.S. and Japanese Delegations this afternoon! https://t.co/ywU2CEih8b\n",
            "Sentiment(polarity=0.4, subjectivity=0.375)\n",
            "------------\n",
            "Prime Minister @AbeShinzo of Japan and myself this morning building an even deeper and better relationship while pl… https://t.co/3paSdvrOWu\n",
            "Sentiment(polarity=0.5, subjectivity=0.5)\n",
            "------------\n",
            "Best wishes to Prime Minister @Netanyahu and all of the people of Israel on the 70th Anniversary of your Great Inde… https://t.co/xRwM6h8nfl\n",
            "Sentiment(polarity=0.9, subjectivity=0.525)\n",
            "------------\n",
            "Slippery James Comey, the worst FBI Director in history, was not fired because of the phony Russia investigation wh… https://t.co/iJO4tejdw6\n",
            "Sentiment(polarity=-1.0, subjectivity=1.0)\n",
            "------------\n",
            "Mike Pompeo met with Kim Jong Un in North Korea last week. Meeting went very smoothly and a good relationship was f… https://t.co/5zMrs47vF3\n",
            "Sentiment(polarity=0.4066666666666667, subjectivity=0.43888888888888894)\n",
            "------------\n",
            "A sketch years later about a nonexistent man. A total con job, playing the Fake News Media for Fools (but they know… https://t.co/EcZ0Hs5IJg\n",
            "Sentiment(polarity=-0.16666666666666666, subjectivity=0.5833333333333334)\n",
            "------------\n",
            "There is a Revolution going on in California. Soooo many Sanctuary areas want OUT of this ridiculous, crime infeste… https://t.co/hNQmJXQ0Zz\n",
            "Sentiment(polarity=0.08333333333333334, subjectivity=0.75)\n",
            "------------\n",
            "RT @AbeShinzo: フロリダに到着し、早速トランプ大統領との首脳会談に臨みました。今日は、大半を北朝鮮問題に費やし、非常に重要な点で認識を一致させることができました。\n",
            "「日本のために最善となるようベストを尽くす」\n",
            "トランプ大統領は、来る米朝首脳会談で拉致問題を取り上げ…\n",
            "Sentiment(polarity=0.0, subjectivity=0.0)\n",
            "------------\n",
            "RT @IvankaTrump: This year’s #TaxDay is the last time you’ll have to file your taxes through an outdated, broken system. #BYE-BYE https://t…\n",
            "Sentiment(polarity=-0.26666666666666666, subjectivity=0.3666666666666667)\n",
            "------------\n",
            "RT @realDonaldTrump: States and Cities throughout our Country are being cheated and treated so badly by online retailers. Very unfair to tr…\n",
            "Sentiment(polarity=-0.6749999999999999, subjectivity=0.8333333333333333)\n",
            "------------\n",
            "RT @realDonaldTrump: Today’s Court decision means that Congress must close loopholes that block the removal of dangerous criminal aliens, i…\n",
            "Sentiment(polarity=-0.5, subjectivity=0.7250000000000001)\n",
            "------------\n",
            "RT @realDonaldTrump: ....Congress – House and Senate must quickly pass a legislative fix to ensure violent criminal aliens can be removed f…\n",
            "Sentiment(polarity=-0.2888888888888889, subjectivity=0.6833333333333332)\n",
            "------------\n",
            "While Japan and South Korea would like us to go back into TPP, I don’t like the deal for the United States. Too man… https://t.co/IYwJhsGNsF\n",
            "Sentiment(polarity=0.0, subjectivity=0.0)\n",
            "------------\n",
            "Pastor Andrew Brunson, a fine gentleman and Christian leader in the United States, is on trial and being persecuted… https://t.co/NCEchahdPc\n",
            "Sentiment(polarity=0.20833333333333334, subjectivity=0.25)\n",
            "------------\n",
            "It is my great honor to host @JPN_PMO @AbeShinzo! https://t.co/QxMpCGRycF\n",
            "Sentiment(polarity=1.0, subjectivity=0.75)\n",
            "------------\n",
            ".@FLOTUS Melania and I join the Nation in celebrating the life of Barbara Bush: https://t.co/4OW72iddQx\n",
            "Sentiment(polarity=0.0, subjectivity=0.0)\n",
            "------------\n",
            "States and Cities throughout our Country are being cheated and treated so badly by online retailers. Very unfair to… https://t.co/CSLMfhPLLq\n",
            "Sentiment(polarity=-0.6749999999999999, subjectivity=0.8333333333333333)\n",
            "------------\n",
            "RT @IvankaTrump: Great to be with Secretary Mnuchin &amp; former Governor Sununu in Derry, NH on #TaxDay to highlight the tremendous benefits o…\n",
            "Sentiment(polarity=0.37777777777777777, subjectivity=0.5833333333333334)\n",
            "------------\n",
            "RT @FoxBusiness: WATCH LIVE: @IvankaTrump and @stevenmnuchin1 host tax event on Tax Day in New Hampshire. (Courtesy: WBZ) https://t.co/C3zr…\n",
            "Sentiment(polarity=0.13636363636363635, subjectivity=0.4772727272727273)\n",
            "------------\n",
            "....Congress – House and Senate must quickly pass a legislative fix to ensure violent criminal aliens can be remove… https://t.co/lwGag991ch\n",
            "Sentiment(polarity=-0.2888888888888889, subjectivity=0.6833333333333332)\n",
            "------------\n",
            "Today’s Court decision means that Congress must close loopholes that block the removal of dangerous criminal aliens… https://t.co/6W1sRzLH1f\n",
            "Sentiment(polarity=-0.5, subjectivity=0.7250000000000001)\n",
            "------------\n",
            "Welcome Prime Minister Abe! https://t.co/538EYyfWDq\n",
            "Sentiment(polarity=1.0, subjectivity=0.9)\n",
            "------------\n",
            "Rasmussen just came out at 51% Approval despite the Fake News Media. They were one of the three most accurate on El… https://t.co/PccBDzTejl\n",
            "Sentiment(polarity=0.13333333333333336, subjectivity=0.7111111111111111)\n",
            "------------\n",
            "Getting ready to meet Prime Minister Abe of Japan, a truly fine gentleman!\n",
            "Sentiment(polarity=0.3604166666666667, subjectivity=0.5)\n",
            "------------\n",
            "RT @NFIB: Our Optimism Index reached its 16th consecutive month in the top 5% of 45 years of survey readings – and it was the 1st time in 3…\n",
            "Sentiment(polarity=0.5, subjectivity=0.5)\n",
            "------------\n",
            "RT @VP: Thanks to the historic TRUMP TAX CUTS, today marks the last time the American people will file taxes under a complicated &amp; outdated…\n",
            "Sentiment(polarity=-0.06, subjectivity=0.2533333333333333)\n",
            "------------\n",
            "RT @RepKevinBrady: Starting next year, you will be able to file under the new tax law, which means MORE money in your pocket – all without…\n",
            "Sentiment(polarity=0.22727272727272724, subjectivity=0.3359090909090909)\n",
            "------------\n",
            "RT @WhiteHouse: Syrian President Bashar al-Assad’s April 7 attack on innocent civilians violated international law, the Chemical Weapons Co…\n",
            "Sentiment(polarity=0.25, subjectivity=0.35)\n",
            "------------\n",
            "RT @WhiteHouse: Out with the old, in with the new: tax cuts and reforms that look out for hardworking taxpayers ⬇️\n",
            "https://t.co/eEHFWkG8xm\n",
            "Sentiment(polarity=0.11818181818181818, subjectivity=0.32727272727272727)\n",
            "------------\n",
            "RT @WhiteHouse: President Trump's tax cuts will generate greater economic opportunities for all. https://t.co/kcTsLNN1Uu\n",
            "Sentiment(polarity=0.35, subjectivity=0.35)\n",
            "------------\n",
            "So many people are seeing the benefits of the Tax Cut Bill. Everyone is talking, really nice to see!\n",
            "Sentiment(polarity=0.625, subjectivity=0.75)\n",
            "------------\n",
            "Looks like Jerry Brown and California are not looking for safety and security along their very porous Border. He ca… https://t.co/ngO5hLiIWx\n",
            "Sentiment(polarity=0.2, subjectivity=0.3)\n",
            "------------\n",
            "I am in Florida and looking forward to my meeting with Prime Minister Abe of Japan. Working on Trade and Military Security.\n",
            "Sentiment(polarity=-0.1, subjectivity=0.1)\n",
            "------------\n",
            "Employment is up, Taxes are DOWN. Enjoy!\n",
            "Sentiment(polarity=0.17222222222222222, subjectivity=0.3944444444444445)\n",
            "------------\n",
            "RT @GOPChairwoman: Crumbs are still coming. #MAGA\n",
            "https://t.co/JFZL6czboZ\n",
            "Sentiment(polarity=0.0, subjectivity=0.0)\n",
            "------------\n",
            "RT @WaysandMeansGOP: Tomorrow is #TaxDay and the good news is this is the last year you will have to file using the old, broken code. Check…\n",
            "Sentiment(polarity=0.09999999999999998, subjectivity=0.31666666666666665)\n",
            "------------\n",
            "RT @IvankaTrump: Looking forward to traveling to Manchester, NH tomorrow with Sec @stevenmnuchin1 to celebrate the last #TaxDay under the o…\n",
            "Sentiment(polarity=-0.05, subjectivity=0.3333333333333333)\n",
            "------------\n",
            "RT @GOP: Our entire RNC family offers prayers of comfort and peace for Barbara Bush and the entire Bush family.\n",
            "Sentiment(polarity=0.03333333333333333, subjectivity=0.4166666666666667)\n",
            "------------\n",
            "RT @GOPChairwoman: Comey’s misconduct once led both Republicans and Democrats to call for his firing. His reputation rehabilitation book to…\n",
            "Sentiment(polarity=0.0, subjectivity=0.0)\n",
            "------------\n",
            "RT @GOPChairwoman: We’re in a prime position to defend our majorities in 2018. Let’s defy history. #MAGA #LeadRight\n",
            "https://t.co/fo8g0pSjWQ\n",
            "Sentiment(polarity=0.0, subjectivity=0.0)\n",
            "------------\n",
            "Russia and China are playing the Currency Devaluation game as the U.S. keeps raising interest rates. Not acceptable!\n",
            "Sentiment(polarity=-0.5, subjectivity=0.4)\n",
            "------------\n",
            "Comey drafted the Crooked Hillary exoneration long before he talked to her (lied in Congress to Senator G), then ba… https://t.co/X4GPSNm0KK\n",
            "Sentiment(polarity=-0.025, subjectivity=0.25)\n",
            "------------\n",
            "Just hit 50% in the Rasmussen Poll, much higher than President Obama at same point. With all of the phony stories a… https://t.co/J2tMvPcCtK\n",
            "Sentiment(polarity=0.125, subjectivity=0.3125)\n",
            "------------\n",
            "Slippery James Comey, a man who always ends up badly and out of whack (he is not smart!), will go down as the WORST… https://t.co/YSTiN7oLWq\n",
            "Sentiment(polarity=-0.32982804232804225, subjectivity=0.5328042328042328)\n",
            "------------\n",
            "Attorney Client privilege is now a thing of the past. I have many (too many!) lawyers and they are probably wonderi… https://t.co/pnYvIGR8Tw\n",
            "Sentiment(polarity=0.2916666666666667, subjectivity=0.4166666666666667)\n",
            "------------\n",
            "I never asked Comey for Personal Loyalty. I hardly even knew this guy. Just another of his many lies. His “memos” are self serving and FAKE!\n",
            "Sentiment(polarity=-0.10416666666666667, subjectivity=0.5854166666666667)\n",
            "------------\n",
            "The Syrian raid was so perfectly carried out, with such precision, that the only way the Fake News Media could deme… https://t.co/PVFzvasea5\n",
            "Sentiment(polarity=0.125, subjectivity=0.875)\n",
            "------------\n",
            "Comey throws AG Lynch “under the bus!” Why can’t we all find out what happened on the tarmac in the back of the pla… https://t.co/54vPnoqxsl\n",
            "Sentiment(polarity=0.0, subjectivity=0.0)\n",
            "------------\n",
            "The big questions in Comey’s badly reviewed book aren’t answered like, how come he gave up Classified Information (… https://t.co/rTrDHRqD5S\n",
            "Sentiment(polarity=-0.3499999999999999, subjectivity=0.3833333333333333)\n",
            "------------\n",
            "Unbelievably, James Comey states that Polls, where Crooked Hillary was leading, were a factor in the handling (stup… https://t.co/0WH4arK3ft\n",
            "Sentiment(polarity=-0.125, subjectivity=0.55)\n",
            "------------\n",
            "RT @realDonaldTrump: So proud of our great Military which will soon be, after the spending of billions of fully approved dollars, the fines…\n",
            "Sentiment(polarity=0.5, subjectivity=0.6166666666666667)\n",
            "------------\n",
            "RT @nikkihaley: https://t.co/oO3wIKolMy\n",
            "Sentiment(polarity=0.0, subjectivity=0.0)\n",
            "------------\n",
            "So proud of our great Military which will soon be, after the spending of billions of fully approved dollars, the fi… https://t.co/kZ5qqY35s1\n",
            "Sentiment(polarity=0.5, subjectivity=0.6166666666666667)\n",
            "------------\n",
            "A perfectly executed strike last night. Thank you to France and the United Kingdom for their wisdom and the power o… https://t.co/oIPJVo3zQn\n",
            "Sentiment(polarity=0.5, subjectivity=0.5333333333333333)\n",
            "------------\n",
            "https://t.co/6VLQYAlcto\n",
            "Sentiment(polarity=0.0, subjectivity=0.0)\n",
            "------------\n",
            "DOJ just issued the McCabe report - which is a total disaster. He LIED! LIED! LIED! McCabe was totally controlled b… https://t.co/gK2Zjw6HyE\n",
            "Sentiment(polarity=0.0, subjectivity=0.75)\n",
            "------------\n",
            "We are bringing back our factories, we are bringing back our jobs, and we are bringing back those four beautiful wo… https://t.co/nxiHk4sZZr\n",
            "Sentiment(polarity=0.2125, subjectivity=0.25)\n",
            "------------\n",
            "....untruthful slime ball who was, as time has proven, a terrible Director of the FBI. His handling of the Crooked… https://t.co/GHQzyOWUT5\n",
            "Sentiment(polarity=-1.0, subjectivity=1.0)\n",
            "------------\n",
            "James Comey is a proven LEAKER &amp; LIAR. Virtually everyone in Washington thought he should be fired for the terrible… https://t.co/qKF0zshrZy\n",
            "Sentiment(polarity=0.0, subjectivity=0.0)\n",
            "------------\n",
            "Tremendous pressure is building, like never before, for the Border Wall and an end to crime cradling Sanctuary Citi… https://t.co/WSvff6EI9G\n",
            "Sentiment(polarity=0.3333333333333333, subjectivity=1.0)\n",
            "------------\n",
            "Would only join TPP if the deal were substantially better than the deal offered to Pres. Obama. We already have BIL… https://t.co/OxSaor5rl3\n",
            "Sentiment(polarity=0.25, subjectivity=0.75)\n",
            "------------\n",
            "America’s greatest treasure is our people – and my Administration HEARS YOUR VOICE and HAS YOUR BACK. We are fighti… https://t.co/rkCWxcovmg\n",
            "Sentiment(polarity=0.5, subjectivity=0.5)\n",
            "------------\n",
            "Thank you to all of the American workers who travelled here today! This event is dedicated to YOU: the hardworking… https://t.co/SQmpmS7Rvs\n",
            "Sentiment(polarity=0.0, subjectivity=0.0)\n",
            "------------\n",
            "I have agreed with the historically cooperative, disciplined approach that we have engaged in with Robert Mueller (… https://t.co/yjSuYhmzJb\n",
            "Sentiment(polarity=0.0, subjectivity=0.0)\n",
            "------------\n",
            "On Yom HaShoah we remember the six million Jews slaughtered in the Holocaust. With each passing year, our duty to r… https://t.co/yZ0pleVvDm\n",
            "Sentiment(polarity=0.0, subjectivity=0.0)\n",
            "------------\n"
          ],
          "name": "stdout"
        }
      ]
    },
    {
      "metadata": {
        "id": "6UfJFS7FrA2n",
        "colab_type": "code",
        "colab": {}
      },
      "cell_type": "code",
      "source": [
        "#api.lookup_friendships(screen_names = '@myself_dj')"
      ],
      "execution_count": 0,
      "outputs": []
    },
    {
      "metadata": {
        "id": "XVNg9pDdv5Bi",
        "colab_type": "code",
        "colab": {
          "base_uri": "https://localhost:8080/",
          "height": 71
        },
        "outputId": "0e452258-4545-4d74-ef54-5e8289da26eb"
      },
      "cell_type": "code",
      "source": [
        "api.show_friendship(source_screen_name = '@BarackObama' , target_screen_name = '@realDonaldTrump')"
      ],
      "execution_count": 14,
      "outputs": [
        {
          "output_type": "execute_result",
          "data": {
            "text/plain": [
              "(Friendship(_api=<tweepy.api.API object at 0x7fad7a87bb90>, followed_by=False, screen_name=u'BarackObama', blocked_by=None, all_replies=None, muting=None, notifications_enabled=None, live_following=False, id=813286, can_dm=False, marked_spam=None, id_str=u'813286', following=False, want_retweets=None, following_received=None, blocking=None, following_requested=None),\n",
              " Friendship(_api=<tweepy.api.API object at 0x7fad7a87bb90>, screen_name=u'realDonaldTrump', followed_by=False, id_str=u'25073877', following=False, following_received=None, id=25073877, following_requested=None))"
            ]
          },
          "metadata": {
            "tags": []
          },
          "execution_count": 14
        }
      ]
    },
    {
      "metadata": {
        "id": "utIPEY2g0xw2",
        "colab_type": "code",
        "colab": {}
      },
      "cell_type": "code",
      "source": [
        "ide = []\n",
        "name = []\n",
        "for i in tweepy.Cursor(api.followers_ids , screen_names = '@myself_dj').pages():\n",
        "  ide.extend(i)\n",
        "  for user in api.lookup_users(user_ids = ide):\n",
        "    name.append(user.screen_name)\n",
        "    name.append(user.followers_count)"
      ],
      "execution_count": 0,
      "outputs": []
    },
    {
      "metadata": {
        "id": "cYFWbcDG1gtl",
        "colab_type": "code",
        "colab": {
          "base_uri": "https://localhost:8080/",
          "height": 353
        },
        "outputId": "b05def5c-0ed7-41d5-a1da-981b983dc598"
      },
      "cell_type": "code",
      "source": [
        "name\n"
      ],
      "execution_count": 65,
      "outputs": [
        {
          "output_type": "execute_result",
          "data": {
            "text/plain": [
              "[u'saarthaksnghl',\n",
              " 3,\n",
              " u'shivam17sharma',\n",
              " 7,\n",
              " u'MDShababKhan1',\n",
              " 8,\n",
              " u'R39816355',\n",
              " 4,\n",
              " u'_parth____',\n",
              " 20,\n",
              " u'HarshitRajpal14',\n",
              " 61,\n",
              " u'iamstarkyy',\n",
              " 10,\n",
              " u'sakshi28tyagi',\n",
              " 16,\n",
              " u'WattpadForum',\n",
              " 3315,\n",
              " u'myself_ap',\n",
              " 221]"
            ]
          },
          "metadata": {
            "tags": []
          },
          "execution_count": 65
        }
      ]
    },
    {
      "metadata": {
        "id": "38e0usAX1peR",
        "colab_type": "code",
        "colab": {
          "base_uri": "https://localhost:8080/",
          "height": 205
        },
        "outputId": "a60e24cb-820a-43d9-fc3d-a4e472645eb1"
      },
      "cell_type": "code",
      "source": [
        "api.lookup_users(user_ids = ide)"
      ],
      "execution_count": 68,
      "outputs": [
        {
          "output_type": "execute_result",
          "data": {
            "text/plain": [
              "[User(follow_request_sent=False, has_extended_profile=True, profile_use_background_image=True, _json={u'follow_request_sent': False, u'has_extended_profile': True, u'profile_use_background_image': True, u'default_profile_image': False, u'id': 309615635, u'profile_background_image_url_https': u'https://abs.twimg.com/images/themes/theme1/bg.png', u'verified': False, u'translator_type': u'none', u'profile_text_color': u'333333', u'profile_image_url_https': u'https://pbs.twimg.com/profile_images/378800000450635576/53300280c9bc295ef6a19f61d759f7f1_normal.jpeg', u'profile_sidebar_fill_color': u'DDEEF6', u'entities': {u'description': {u'urls': []}}, u'followers_count': 3, u'profile_sidebar_border_color': u'C0DEED', u'id_str': u'309615635', u'profile_background_color': u'C0DEED', u'listed_count': 0, u'status': {u'contributors': None, u'truncated': False, u'text': u'BB10:I predicted the winner on BB10. You too can. #BB10GrandFinale https://t.co/NiNHsatCO3 https://t.co/hZYzUWZVX4', u'is_quote_status': False, u'in_reply_to_status_id': None, u'id': 825765334993006592, u'favorite_count': 0, u'source': u'<a href=\"http://twitter.com/download/android\" rel=\"nofollow\">Twitter for Android</a>', u'retweeted': False, u'coordinates': None, u'entities': {u'symbols': [], u'user_mentions': [], u'hashtags': [{u'indices': [50, 66], u'text': u'BB10GrandFinale'}], u'urls': [{u'url': u'https://t.co/NiNHsatCO3', u'indices': [67, 90], u'expanded_url': u'http://colorstv.com/app/', u'display_url': u'colorstv.com/app/'}], u'media': [{u'expanded_url': u'https://twitter.com/saarthaksnghl/status/825765334993006592/photo/1', u'display_url': u'pic.twitter.com/hZYzUWZVX4', u'url': u'https://t.co/hZYzUWZVX4', u'media_url_https': u'https://pbs.twimg.com/media/C3W1LkoWEAEvI6W.jpg', u'id_str': u'825765317108436993', u'sizes': {u'large': {u'h': 1066, u'resize': u'fit', u'w': 600}, u'small': {u'h': 680, u'resize': u'fit', u'w': 383}, u'medium': {u'h': 1066, u'resize': u'fit', u'w': 600}, u'thumb': {u'h': 150, u'resize': u'crop', u'w': 150}}, u'indices': [91, 114], u'type': u'photo', u'id': 825765317108436993, u'media_url': u'http://pbs.twimg.com/media/C3W1LkoWEAEvI6W.jpg'}]}, u'in_reply_to_screen_name': None, u'in_reply_to_user_id': None, u'retweet_count': 0, u'id_str': u'825765334993006592', u'favorited': False, u'geo': None, u'in_reply_to_user_id_str': None, u'possibly_sensitive': False, u'lang': u'en', u'created_at': u'Sun Jan 29 17:59:32 +0000 2017', u'in_reply_to_status_id_str': None, u'place': None, u'extended_entities': {u'media': [{u'expanded_url': u'https://twitter.com/saarthaksnghl/status/825765334993006592/photo/1', u'display_url': u'pic.twitter.com/hZYzUWZVX4', u'url': u'https://t.co/hZYzUWZVX4', u'media_url_https': u'https://pbs.twimg.com/media/C3W1LkoWEAEvI6W.jpg', u'id_str': u'825765317108436993', u'sizes': {u'large': {u'h': 1066, u'resize': u'fit', u'w': 600}, u'small': {u'h': 680, u'resize': u'fit', u'w': 383}, u'medium': {u'h': 1066, u'resize': u'fit', u'w': 600}, u'thumb': {u'h': 150, u'resize': u'crop', u'w': 150}}, u'indices': [91, 114], u'type': u'photo', u'id': 825765317108436993, u'media_url': u'http://pbs.twimg.com/media/C3W1LkoWEAEvI6W.jpg'}]}}, u'is_translation_enabled': False, u'utc_offset': -36000, u'statuses_count': 3, u'description': u'', u'friends_count': 12, u'location': u'', u'profile_link_color': u'1DA1F2', u'profile_image_url': u'http://pbs.twimg.com/profile_images/378800000450635576/53300280c9bc295ef6a19f61d759f7f1_normal.jpeg', u'following': False, u'geo_enabled': False, u'profile_banner_url': u'https://pbs.twimg.com/profile_banners/309615635/1379061497', u'profile_background_image_url': u'http://abs.twimg.com/images/themes/theme1/bg.png', u'screen_name': u'saarthaksnghl', u'lang': u'en', u'profile_background_tile': False, u'favourites_count': 0, u'name': u'snghlsarthak', u'notifications': False, u'url': None, u'created_at': u'Thu Jun 02 11:29:47 +0000 2011', u'contributors_enabled': False, u'time_zone': u'Hawaii', u'protected': False, u'default_profile': True, u'is_translator': False}, time_zone=u'Hawaii', id=309615635, description=u'', _api=<tweepy.api.API object at 0x7fad7a87bb90>, verified=False, profile_text_color=u'333333', profile_image_url_https=u'https://pbs.twimg.com/profile_images/378800000450635576/53300280c9bc295ef6a19f61d759f7f1_normal.jpeg', profile_sidebar_fill_color=u'DDEEF6', is_translator=False, geo_enabled=False, entities={u'description': {u'urls': []}}, followers_count=3, protected=False, id_str=u'309615635', default_profile_image=False, listed_count=0, status=Status(contributors=None, truncated=False, text=u'BB10:I predicted the winner on BB10. You too can. #BB10GrandFinale https://t.co/NiNHsatCO3 https://t.co/hZYzUWZVX4', is_quote_status=False, in_reply_to_status_id=None, id=825765334993006592, favorite_count=0, _api=<tweepy.api.API object at 0x7fad7a87bb90>, source=u'Twitter for Android', _json={u'contributors': None, u'truncated': False, u'text': u'BB10:I predicted the winner on BB10. You too can. #BB10GrandFinale https://t.co/NiNHsatCO3 https://t.co/hZYzUWZVX4', u'is_quote_status': False, u'in_reply_to_status_id': None, u'id': 825765334993006592, u'favorite_count': 0, u'source': u'<a href=\"http://twitter.com/download/android\" rel=\"nofollow\">Twitter for Android</a>', u'retweeted': False, u'coordinates': None, u'entities': {u'symbols': [], u'user_mentions': [], u'hashtags': [{u'indices': [50, 66], u'text': u'BB10GrandFinale'}], u'urls': [{u'url': u'https://t.co/NiNHsatCO3', u'indices': [67, 90], u'expanded_url': u'http://colorstv.com/app/', u'display_url': u'colorstv.com/app/'}], u'media': [{u'expanded_url': u'https://twitter.com/saarthaksnghl/status/825765334993006592/photo/1', u'display_url': u'pic.twitter.com/hZYzUWZVX4', u'url': u'https://t.co/hZYzUWZVX4', u'media_url_https': u'https://pbs.twimg.com/media/C3W1LkoWEAEvI6W.jpg', u'id_str': u'825765317108436993', u'sizes': {u'large': {u'h': 1066, u'resize': u'fit', u'w': 600}, u'small': {u'h': 680, u'resize': u'fit', u'w': 383}, u'medium': {u'h': 1066, u'resize': u'fit', u'w': 600}, u'thumb': {u'h': 150, u'resize': u'crop', u'w': 150}}, u'indices': [91, 114], u'type': u'photo', u'id': 825765317108436993, u'media_url': u'http://pbs.twimg.com/media/C3W1LkoWEAEvI6W.jpg'}]}, u'in_reply_to_screen_name': None, u'in_reply_to_user_id': None, u'retweet_count': 0, u'id_str': u'825765334993006592', u'favorited': False, u'geo': None, u'in_reply_to_user_id_str': None, u'possibly_sensitive': False, u'lang': u'en', u'created_at': u'Sun Jan 29 17:59:32 +0000 2017', u'in_reply_to_status_id_str': None, u'place': None, u'extended_entities': {u'media': [{u'expanded_url': u'https://twitter.com/saarthaksnghl/status/825765334993006592/photo/1', u'display_url': u'pic.twitter.com/hZYzUWZVX4', u'url': u'https://t.co/hZYzUWZVX4', u'media_url_https': u'https://pbs.twimg.com/media/C3W1LkoWEAEvI6W.jpg', u'id_str': u'825765317108436993', u'sizes': {u'large': {u'h': 1066, u'resize': u'fit', u'w': 600}, u'small': {u'h': 680, u'resize': u'fit', u'w': 383}, u'medium': {u'h': 1066, u'resize': u'fit', u'w': 600}, u'thumb': {u'h': 150, u'resize': u'crop', u'w': 150}}, u'indices': [91, 114], u'type': u'photo', u'id': 825765317108436993, u'media_url': u'http://pbs.twimg.com/media/C3W1LkoWEAEvI6W.jpg'}]}}, coordinates=None, entities={u'symbols': [], u'user_mentions': [], u'hashtags': [{u'indices': [50, 66], u'text': u'BB10GrandFinale'}], u'urls': [{u'url': u'https://t.co/NiNHsatCO3', u'indices': [67, 90], u'expanded_url': u'http://colorstv.com/app/', u'display_url': u'colorstv.com/app/'}], u'media': [{u'expanded_url': u'https://twitter.com/saarthaksnghl/status/825765334993006592/photo/1', u'display_url': u'pic.twitter.com/hZYzUWZVX4', u'url': u'https://t.co/hZYzUWZVX4', u'media_url_https': u'https://pbs.twimg.com/media/C3W1LkoWEAEvI6W.jpg', u'id_str': u'825765317108436993', u'sizes': {u'large': {u'h': 1066, u'resize': u'fit', u'w': 600}, u'small': {u'h': 680, u'resize': u'fit', u'w': 383}, u'medium': {u'h': 1066, u'resize': u'fit', u'w': 600}, u'thumb': {u'h': 150, u'resize': u'crop', u'w': 150}}, u'indices': [91, 114], u'type': u'photo', u'id': 825765317108436993, u'media_url': u'http://pbs.twimg.com/media/C3W1LkoWEAEvI6W.jpg'}]}, in_reply_to_screen_name=None, id_str=u'825765334993006592', retweet_count=0, in_reply_to_user_id=None, favorited=False, source_url=u'http://twitter.com/download/android', geo=None, in_reply_to_user_id_str=None, possibly_sensitive=False, lang=u'en', created_at=datetime.datetime(2017, 1, 29, 17, 59, 32), in_reply_to_status_id_str=None, place=None, extended_entities={u'media': [{u'expanded_url': u'https://twitter.com/saarthaksnghl/status/825765334993006592/photo/1', u'display_url': u'pic.twitter.com/hZYzUWZVX4', u'url': u'https://t.co/hZYzUWZVX4', u'media_url_https': u'https://pbs.twimg.com/media/C3W1LkoWEAEvI6W.jpg', u'id_str': u'825765317108436993', u'sizes': {u'large': {u'h': 1066, u'resize': u'fit', u'w': 600}, u'small': {u'h': 680, u'resize': u'fit', u'w': 383}, u'medium': {u'h': 1066, u'resize': u'fit', u'w': 600}, u'thumb': {u'h': 150, u'resize': u'crop', u'w': 150}}, u'indices': [91, 114], u'type': u'photo', u'id': 825765317108436993, u'media_url': u'http://pbs.twimg.com/media/C3W1LkoWEAEvI6W.jpg'}]}, retweeted=False), lang=u'en', utc_offset=-36000, statuses_count=3, profile_background_color=u'C0DEED', friends_count=12, profile_link_color=u'1DA1F2', profile_image_url=u'http://pbs.twimg.com/profile_images/378800000450635576/53300280c9bc295ef6a19f61d759f7f1_normal.jpeg', notifications=False, default_profile=True, profile_background_image_url_https=u'https://abs.twimg.com/images/themes/theme1/bg.png', profile_banner_url=u'https://pbs.twimg.com/profile_banners/309615635/1379061497', profile_background_image_url=u'http://abs.twimg.com/images/themes/theme1/bg.png', name=u'snghlsarthak', is_translation_enabled=False, profile_background_tile=False, favourites_count=0, screen_name=u'saarthaksnghl', url=None, created_at=datetime.datetime(2011, 6, 2, 11, 29, 47), contributors_enabled=False, location=u'', profile_sidebar_border_color=u'C0DEED', translator_type=u'none', following=False),\n",
              " User(follow_request_sent=False, has_extended_profile=True, profile_use_background_image=True, _json={u'follow_request_sent': False, u'has_extended_profile': True, u'profile_use_background_image': True, u'default_profile_image': False, u'id': 3287543203, u'profile_background_image_url_https': u'https://abs.twimg.com/images/themes/theme1/bg.png', u'verified': False, u'translator_type': u'none', u'profile_text_color': u'333333', u'profile_image_url_https': u'https://pbs.twimg.com/profile_images/967625926275149824/Ix_MYjQL_normal.jpg', u'profile_sidebar_fill_color': u'DDEEF6', u'entities': {u'description': {u'urls': []}}, u'followers_count': 7, u'profile_sidebar_border_color': u'C0DEED', u'id_str': u'3287543203', u'profile_background_color': u'C0DEED', u'listed_count': 0, u'status': {u'contributors': None, u'truncated': False, u'text': u'RT @ndtv: This is a breaking news alert. More details to follow.  #BreakingNews #NDTVNews https://t.co/d9vKqNXjdM', u'is_quote_status': False, u'in_reply_to_status_id': None, u'id': 870414813477851136, u'favorite_count': 0, u'source': u'<a href=\"http://twitter.com/download/android\" rel=\"nofollow\">Twitter for Android</a>', u'retweeted': False, u'coordinates': None, u'entities': {u'symbols': [], u'user_mentions': [{u'id': 37034483, u'indices': [3, 8], u'id_str': u'37034483', u'screen_name': u'ndtv', u'name': u'NDTV'}], u'hashtags': [{u'indices': [66, 79], u'text': u'BreakingNews'}, {u'indices': [80, 89], u'text': u'NDTVNews'}], u'urls': [], u'media': [{u'source_user_id': 37034483, u'source_status_id_str': u'870414507176206336', u'expanded_url': u'https://twitter.com/ndtv/status/870414507176206336/photo/1', u'display_url': u'pic.twitter.com/d9vKqNXjdM', u'url': u'https://t.co/d9vKqNXjdM', u'media_url_https': u'https://pbs.twimg.com/media/DBRVYSUV0AAGz5u.jpg', u'source_user_id_str': u'37034483', u'source_status_id': 870414507176206336, u'id_str': u'870414503711723520', u'sizes': {u'large': {u'h': 262, u'resize': u'fit', u'w': 525}, u'small': {u'h': 262, u'resize': u'fit', u'w': 525}, u'medium': {u'h': 262, u'resize': u'fit', u'w': 525}, u'thumb': {u'h': 150, u'resize': u'crop', u'w': 150}}, u'indices': [90, 113], u'type': u'photo', u'id': 870414503711723520, u'media_url': u'http://pbs.twimg.com/media/DBRVYSUV0AAGz5u.jpg'}]}, u'in_reply_to_screen_name': None, u'in_reply_to_user_id': None, u'retweet_count': 68, u'id_str': u'870414813477851136', u'favorited': False, u'retweeted_status': {u'contributors': None, u'truncated': False, u'text': u'This is a breaking news alert. More details to follow.  #BreakingNews #NDTVNews https://t.co/d9vKqNXjdM', u'is_quote_status': False, u'in_reply_to_status_id': None, u'id': 870414507176206336, u'favorite_count': 73, u'source': u'<a href=\"http://www.graphity.in\" rel=\"nofollow\">GraphityCampaignNDTV</a>', u'retweeted': False, u'coordinates': None, u'entities': {u'symbols': [], u'user_mentions': [], u'hashtags': [{u'indices': [56, 69], u'text': u'BreakingNews'}, {u'indices': [70, 79], u'text': u'NDTVNews'}], u'urls': [], u'media': [{u'expanded_url': u'https://twitter.com/ndtv/status/870414507176206336/photo/1', u'display_url': u'pic.twitter.com/d9vKqNXjdM', u'url': u'https://t.co/d9vKqNXjdM', u'media_url_https': u'https://pbs.twimg.com/media/DBRVYSUV0AAGz5u.jpg', u'id_str': u'870414503711723520', u'sizes': {u'large': {u'h': 262, u'resize': u'fit', u'w': 525}, u'small': {u'h': 262, u'resize': u'fit', u'w': 525}, u'medium': {u'h': 262, u'resize': u'fit', u'w': 525}, u'thumb': {u'h': 150, u'resize': u'crop', u'w': 150}}, u'indices': [80, 103], u'type': u'photo', u'id': 870414503711723520, u'media_url': u'http://pbs.twimg.com/media/DBRVYSUV0AAGz5u.jpg'}]}, u'in_reply_to_screen_name': None, u'in_reply_to_user_id': None, u'retweet_count': 68, u'id_str': u'870414507176206336', u'favorited': False, u'geo': None, u'in_reply_to_user_id_str': None, u'possibly_sensitive': False, u'lang': u'en', u'created_at': u'Thu Jun 01 22:59:24 +0000 2017', u'in_reply_to_status_id_str': None, u'place': None, u'extended_entities': {u'media': [{u'expanded_url': u'https://twitter.com/ndtv/status/870414507176206336/photo/1', u'display_url': u'pic.twitter.com/d9vKqNXjdM', u'url': u'https://t.co/d9vKqNXjdM', u'media_url_https': u'https://pbs.twimg.com/media/DBRVYSUV0AAGz5u.jpg', u'id_str': u'870414503711723520', u'sizes': {u'large': {u'h': 262, u'resize': u'fit', u'w': 525}, u'small': {u'h': 262, u'resize': u'fit', u'w': 525}, u'medium': {u'h': 262, u'resize': u'fit', u'w': 525}, u'thumb': {u'h': 150, u'resize': u'crop', u'w': 150}}, u'indices': [80, 103], u'type': u'photo', u'id': 870414503711723520, u'media_url': u'http://pbs.twimg.com/media/DBRVYSUV0AAGz5u.jpg'}]}}, u'geo': None, u'in_reply_to_user_id_str': None, u'possibly_sensitive': False, u'lang': u'en', u'created_at': u'Thu Jun 01 23:00:37 +0000 2017', u'in_reply_to_status_id_str': None, u'place': None, u'extended_entities': {u'media': [{u'source_user_id': 37034483, u'source_status_id_str': u'870414507176206336', u'expanded_url': u'https://twitter.com/ndtv/status/870414507176206336/photo/1', u'display_url': u'pic.twitter.com/d9vKqNXjdM', u'url': u'https://t.co/d9vKqNXjdM', u'media_url_https': u'https://pbs.twimg.com/media/DBRVYSUV0AAGz5u.jpg', u'source_user_id_str': u'37034483', u'source_status_id': 870414507176206336, u'id_str': u'870414503711723520', u'sizes': {u'large': {u'h': 262, u'resize': u'fit', u'w': 525}, u'small': {u'h': 262, u'resize': u'fit', u'w': 525}, u'medium': {u'h': 262, u'resize': u'fit', u'w': 525}, u'thumb': {u'h': 150, u'resize': u'crop', u'w': 150}}, u'indices': [90, 113], u'type': u'photo', u'id': 870414503711723520, u'media_url': u'http://pbs.twimg.com/media/DBRVYSUV0AAGz5u.jpg'}]}}, u'is_translation_enabled': False, u'utc_offset': None, u'statuses_count': 3, u'description': u'', u'friends_count': 133, u'location': u'', u'profile_link_color': u'1DA1F2', u'profile_image_url': u'http://pbs.twimg.com/profile_images/967625926275149824/Ix_MYjQL_normal.jpg', u'following': False, u'geo_enabled': False, u'profile_background_image_url': u'http://abs.twimg.com/images/themes/theme1/bg.png', u'screen_name': u'shivam17sharma', u'lang': u'en', u'profile_background_tile': False, u'favourites_count': 15, u'name': u'Shivam Sharma', u'notifications': False, u'url': None, u'created_at': u'Wed Jul 22 11:53:02 +0000 2015', u'contributors_enabled': False, u'time_zone': None, u'protected': False, u'default_profile': True, u'is_translator': False}, time_zone=None, id=3287543203, description=u'', _api=<tweepy.api.API object at 0x7fad7a87bb90>, verified=False, profile_text_color=u'333333', profile_image_url_https=u'https://pbs.twimg.com/profile_images/967625926275149824/Ix_MYjQL_normal.jpg', profile_sidebar_fill_color=u'DDEEF6', is_translator=False, geo_enabled=False, entities={u'description': {u'urls': []}}, followers_count=7, protected=False, id_str=u'3287543203', default_profile_image=False, listed_count=0, status=Status(contributors=None, truncated=False, text=u'RT @ndtv: This is a breaking news alert. More details to follow.  #BreakingNews #NDTVNews https://t.co/d9vKqNXjdM', is_quote_status=False, in_reply_to_status_id=None, id=870414813477851136, favorite_count=0, _api=<tweepy.api.API object at 0x7fad7a87bb90>, source=u'Twitter for Android', _json={u'contributors': None, u'truncated': False, u'text': u'RT @ndtv: This is a breaking news alert. More details to follow.  #BreakingNews #NDTVNews https://t.co/d9vKqNXjdM', u'is_quote_status': False, u'in_reply_to_status_id': None, u'id': 870414813477851136, u'favorite_count': 0, u'source': u'<a href=\"http://twitter.com/download/android\" rel=\"nofollow\">Twitter for Android</a>', u'retweeted': False, u'coordinates': None, u'entities': {u'symbols': [], u'user_mentions': [{u'id': 37034483, u'indices': [3, 8], u'id_str': u'37034483', u'screen_name': u'ndtv', u'name': u'NDTV'}], u'hashtags': [{u'indices': [66, 79], u'text': u'BreakingNews'}, {u'indices': [80, 89], u'text': u'NDTVNews'}], u'urls': [], u'media': [{u'source_user_id': 37034483, u'source_status_id_str': u'870414507176206336', u'expanded_url': u'https://twitter.com/ndtv/status/870414507176206336/photo/1', u'display_url': u'pic.twitter.com/d9vKqNXjdM', u'url': u'https://t.co/d9vKqNXjdM', u'media_url_https': u'https://pbs.twimg.com/media/DBRVYSUV0AAGz5u.jpg', u'source_user_id_str': u'37034483', u'source_status_id': 870414507176206336, u'id_str': u'870414503711723520', u'sizes': {u'large': {u'h': 262, u'resize': u'fit', u'w': 525}, u'small': {u'h': 262, u'resize': u'fit', u'w': 525}, u'medium': {u'h': 262, u'resize': u'fit', u'w': 525}, u'thumb': {u'h': 150, u'resize': u'crop', u'w': 150}}, u'indices': [90, 113], u'type': u'photo', u'id': 870414503711723520, u'media_url': u'http://pbs.twimg.com/media/DBRVYSUV0AAGz5u.jpg'}]}, u'in_reply_to_screen_name': None, u'in_reply_to_user_id': None, u'retweet_count': 68, u'id_str': u'870414813477851136', u'favorited': False, u'retweeted_status': {u'contributors': None, u'truncated': False, u'text': u'This is a breaking news alert. More details to follow.  #BreakingNews #NDTVNews https://t.co/d9vKqNXjdM', u'is_quote_status': False, u'in_reply_to_status_id': None, u'id': 870414507176206336, u'favorite_count': 73, u'source': u'<a href=\"http://www.graphity.in\" rel=\"nofollow\">GraphityCampaignNDTV</a>', u'retweeted': False, u'coordinates': None, u'entities': {u'symbols': [], u'user_mentions': [], u'hashtags': [{u'indices': [56, 69], u'text': u'BreakingNews'}, {u'indices': [70, 79], u'text': u'NDTVNews'}], u'urls': [], u'media': [{u'expanded_url': u'https://twitter.com/ndtv/status/870414507176206336/photo/1', u'display_url': u'pic.twitter.com/d9vKqNXjdM', u'url': u'https://t.co/d9vKqNXjdM', u'media_url_https': u'https://pbs.twimg.com/media/DBRVYSUV0AAGz5u.jpg', u'id_str': u'870414503711723520', u'sizes': {u'large': {u'h': 262, u'resize': u'fit', u'w': 525}, u'small': {u'h': 262, u'resize': u'fit', u'w': 525}, u'medium': {u'h': 262, u'resize': u'fit', u'w': 525}, u'thumb': {u'h': 150, u'resize': u'crop', u'w': 150}}, u'indices': [80, 103], u'type': u'photo', u'id': 870414503711723520, u'media_url': u'http://pbs.twimg.com/media/DBRVYSUV0AAGz5u.jpg'}]}, u'in_reply_to_screen_name': None, u'in_reply_to_user_id': None, u'retweet_count': 68, u'id_str': u'870414507176206336', u'favorited': False, u'geo': None, u'in_reply_to_user_id_str': None, u'possibly_sensitive': False, u'lang': u'en', u'created_at': u'Thu Jun 01 22:59:24 +0000 2017', u'in_reply_to_status_id_str': None, u'place': None, u'extended_entities': {u'media': [{u'expanded_url': u'https://twitter.com/ndtv/status/870414507176206336/photo/1', u'display_url': u'pic.twitter.com/d9vKqNXjdM', u'url': u'https://t.co/d9vKqNXjdM', u'media_url_https': u'https://pbs.twimg.com/media/DBRVYSUV0AAGz5u.jpg', u'id_str': u'870414503711723520', u'sizes': {u'large': {u'h': 262, u'resize': u'fit', u'w': 525}, u'small': {u'h': 262, u'resize': u'fit', u'w': 525}, u'medium': {u'h': 262, u'resize': u'fit', u'w': 525}, u'thumb': {u'h': 150, u'resize': u'crop', u'w': 150}}, u'indices': [80, 103], u'type': u'photo', u'id': 870414503711723520, u'media_url': u'http://pbs.twimg.com/media/DBRVYSUV0AAGz5u.jpg'}]}}, u'geo': None, u'in_reply_to_user_id_str': None, u'possibly_sensitive': False, u'lang': u'en', u'created_at': u'Thu Jun 01 23:00:37 +0000 2017', u'in_reply_to_status_id_str': None, u'place': None, u'extended_entities': {u'media': [{u'source_user_id': 37034483, u'source_status_id_str': u'870414507176206336', u'expanded_url': u'https://twitter.com/ndtv/status/870414507176206336/photo/1', u'display_url': u'pic.twitter.com/d9vKqNXjdM', u'url': u'https://t.co/d9vKqNXjdM', u'media_url_https': u'https://pbs.twimg.com/media/DBRVYSUV0AAGz5u.jpg', u'source_user_id_str': u'37034483', u'source_status_id': 870414507176206336, u'id_str': u'870414503711723520', u'sizes': {u'large': {u'h': 262, u'resize': u'fit', u'w': 525}, u'small': {u'h': 262, u'resize': u'fit', u'w': 525}, u'medium': {u'h': 262, u'resize': u'fit', u'w': 525}, u'thumb': {u'h': 150, u'resize': u'crop', u'w': 150}}, u'indices': [90, 113], u'type': u'photo', u'id': 870414503711723520, u'media_url': u'http://pbs.twimg.com/media/DBRVYSUV0AAGz5u.jpg'}]}}, coordinates=None, entities={u'symbols': [], u'user_mentions': [{u'id': 37034483, u'indices': [3, 8], u'id_str': u'37034483', u'screen_name': u'ndtv', u'name': u'NDTV'}], u'hashtags': [{u'indices': [66, 79], u'text': u'BreakingNews'}, {u'indices': [80, 89], u'text': u'NDTVNews'}], u'urls': [], u'media': [{u'source_user_id': 37034483, u'source_status_id_str': u'870414507176206336', u'expanded_url': u'https://twitter.com/ndtv/status/870414507176206336/photo/1', u'display_url': u'pic.twitter.com/d9vKqNXjdM', u'url': u'https://t.co/d9vKqNXjdM', u'media_url_https': u'https://pbs.twimg.com/media/DBRVYSUV0AAGz5u.jpg', u'source_user_id_str': u'37034483', u'source_status_id': 870414507176206336, u'id_str': u'870414503711723520', u'sizes': {u'large': {u'h': 262, u'resize': u'fit', u'w': 525}, u'small': {u'h': 262, u'resize': u'fit', u'w': 525}, u'medium': {u'h': 262, u'resize': u'fit', u'w': 525}, u'thumb': {u'h': 150, u'resize': u'crop', u'w': 150}}, u'indices': [90, 113], u'type': u'photo', u'id': 870414503711723520, u'media_url': u'http://pbs.twimg.com/media/DBRVYSUV0AAGz5u.jpg'}]}, in_reply_to_screen_name=None, id_str=u'870414813477851136', retweet_count=68, in_reply_to_user_id=None, favorited=False, retweeted_status=Status(contributors=None, truncated=False, text=u'This is a breaking news alert. More details to follow.  #BreakingNews #NDTVNews https://t.co/d9vKqNXjdM', is_quote_status=False, in_reply_to_status_id=None, id=870414507176206336, favorite_count=73, _api=<tweepy.api.API object at 0x7fad7a87bb90>, source=u'GraphityCampaignNDTV', _json={u'contributors': None, u'truncated': False, u'text': u'This is a breaking news alert. More details to follow.  #BreakingNews #NDTVNews https://t.co/d9vKqNXjdM', u'is_quote_status': False, u'in_reply_to_status_id': None, u'id': 870414507176206336, u'favorite_count': 73, u'source': u'<a href=\"http://www.graphity.in\" rel=\"nofollow\">GraphityCampaignNDTV</a>', u'retweeted': False, u'coordinates': None, u'entities': {u'symbols': [], u'user_mentions': [], u'hashtags': [{u'indices': [56, 69], u'text': u'BreakingNews'}, {u'indices': [70, 79], u'text': u'NDTVNews'}], u'urls': [], u'media': [{u'expanded_url': u'https://twitter.com/ndtv/status/870414507176206336/photo/1', u'display_url': u'pic.twitter.com/d9vKqNXjdM', u'url': u'https://t.co/d9vKqNXjdM', u'media_url_https': u'https://pbs.twimg.com/media/DBRVYSUV0AAGz5u.jpg', u'id_str': u'870414503711723520', u'sizes': {u'large': {u'h': 262, u'resize': u'fit', u'w': 525}, u'small': {u'h': 262, u'resize': u'fit', u'w': 525}, u'medium': {u'h': 262, u'resize': u'fit', u'w': 525}, u'thumb': {u'h': 150, u'resize': u'crop', u'w': 150}}, u'indices': [80, 103], u'type': u'photo', u'id': 870414503711723520, u'media_url': u'http://pbs.twimg.com/media/DBRVYSUV0AAGz5u.jpg'}]}, u'in_reply_to_screen_name': None, u'in_reply_to_user_id': None, u'retweet_count': 68, u'id_str': u'870414507176206336', u'favorited': False, u'geo': None, u'in_reply_to_user_id_str': None, u'possibly_sensitive': False, u'lang': u'en', u'created_at': u'Thu Jun 01 22:59:24 +0000 2017', u'in_reply_to_status_id_str': None, u'place': None, u'extended_entities': {u'media': [{u'expanded_url': u'https://twitter.com/ndtv/status/870414507176206336/photo/1', u'display_url': u'pic.twitter.com/d9vKqNXjdM', u'url': u'https://t.co/d9vKqNXjdM', u'media_url_https': u'https://pbs.twimg.com/media/DBRVYSUV0AAGz5u.jpg', u'id_str': u'870414503711723520', u'sizes': {u'large': {u'h': 262, u'resize': u'fit', u'w': 525}, u'small': {u'h': 262, u'resize': u'fit', u'w': 525}, u'medium': {u'h': 262, u'resize': u'fit', u'w': 525}, u'thumb': {u'h': 150, u'resize': u'crop', u'w': 150}}, u'indices': [80, 103], u'type': u'photo', u'id': 870414503711723520, u'media_url': u'http://pbs.twimg.com/media/DBRVYSUV0AAGz5u.jpg'}]}}, coordinates=None, entities={u'symbols': [], u'user_mentions': [], u'hashtags': [{u'indices': [56, 69], u'text': u'BreakingNews'}, {u'indices': [70, 79], u'text': u'NDTVNews'}], u'urls': [], u'media': [{u'expanded_url': u'https://twitter.com/ndtv/status/870414507176206336/photo/1', u'display_url': u'pic.twitter.com/d9vKqNXjdM', u'url': u'https://t.co/d9vKqNXjdM', u'media_url_https': u'https://pbs.twimg.com/media/DBRVYSUV0AAGz5u.jpg', u'id_str': u'870414503711723520', u'sizes': {u'large': {u'h': 262, u'resize': u'fit', u'w': 525}, u'small': {u'h': 262, u'resize': u'fit', u'w': 525}, u'medium': {u'h': 262, u'resize': u'fit', u'w': 525}, u'thumb': {u'h': 150, u'resize': u'crop', u'w': 150}}, u'indices': [80, 103], u'type': u'photo', u'id': 870414503711723520, u'media_url': u'http://pbs.twimg.com/media/DBRVYSUV0AAGz5u.jpg'}]}, in_reply_to_screen_name=None, id_str=u'870414507176206336', retweet_count=68, in_reply_to_user_id=None, favorited=False, source_url=u'http://www.graphity.in', geo=None, in_reply_to_user_id_str=None, possibly_sensitive=False, lang=u'en', created_at=datetime.datetime(2017, 6, 1, 22, 59, 24), in_reply_to_status_id_str=None, place=None, extended_entities={u'media': [{u'expanded_url': u'https://twitter.com/ndtv/status/870414507176206336/photo/1', u'display_url': u'pic.twitter.com/d9vKqNXjdM', u'url': u'https://t.co/d9vKqNXjdM', u'media_url_https': u'https://pbs.twimg.com/media/DBRVYSUV0AAGz5u.jpg', u'id_str': u'870414503711723520', u'sizes': {u'large': {u'h': 262, u'resize': u'fit', u'w': 525}, u'small': {u'h': 262, u'resize': u'fit', u'w': 525}, u'medium': {u'h': 262, u'resize': u'fit', u'w': 525}, u'thumb': {u'h': 150, u'resize': u'crop', u'w': 150}}, u'indices': [80, 103], u'type': u'photo', u'id': 870414503711723520, u'media_url': u'http://pbs.twimg.com/media/DBRVYSUV0AAGz5u.jpg'}]}, retweeted=False), source_url=u'http://twitter.com/download/android', geo=None, in_reply_to_user_id_str=None, possibly_sensitive=False, lang=u'en', created_at=datetime.datetime(2017, 6, 1, 23, 0, 37), in_reply_to_status_id_str=None, place=None, extended_entities={u'media': [{u'source_user_id': 37034483, u'source_status_id_str': u'870414507176206336', u'expanded_url': u'https://twitter.com/ndtv/status/870414507176206336/photo/1', u'display_url': u'pic.twitter.com/d9vKqNXjdM', u'url': u'https://t.co/d9vKqNXjdM', u'media_url_https': u'https://pbs.twimg.com/media/DBRVYSUV0AAGz5u.jpg', u'source_user_id_str': u'37034483', u'source_status_id': 870414507176206336, u'id_str': u'870414503711723520', u'sizes': {u'large': {u'h': 262, u'resize': u'fit', u'w': 525}, u'small': {u'h': 262, u'resize': u'fit', u'w': 525}, u'medium': {u'h': 262, u'resize': u'fit', u'w': 525}, u'thumb': {u'h': 150, u'resize': u'crop', u'w': 150}}, u'indices': [90, 113], u'type': u'photo', u'id': 870414503711723520, u'media_url': u'http://pbs.twimg.com/media/DBRVYSUV0AAGz5u.jpg'}]}, retweeted=False), lang=u'en', utc_offset=None, statuses_count=3, profile_background_color=u'C0DEED', friends_count=133, profile_link_color=u'1DA1F2', profile_image_url=u'http://pbs.twimg.com/profile_images/967625926275149824/Ix_MYjQL_normal.jpg', notifications=False, default_profile=True, profile_background_image_url_https=u'https://abs.twimg.com/images/themes/theme1/bg.png', profile_background_image_url=u'http://abs.twimg.com/images/themes/theme1/bg.png', name=u'Shivam Sharma', is_translation_enabled=False, profile_background_tile=False, favourites_count=15, screen_name=u'shivam17sharma', url=None, created_at=datetime.datetime(2015, 7, 22, 11, 53, 2), contributors_enabled=False, location=u'', profile_sidebar_border_color=u'C0DEED', translator_type=u'none', following=False),\n",
              " User(follow_request_sent=False, has_extended_profile=True, profile_use_background_image=True, _json={u'follow_request_sent': False, u'has_extended_profile': True, u'profile_use_background_image': True, u'default_profile_image': False, u'id': 810485386841649160, u'profile_background_image_url_https': None, u'verified': False, u'translator_type': u'none', u'profile_text_color': u'333333', u'profile_image_url_https': u'https://pbs.twimg.com/profile_images/887664819410796544/PgNo7pce_normal.jpg', u'profile_sidebar_fill_color': u'DDEEF6', u'entities': {u'description': {u'urls': []}}, u'followers_count': 8, u'profile_sidebar_border_color': u'C0DEED', u'id_str': u'810485386841649160', u'profile_background_color': u'F5F8FA', u'listed_count': 0, u'status': {u'contributors': None, u'truncated': False, u'text': u'RT @imVkohli: One from last night, #GoodTimes with the boys! \\u270c\\ufe0f\\U0001f51d\\n#TopLads #SquadGoals #Team https://t.co/GNUZi7WIw0', u'is_quote_status': False, u'in_reply_to_status_id': None, u'id': 895544935667048448, u'favorite_count': 0, u'source': u'<a href=\"http://twitter.com/download/android\" rel=\"nofollow\">Twitter for Android</a>', u'retweeted': False, u'coordinates': None, u'entities': {u'symbols': [], u'user_mentions': [{u'id': 71201743, u'indices': [3, 12], u'id_str': u'71201743', u'screen_name': u'imVkohli', u'name': u'Virat Kohli'}], u'hashtags': [{u'indices': [35, 45], u'text': u'GoodTimes'}, {u'indices': [65, 73], u'text': u'TopLads'}, {u'indices': [74, 85], u'text': u'SquadGoals'}, {u'indices': [86, 91], u'text': u'Team'}], u'urls': [], u'media': [{u'source_user_id': 71201743, u'source_status_id_str': u'894949313285107712', u'expanded_url': u'https://twitter.com/imVkohli/status/894949313285107712/photo/1', u'display_url': u'pic.twitter.com/GNUZi7WIw0', u'url': u'https://t.co/GNUZi7WIw0', u'media_url_https': u'https://pbs.twimg.com/media/DGt_pSEWAAARcZt.jpg', u'source_user_id_str': u'71201743', u'source_status_id': 894949313285107712, u'id_str': u'894949298164596736', u'sizes': {u'small': {u'h': 510, u'resize': u'fit', u'w': 680}, u'large': {u'h': 768, u'resize': u'fit', u'w': 1024}, u'medium': {u'h': 768, u'resize': u'fit', u'w': 1024}, u'thumb': {u'h': 150, u'resize': u'crop', u'w': 150}}, u'indices': [92, 115], u'type': u'photo', u'id': 894949298164596736, u'media_url': u'http://pbs.twimg.com/media/DGt_pSEWAAARcZt.jpg'}]}, u'in_reply_to_screen_name': None, u'in_reply_to_user_id': None, u'retweet_count': 2073, u'id_str': u'895544935667048448', u'favorited': False, u'retweeted_status': {u'contributors': None, u'truncated': False, u'text': u'One from last night, #GoodTimes with the boys! \\u270c\\ufe0f\\U0001f51d\\n#TopLads #SquadGoals #Team https://t.co/GNUZi7WIw0', u'is_quote_status': False, u'in_reply_to_status_id': None, u'id': 894949313285107712, u'favorite_count': 30778, u'source': u'<a href=\"http://twitter.com/download/android\" rel=\"nofollow\">Twitter for Android</a>', u'retweeted': False, u'coordinates': None, u'entities': {u'symbols': [], u'user_mentions': [], u'hashtags': [{u'indices': [21, 31], u'text': u'GoodTimes'}, {u'indices': [51, 59], u'text': u'TopLads'}, {u'indices': [60, 71], u'text': u'SquadGoals'}, {u'indices': [72, 77], u'text': u'Team'}], u'urls': [], u'media': [{u'expanded_url': u'https://twitter.com/imVkohli/status/894949313285107712/photo/1', u'display_url': u'pic.twitter.com/GNUZi7WIw0', u'url': u'https://t.co/GNUZi7WIw0', u'media_url_https': u'https://pbs.twimg.com/media/DGt_pSEWAAARcZt.jpg', u'id_str': u'894949298164596736', u'sizes': {u'small': {u'h': 510, u'resize': u'fit', u'w': 680}, u'large': {u'h': 768, u'resize': u'fit', u'w': 1024}, u'medium': {u'h': 768, u'resize': u'fit', u'w': 1024}, u'thumb': {u'h': 150, u'resize': u'crop', u'w': 150}}, u'indices': [78, 101], u'type': u'photo', u'id': 894949298164596736, u'media_url': u'http://pbs.twimg.com/media/DGt_pSEWAAARcZt.jpg'}]}, u'in_reply_to_screen_name': None, u'in_reply_to_user_id': None, u'retweet_count': 2073, u'id_str': u'894949313285107712', u'favorited': False, u'geo': None, u'in_reply_to_user_id_str': None, u'possibly_sensitive': False, u'lang': u'en', u'created_at': u'Tue Aug 08 15:51:58 +0000 2017', u'in_reply_to_status_id_str': None, u'place': None, u'extended_entities': {u'media': [{u'expanded_url': u'https://twitter.com/imVkohli/status/894949313285107712/photo/1', u'display_url': u'pic.twitter.com/GNUZi7WIw0', u'url': u'https://t.co/GNUZi7WIw0', u'media_url_https': u'https://pbs.twimg.com/media/DGt_pSEWAAARcZt.jpg', u'id_str': u'894949298164596736', u'sizes': {u'small': {u'h': 510, u'resize': u'fit', u'w': 680}, u'large': {u'h': 768, u'resize': u'fit', u'w': 1024}, u'medium': {u'h': 768, u'resize': u'fit', u'w': 1024}, u'thumb': {u'h': 150, u'resize': u'crop', u'w': 150}}, u'indices': [78, 101], u'type': u'photo', u'id': 894949298164596736, u'media_url': u'http://pbs.twimg.com/media/DGt_pSEWAAARcZt.jpg'}]}}, u'geo': None, u'in_reply_to_user_id_str': None, u'possibly_sensitive': False, u'lang': u'en', u'created_at': u'Thu Aug 10 07:18:45 +0000 2017', u'in_reply_to_status_id_str': None, u'place': None, u'extended_entities': {u'media': [{u'source_user_id': 71201743, u'source_status_id_str': u'894949313285107712', u'expanded_url': u'https://twitter.com/imVkohli/status/894949313285107712/photo/1', u'display_url': u'pic.twitter.com/GNUZi7WIw0', u'url': u'https://t.co/GNUZi7WIw0', u'media_url_https': u'https://pbs.twimg.com/media/DGt_pSEWAAARcZt.jpg', u'source_user_id_str': u'71201743', u'source_status_id': 894949313285107712, u'id_str': u'894949298164596736', u'sizes': {u'small': {u'h': 510, u'resize': u'fit', u'w': 680}, u'large': {u'h': 768, u'resize': u'fit', u'w': 1024}, u'medium': {u'h': 768, u'resize': u'fit', u'w': 1024}, u'thumb': {u'h': 150, u'resize': u'crop', u'w': 150}}, u'indices': [92, 115], u'type': u'photo', u'id': 894949298164596736, u'media_url': u'http://pbs.twimg.com/media/DGt_pSEWAAARcZt.jpg'}]}}, u'is_translation_enabled': False, u'utc_offset': None, u'statuses_count': 15, u'description': u'Government & Public Utilities', u'friends_count': 130, u'location': u'Raibareli Uttar Pradesh{India}', u'profile_link_color': u'1DA1F2', u'profile_image_url': u'http://pbs.twimg.com/profile_images/887664819410796544/PgNo7pce_normal.jpg', u'following': False, u'geo_enabled': False, u'profile_banner_url': u'https://pbs.twimg.com/profile_banners/810485386841649160/1482516625', u'profile_background_image_url': None, u'screen_name': u'MDShababKhan1', u'lang': u'en', u'profile_background_tile': False, u'favourites_count': 5, u'name': u'MD Shabab Khan', u'notifications': False, u'url': None, u'created_at': u'Sun Dec 18 14:02:29 +0000 2016', u'contributors_enabled': False, u'time_zone': None, u'protected': False, u'default_profile': True, u'is_translator': False}, time_zone=None, id=810485386841649160, description=u'Government & Public Utilities', _api=<tweepy.api.API object at 0x7fad7a87bb90>, verified=False, profile_text_color=u'333333', profile_image_url_https=u'https://pbs.twimg.com/profile_images/887664819410796544/PgNo7pce_normal.jpg', profile_sidebar_fill_color=u'DDEEF6', is_translator=False, geo_enabled=False, entities={u'description': {u'urls': []}}, followers_count=8, protected=False, id_str=u'810485386841649160', default_profile_image=False, listed_count=0, status=Status(contributors=None, truncated=False, text=u'RT @imVkohli: One from last night, #GoodTimes with the boys! \\u270c\\ufe0f\\U0001f51d\\n#TopLads #SquadGoals #Team https://t.co/GNUZi7WIw0', is_quote_status=False, in_reply_to_status_id=None, id=895544935667048448, favorite_count=0, _api=<tweepy.api.API object at 0x7fad7a87bb90>, source=u'Twitter for Android', _json={u'contributors': None, u'truncated': False, u'text': u'RT @imVkohli: One from last night, #GoodTimes with the boys! \\u270c\\ufe0f\\U0001f51d\\n#TopLads #SquadGoals #Team https://t.co/GNUZi7WIw0', u'is_quote_status': False, u'in_reply_to_status_id': None, u'id': 895544935667048448, u'favorite_count': 0, u'source': u'<a href=\"http://twitter.com/download/android\" rel=\"nofollow\">Twitter for Android</a>', u'retweeted': False, u'coordinates': None, u'entities': {u'symbols': [], u'user_mentions': [{u'id': 71201743, u'indices': [3, 12], u'id_str': u'71201743', u'screen_name': u'imVkohli', u'name': u'Virat Kohli'}], u'hashtags': [{u'indices': [35, 45], u'text': u'GoodTimes'}, {u'indices': [65, 73], u'text': u'TopLads'}, {u'indices': [74, 85], u'text': u'SquadGoals'}, {u'indices': [86, 91], u'text': u'Team'}], u'urls': [], u'media': [{u'source_user_id': 71201743, u'source_status_id_str': u'894949313285107712', u'expanded_url': u'https://twitter.com/imVkohli/status/894949313285107712/photo/1', u'display_url': u'pic.twitter.com/GNUZi7WIw0', u'url': u'https://t.co/GNUZi7WIw0', u'media_url_https': u'https://pbs.twimg.com/media/DGt_pSEWAAARcZt.jpg', u'source_user_id_str': u'71201743', u'source_status_id': 894949313285107712, u'id_str': u'894949298164596736', u'sizes': {u'small': {u'h': 510, u'resize': u'fit', u'w': 680}, u'large': {u'h': 768, u'resize': u'fit', u'w': 1024}, u'medium': {u'h': 768, u'resize': u'fit', u'w': 1024}, u'thumb': {u'h': 150, u'resize': u'crop', u'w': 150}}, u'indices': [92, 115], u'type': u'photo', u'id': 894949298164596736, u'media_url': u'http://pbs.twimg.com/media/DGt_pSEWAAARcZt.jpg'}]}, u'in_reply_to_screen_name': None, u'in_reply_to_user_id': None, u'retweet_count': 2073, u'id_str': u'895544935667048448', u'favorited': False, u'retweeted_status': {u'contributors': None, u'truncated': False, u'text': u'One from last night, #GoodTimes with the boys! \\u270c\\ufe0f\\U0001f51d\\n#TopLads #SquadGoals #Team https://t.co/GNUZi7WIw0', u'is_quote_status': False, u'in_reply_to_status_id': None, u'id': 894949313285107712, u'favorite_count': 30778, u'source': u'<a href=\"http://twitter.com/download/android\" rel=\"nofollow\">Twitter for Android</a>', u'retweeted': False, u'coordinates': None, u'entities': {u'symbols': [], u'user_mentions': [], u'hashtags': [{u'indices': [21, 31], u'text': u'GoodTimes'}, {u'indices': [51, 59], u'text': u'TopLads'}, {u'indices': [60, 71], u'text': u'SquadGoals'}, {u'indices': [72, 77], u'text': u'Team'}], u'urls': [], u'media': [{u'expanded_url': u'https://twitter.com/imVkohli/status/894949313285107712/photo/1', u'display_url': u'pic.twitter.com/GNUZi7WIw0', u'url': u'https://t.co/GNUZi7WIw0', u'media_url_https': u'https://pbs.twimg.com/media/DGt_pSEWAAARcZt.jpg', u'id_str': u'894949298164596736', u'sizes': {u'small': {u'h': 510, u'resize': u'fit', u'w': 680}, u'large': {u'h': 768, u'resize': u'fit', u'w': 1024}, u'medium': {u'h': 768, u'resize': u'fit', u'w': 1024}, u'thumb': {u'h': 150, u'resize': u'crop', u'w': 150}}, u'indices': [78, 101], u'type': u'photo', u'id': 894949298164596736, u'media_url': u'http://pbs.twimg.com/media/DGt_pSEWAAARcZt.jpg'}]}, u'in_reply_to_screen_name': None, u'in_reply_to_user_id': None, u'retweet_count': 2073, u'id_str': u'894949313285107712', u'favorited': False, u'geo': None, u'in_reply_to_user_id_str': None, u'possibly_sensitive': False, u'lang': u'en', u'created_at': u'Tue Aug 08 15:51:58 +0000 2017', u'in_reply_to_status_id_str': None, u'place': None, u'extended_entities': {u'media': [{u'expanded_url': u'https://twitter.com/imVkohli/status/894949313285107712/photo/1', u'display_url': u'pic.twitter.com/GNUZi7WIw0', u'url': u'https://t.co/GNUZi7WIw0', u'media_url_https': u'https://pbs.twimg.com/media/DGt_pSEWAAARcZt.jpg', u'id_str': u'894949298164596736', u'sizes': {u'small': {u'h': 510, u'resize': u'fit', u'w': 680}, u'large': {u'h': 768, u'resize': u'fit', u'w': 1024}, u'medium': {u'h': 768, u'resize': u'fit', u'w': 1024}, u'thumb': {u'h': 150, u'resize': u'crop', u'w': 150}}, u'indices': [78, 101], u'type': u'photo', u'id': 894949298164596736, u'media_url': u'http://pbs.twimg.com/media/DGt_pSEWAAARcZt.jpg'}]}}, u'geo': None, u'in_reply_to_user_id_str': None, u'possibly_sensitive': False, u'lang': u'en', u'created_at': u'Thu Aug 10 07:18:45 +0000 2017', u'in_reply_to_status_id_str': None, u'place': None, u'extended_entities': {u'media': [{u'source_user_id': 71201743, u'source_status_id_str': u'894949313285107712', u'expanded_url': u'https://twitter.com/imVkohli/status/894949313285107712/photo/1', u'display_url': u'pic.twitter.com/GNUZi7WIw0', u'url': u'https://t.co/GNUZi7WIw0', u'media_url_https': u'https://pbs.twimg.com/media/DGt_pSEWAAARcZt.jpg', u'source_user_id_str': u'71201743', u'source_status_id': 894949313285107712, u'id_str': u'894949298164596736', u'sizes': {u'small': {u'h': 510, u'resize': u'fit', u'w': 680}, u'large': {u'h': 768, u'resize': u'fit', u'w': 1024}, u'medium': {u'h': 768, u'resize': u'fit', u'w': 1024}, u'thumb': {u'h': 150, u'resize': u'crop', u'w': 150}}, u'indices': [92, 115], u'type': u'photo', u'id': 894949298164596736, u'media_url': u'http://pbs.twimg.com/media/DGt_pSEWAAARcZt.jpg'}]}}, coordinates=None, entities={u'symbols': [], u'user_mentions': [{u'id': 71201743, u'indices': [3, 12], u'id_str': u'71201743', u'screen_name': u'imVkohli', u'name': u'Virat Kohli'}], u'hashtags': [{u'indices': [35, 45], u'text': u'GoodTimes'}, {u'indices': [65, 73], u'text': u'TopLads'}, {u'indices': [74, 85], u'text': u'SquadGoals'}, {u'indices': [86, 91], u'text': u'Team'}], u'urls': [], u'media': [{u'source_user_id': 71201743, u'source_status_id_str': u'894949313285107712', u'expanded_url': u'https://twitter.com/imVkohli/status/894949313285107712/photo/1', u'display_url': u'pic.twitter.com/GNUZi7WIw0', u'url': u'https://t.co/GNUZi7WIw0', u'media_url_https': u'https://pbs.twimg.com/media/DGt_pSEWAAARcZt.jpg', u'source_user_id_str': u'71201743', u'source_status_id': 894949313285107712, u'id_str': u'894949298164596736', u'sizes': {u'small': {u'h': 510, u'resize': u'fit', u'w': 680}, u'large': {u'h': 768, u'resize': u'fit', u'w': 1024}, u'medium': {u'h': 768, u'resize': u'fit', u'w': 1024}, u'thumb': {u'h': 150, u'resize': u'crop', u'w': 150}}, u'indices': [92, 115], u'type': u'photo', u'id': 894949298164596736, u'media_url': u'http://pbs.twimg.com/media/DGt_pSEWAAARcZt.jpg'}]}, in_reply_to_screen_name=None, id_str=u'895544935667048448', retweet_count=2073, in_reply_to_user_id=None, favorited=False, retweeted_status=Status(contributors=None, truncated=False, text=u'One from last night, #GoodTimes with the boys! \\u270c\\ufe0f\\U0001f51d\\n#TopLads #SquadGoals #Team https://t.co/GNUZi7WIw0', is_quote_status=False, in_reply_to_status_id=None, id=894949313285107712, favorite_count=30778, _api=<tweepy.api.API object at 0x7fad7a87bb90>, source=u'Twitter for Android', _json={u'contributors': None, u'truncated': False, u'text': u'One from last night, #GoodTimes with the boys! \\u270c\\ufe0f\\U0001f51d\\n#TopLads #SquadGoals #Team https://t.co/GNUZi7WIw0', u'is_quote_status': False, u'in_reply_to_status_id': None, u'id': 894949313285107712, u'favorite_count': 30778, u'source': u'<a href=\"http://twitter.com/download/android\" rel=\"nofollow\">Twitter for Android</a>', u'retweeted': False, u'coordinates': None, u'entities': {u'symbols': [], u'user_mentions': [], u'hashtags': [{u'indices': [21, 31], u'text': u'GoodTimes'}, {u'indices': [51, 59], u'text': u'TopLads'}, {u'indices': [60, 71], u'text': u'SquadGoals'}, {u'indices': [72, 77], u'text': u'Team'}], u'urls': [], u'media': [{u'expanded_url': u'https://twitter.com/imVkohli/status/894949313285107712/photo/1', u'display_url': u'pic.twitter.com/GNUZi7WIw0', u'url': u'https://t.co/GNUZi7WIw0', u'media_url_https': u'https://pbs.twimg.com/media/DGt_pSEWAAARcZt.jpg', u'id_str': u'894949298164596736', u'sizes': {u'small': {u'h': 510, u'resize': u'fit', u'w': 680}, u'large': {u'h': 768, u'resize': u'fit', u'w': 1024}, u'medium': {u'h': 768, u'resize': u'fit', u'w': 1024}, u'thumb': {u'h': 150, u'resize': u'crop', u'w': 150}}, u'indices': [78, 101], u'type': u'photo', u'id': 894949298164596736, u'media_url': u'http://pbs.twimg.com/media/DGt_pSEWAAARcZt.jpg'}]}, u'in_reply_to_screen_name': None, u'in_reply_to_user_id': None, u'retweet_count': 2073, u'id_str': u'894949313285107712', u'favorited': False, u'geo': None, u'in_reply_to_user_id_str': None, u'possibly_sensitive': False, u'lang': u'en', u'created_at': u'Tue Aug 08 15:51:58 +0000 2017', u'in_reply_to_status_id_str': None, u'place': None, u'extended_entities': {u'media': [{u'expanded_url': u'https://twitter.com/imVkohli/status/894949313285107712/photo/1', u'display_url': u'pic.twitter.com/GNUZi7WIw0', u'url': u'https://t.co/GNUZi7WIw0', u'media_url_https': u'https://pbs.twimg.com/media/DGt_pSEWAAARcZt.jpg', u'id_str': u'894949298164596736', u'sizes': {u'small': {u'h': 510, u'resize': u'fit', u'w': 680}, u'large': {u'h': 768, u'resize': u'fit', u'w': 1024}, u'medium': {u'h': 768, u'resize': u'fit', u'w': 1024}, u'thumb': {u'h': 150, u'resize': u'crop', u'w': 150}}, u'indices': [78, 101], u'type': u'photo', u'id': 894949298164596736, u'media_url': u'http://pbs.twimg.com/media/DGt_pSEWAAARcZt.jpg'}]}}, coordinates=None, entities={u'symbols': [], u'user_mentions': [], u'hashtags': [{u'indices': [21, 31], u'text': u'GoodTimes'}, {u'indices': [51, 59], u'text': u'TopLads'}, {u'indices': [60, 71], u'text': u'SquadGoals'}, {u'indices': [72, 77], u'text': u'Team'}], u'urls': [], u'media': [{u'expanded_url': u'https://twitter.com/imVkohli/status/894949313285107712/photo/1', u'display_url': u'pic.twitter.com/GNUZi7WIw0', u'url': u'https://t.co/GNUZi7WIw0', u'media_url_https': u'https://pbs.twimg.com/media/DGt_pSEWAAARcZt.jpg', u'id_str': u'894949298164596736', u'sizes': {u'small': {u'h': 510, u'resize': u'fit', u'w': 680}, u'large': {u'h': 768, u'resize': u'fit', u'w': 1024}, u'medium': {u'h': 768, u'resize': u'fit', u'w': 1024}, u'thumb': {u'h': 150, u'resize': u'crop', u'w': 150}}, u'indices': [78, 101], u'type': u'photo', u'id': 894949298164596736, u'media_url': u'http://pbs.twimg.com/media/DGt_pSEWAAARcZt.jpg'}]}, in_reply_to_screen_name=None, id_str=u'894949313285107712', retweet_count=2073, in_reply_to_user_id=None, favorited=False, source_url=u'http://twitter.com/download/android', geo=None, in_reply_to_user_id_str=None, possibly_sensitive=False, lang=u'en', created_at=datetime.datetime(2017, 8, 8, 15, 51, 58), in_reply_to_status_id_str=None, place=None, extended_entities={u'media': [{u'expanded_url': u'https://twitter.com/imVkohli/status/894949313285107712/photo/1', u'display_url': u'pic.twitter.com/GNUZi7WIw0', u'url': u'https://t.co/GNUZi7WIw0', u'media_url_https': u'https://pbs.twimg.com/media/DGt_pSEWAAARcZt.jpg', u'id_str': u'894949298164596736', u'sizes': {u'small': {u'h': 510, u'resize': u'fit', u'w': 680}, u'large': {u'h': 768, u'resize': u'fit', u'w': 1024}, u'medium': {u'h': 768, u'resize': u'fit', u'w': 1024}, u'thumb': {u'h': 150, u'resize': u'crop', u'w': 150}}, u'indices': [78, 101], u'type': u'photo', u'id': 894949298164596736, u'media_url': u'http://pbs.twimg.com/media/DGt_pSEWAAARcZt.jpg'}]}, retweeted=False), source_url=u'http://twitter.com/download/android', geo=None, in_reply_to_user_id_str=None, possibly_sensitive=False, lang=u'en', created_at=datetime.datetime(2017, 8, 10, 7, 18, 45), in_reply_to_status_id_str=None, place=None, extended_entities={u'media': [{u'source_user_id': 71201743, u'source_status_id_str': u'894949313285107712', u'expanded_url': u'https://twitter.com/imVkohli/status/894949313285107712/photo/1', u'display_url': u'pic.twitter.com/GNUZi7WIw0', u'url': u'https://t.co/GNUZi7WIw0', u'media_url_https': u'https://pbs.twimg.com/media/DGt_pSEWAAARcZt.jpg', u'source_user_id_str': u'71201743', u'source_status_id': 894949313285107712, u'id_str': u'894949298164596736', u'sizes': {u'small': {u'h': 510, u'resize': u'fit', u'w': 680}, u'large': {u'h': 768, u'resize': u'fit', u'w': 1024}, u'medium': {u'h': 768, u'resize': u'fit', u'w': 1024}, u'thumb': {u'h': 150, u'resize': u'crop', u'w': 150}}, u'indices': [92, 115], u'type': u'photo', u'id': 894949298164596736, u'media_url': u'http://pbs.twimg.com/media/DGt_pSEWAAARcZt.jpg'}]}, retweeted=False), lang=u'en', utc_offset=None, statuses_count=15, profile_background_color=u'F5F8FA', friends_count=130, profile_link_color=u'1DA1F2', profile_image_url=u'http://pbs.twimg.com/profile_images/887664819410796544/PgNo7pce_normal.jpg', notifications=False, default_profile=True, profile_background_image_url_https=None, profile_banner_url=u'https://pbs.twimg.com/profile_banners/810485386841649160/1482516625', profile_background_image_url=None, name=u'MD Shabab Khan', is_translation_enabled=False, profile_background_tile=False, favourites_count=5, screen_name=u'MDShababKhan1', url=None, created_at=datetime.datetime(2016, 12, 18, 14, 2, 29), contributors_enabled=False, location=u'Raibareli Uttar Pradesh{India}', profile_sidebar_border_color=u'C0DEED', translator_type=u'none', following=False),\n",
              " User(follow_request_sent=False, has_extended_profile=False, profile_use_background_image=True, _json={u'follow_request_sent': False, u'has_extended_profile': False, u'profile_use_background_image': True, u'default_profile_image': True, u'id': 773846631154319360, u'profile_background_image_url_https': None, u'verified': False, u'translator_type': u'none', u'profile_text_color': u'333333', u'profile_image_url_https': u'https://abs.twimg.com/sticky/default_profile_images/default_profile_normal.png', u'profile_sidebar_fill_color': u'DDEEF6', u'entities': {u'description': {u'urls': []}}, u'followers_count': 4, u'profile_sidebar_border_color': u'C0DEED', u'id_str': u'773846631154319360', u'profile_background_color': u'F5F8FA', u'listed_count': 0, u'status': {u'contributors': None, u'truncated': False, u'text': u'What digvijay tweet against modi ji', u'is_quote_status': False, u'in_reply_to_status_id': None, u'id': 906123666265563136, u'favorite_count': 1, u'source': u'<a href=\"http://twitter.com/download/android\" rel=\"nofollow\">Twitter for Android</a>', u'retweeted': False, u'coordinates': None, u'entities': {u'symbols': [], u'user_mentions': [], u'hashtags': [], u'urls': []}, u'in_reply_to_screen_name': None, u'in_reply_to_user_id': None, u'retweet_count': 0, u'id_str': u'906123666265563136', u'favorited': False, u'geo': None, u'in_reply_to_user_id_str': None, u'lang': u'en', u'created_at': u'Fri Sep 08 11:54:51 +0000 2017', u'in_reply_to_status_id_str': None, u'place': None}, u'is_translation_enabled': False, u'utc_offset': None, u'statuses_count': 5, u'description': u'', u'friends_count': 63, u'location': u'', u'profile_link_color': u'1DA1F2', u'profile_image_url': u'http://abs.twimg.com/sticky/default_profile_images/default_profile_normal.png', u'following': False, u'geo_enabled': False, u'profile_background_image_url': None, u'screen_name': u'R39816355', u'lang': u'en', u'profile_background_tile': False, u'favourites_count': 5, u'name': u'R', u'notifications': False, u'url': None, u'created_at': u'Thu Sep 08 11:33:09 +0000 2016', u'contributors_enabled': False, u'time_zone': None, u'protected': False, u'default_profile': True, u'is_translator': False}, time_zone=None, id=773846631154319360, description=u'', _api=<tweepy.api.API object at 0x7fad7a87bb90>, verified=False, profile_text_color=u'333333', profile_image_url_https=u'https://abs.twimg.com/sticky/default_profile_images/default_profile_normal.png', profile_sidebar_fill_color=u'DDEEF6', is_translator=False, geo_enabled=False, entities={u'description': {u'urls': []}}, followers_count=4, protected=False, id_str=u'773846631154319360', default_profile_image=True, listed_count=0, status=Status(contributors=None, truncated=False, text=u'What digvijay tweet against modi ji', is_quote_status=False, in_reply_to_status_id=None, id=906123666265563136, favorite_count=1, _api=<tweepy.api.API object at 0x7fad7a87bb90>, source=u'Twitter for Android', _json={u'contributors': None, u'truncated': False, u'text': u'What digvijay tweet against modi ji', u'is_quote_status': False, u'in_reply_to_status_id': None, u'id': 906123666265563136, u'favorite_count': 1, u'source': u'<a href=\"http://twitter.com/download/android\" rel=\"nofollow\">Twitter for Android</a>', u'retweeted': False, u'coordinates': None, u'entities': {u'symbols': [], u'user_mentions': [], u'hashtags': [], u'urls': []}, u'in_reply_to_screen_name': None, u'in_reply_to_user_id': None, u'retweet_count': 0, u'id_str': u'906123666265563136', u'favorited': False, u'geo': None, u'in_reply_to_user_id_str': None, u'lang': u'en', u'created_at': u'Fri Sep 08 11:54:51 +0000 2017', u'in_reply_to_status_id_str': None, u'place': None}, coordinates=None, entities={u'symbols': [], u'user_mentions': [], u'hashtags': [], u'urls': []}, in_reply_to_screen_name=None, id_str=u'906123666265563136', retweet_count=0, in_reply_to_user_id=None, favorited=False, source_url=u'http://twitter.com/download/android', geo=None, in_reply_to_user_id_str=None, lang=u'en', created_at=datetime.datetime(2017, 9, 8, 11, 54, 51), in_reply_to_status_id_str=None, place=None, retweeted=False), lang=u'en', utc_offset=None, statuses_count=5, profile_background_color=u'F5F8FA', friends_count=63, profile_link_color=u'1DA1F2', profile_image_url=u'http://abs.twimg.com/sticky/default_profile_images/default_profile_normal.png', notifications=False, default_profile=True, profile_background_image_url_https=None, profile_background_image_url=None, name=u'R', is_translation_enabled=False, profile_background_tile=False, favourites_count=5, screen_name=u'R39816355', url=None, created_at=datetime.datetime(2016, 9, 8, 11, 33, 9), contributors_enabled=False, location=u'', profile_sidebar_border_color=u'C0DEED', translator_type=u'none', following=False),\n",
              " User(follow_request_sent=False, has_extended_profile=True, profile_use_background_image=True, _json={u'follow_request_sent': False, u'has_extended_profile': True, u'profile_use_background_image': True, u'default_profile_image': False, u'id': 804262121416470529, u'profile_background_image_url_https': None, u'verified': False, u'translator_type': u'none', u'profile_text_color': u'333333', u'profile_image_url_https': u'https://pbs.twimg.com/profile_images/976501754396213248/L81zFwp3_normal.jpg', u'profile_sidebar_fill_color': u'DDEEF6', u'entities': {u'description': {u'urls': []}}, u'followers_count': 20, u'profile_sidebar_border_color': u'C0DEED', u'id_str': u'804262121416470529', u'profile_background_color': u'F5F8FA', u'listed_count': 0, u'status': {u'contributors': None, u'truncated': False, u'text': u'@jyoti_tewatia1 @ashwinravi99 @sachin_rt You must\\'ve seen that meme... \"If a girl understands cricket like You....MARRY HER!\"', u'is_quote_status': False, u'in_reply_to_status_id': 988672668466536448, u'id': 988706740802871296, u'favorite_count': 0, u'source': u'<a href=\"http://twitter.com/download/android\" rel=\"nofollow\">Twitter for Android</a>', u'retweeted': False, u'coordinates': None, u'entities': {u'symbols': [], u'user_mentions': [{u'id': 768357594893262848, u'indices': [0, 15], u'id_str': u'768357594893262848', u'screen_name': u'jyoti_tewatia1', u'name': u'JYOTI TEWATIA'}, {u'id': 358814014, u'indices': [16, 29], u'id_str': u'358814014', u'screen_name': u'ashwinravi99', u'name': u'Ashwin Ravichandran'}, {u'id': 135421739, u'indices': [30, 40], u'id_str': u'135421739', u'screen_name': u'sachin_rt', u'name': u'Sachin Tendulkar'}], u'hashtags': [], u'urls': []}, u'in_reply_to_screen_name': u'jyoti_tewatia1', u'in_reply_to_user_id': 768357594893262848, u'retweet_count': 0, u'id_str': u'988706740802871296', u'favorited': False, u'geo': None, u'in_reply_to_user_id_str': u'768357594893262848', u'lang': u'en', u'created_at': u'Tue Apr 24 09:10:30 +0000 2018', u'in_reply_to_status_id_str': u'988672668466536448', u'place': None}, u'is_translation_enabled': False, u'utc_offset': None, u'statuses_count': 4, u'description': u\"Let's just pretend this is an intelligent biol!!\", u'friends_count': 298, u'location': u'New Delhi, India', u'profile_link_color': u'1DA1F2', u'profile_image_url': u'http://pbs.twimg.com/profile_images/976501754396213248/L81zFwp3_normal.jpg', u'following': False, u'geo_enabled': False, u'profile_banner_url': u'https://pbs.twimg.com/profile_banners/804262121416470529/1521651188', u'profile_background_image_url': None, u'screen_name': u'_parth____', u'lang': u'en', u'profile_background_tile': False, u'favourites_count': 7, u'name': u'Parth Dadwal', u'notifications': False, u'url': None, u'created_at': u'Thu Dec 01 09:53:27 +0000 2016', u'contributors_enabled': False, u'time_zone': None, u'protected': False, u'default_profile': True, u'is_translator': False}, time_zone=None, id=804262121416470529, description=u\"Let's just pretend this is an intelligent biol!!\", _api=<tweepy.api.API object at 0x7fad7a87bb90>, verified=False, profile_text_color=u'333333', profile_image_url_https=u'https://pbs.twimg.com/profile_images/976501754396213248/L81zFwp3_normal.jpg', profile_sidebar_fill_color=u'DDEEF6', is_translator=False, geo_enabled=False, entities={u'description': {u'urls': []}}, followers_count=20, protected=False, id_str=u'804262121416470529', default_profile_image=False, listed_count=0, status=Status(contributors=None, truncated=False, text=u'@jyoti_tewatia1 @ashwinravi99 @sachin_rt You must\\'ve seen that meme... \"If a girl understands cricket like You....MARRY HER!\"', is_quote_status=False, in_reply_to_status_id=988672668466536448, id=988706740802871296, favorite_count=0, _api=<tweepy.api.API object at 0x7fad7a87bb90>, source=u'Twitter for Android', _json={u'contributors': None, u'truncated': False, u'text': u'@jyoti_tewatia1 @ashwinravi99 @sachin_rt You must\\'ve seen that meme... \"If a girl understands cricket like You....MARRY HER!\"', u'is_quote_status': False, u'in_reply_to_status_id': 988672668466536448, u'id': 988706740802871296, u'favorite_count': 0, u'source': u'<a href=\"http://twitter.com/download/android\" rel=\"nofollow\">Twitter for Android</a>', u'retweeted': False, u'coordinates': None, u'entities': {u'symbols': [], u'user_mentions': [{u'id': 768357594893262848, u'indices': [0, 15], u'id_str': u'768357594893262848', u'screen_name': u'jyoti_tewatia1', u'name': u'JYOTI TEWATIA'}, {u'id': 358814014, u'indices': [16, 29], u'id_str': u'358814014', u'screen_name': u'ashwinravi99', u'name': u'Ashwin Ravichandran'}, {u'id': 135421739, u'indices': [30, 40], u'id_str': u'135421739', u'screen_name': u'sachin_rt', u'name': u'Sachin Tendulkar'}], u'hashtags': [], u'urls': []}, u'in_reply_to_screen_name': u'jyoti_tewatia1', u'in_reply_to_user_id': 768357594893262848, u'retweet_count': 0, u'id_str': u'988706740802871296', u'favorited': False, u'geo': None, u'in_reply_to_user_id_str': u'768357594893262848', u'lang': u'en', u'created_at': u'Tue Apr 24 09:10:30 +0000 2018', u'in_reply_to_status_id_str': u'988672668466536448', u'place': None}, coordinates=None, entities={u'symbols': [], u'user_mentions': [{u'id': 768357594893262848, u'indices': [0, 15], u'id_str': u'768357594893262848', u'screen_name': u'jyoti_tewatia1', u'name': u'JYOTI TEWATIA'}, {u'id': 358814014, u'indices': [16, 29], u'id_str': u'358814014', u'screen_name': u'ashwinravi99', u'name': u'Ashwin Ravichandran'}, {u'id': 135421739, u'indices': [30, 40], u'id_str': u'135421739', u'screen_name': u'sachin_rt', u'name': u'Sachin Tendulkar'}], u'hashtags': [], u'urls': []}, in_reply_to_screen_name=u'jyoti_tewatia1', id_str=u'988706740802871296', retweet_count=0, in_reply_to_user_id=768357594893262848, favorited=False, source_url=u'http://twitter.com/download/android', geo=None, in_reply_to_user_id_str=u'768357594893262848', lang=u'en', created_at=datetime.datetime(2018, 4, 24, 9, 10, 30), in_reply_to_status_id_str=u'988672668466536448', place=None, retweeted=False), lang=u'en', utc_offset=None, statuses_count=4, profile_background_color=u'F5F8FA', friends_count=298, profile_link_color=u'1DA1F2', profile_image_url=u'http://pbs.twimg.com/profile_images/976501754396213248/L81zFwp3_normal.jpg', notifications=False, default_profile=True, profile_background_image_url_https=None, profile_banner_url=u'https://pbs.twimg.com/profile_banners/804262121416470529/1521651188', profile_background_image_url=None, name=u'Parth Dadwal', is_translation_enabled=False, profile_background_tile=False, favourites_count=7, screen_name=u'_parth____', url=None, created_at=datetime.datetime(2016, 12, 1, 9, 53, 27), contributors_enabled=False, location=u'New Delhi, India', profile_sidebar_border_color=u'C0DEED', translator_type=u'none', following=False),\n",
              " User(follow_request_sent=False, has_extended_profile=True, profile_use_background_image=True, _json={u'follow_request_sent': False, u'has_extended_profile': True, u'profile_use_background_image': True, u'default_profile_image': False, u'id': 2410928323, u'profile_background_image_url_https': u'https://abs.twimg.com/images/themes/theme1/bg.png', u'verified': False, u'translator_type': u'none', u'profile_text_color': u'333333', u'profile_image_url_https': u'https://pbs.twimg.com/profile_images/765189782452396032/O-aSoR_R_normal.jpg', u'profile_sidebar_fill_color': u'DDEEF6', u'entities': {u'url': {u'urls': [{u'url': u'https://t.co/AJ4zzRp5Qt', u'indices': [0, 23], u'expanded_url': u'http://youtube.com/hackmefast', u'display_url': u'youtube.com/hackmefast'}]}, u'description': {u'urls': []}}, u'followers_count': 61, u'profile_sidebar_border_color': u'C0DEED', u'id_str': u'2410928323', u'profile_background_color': u'C0DEED', u'listed_count': 1, u'status': {u'contributors': None, u'truncated': False, u'text': u'I added a video to a @YouTube playlist https://t.co/vDop7PUjaA [FREE]Accessing blocked websites on Android/ iPhone(VPN)', u'is_quote_status': False, u'in_reply_to_status_id': None, u'id': 818077674858041348, u'favorite_count': 1, u'source': u'<a href=\"http://www.google.com/\" rel=\"nofollow\">Google</a>', u'retweeted': False, u'coordinates': None, u'entities': {u'symbols': [], u'user_mentions': [{u'id': 10228272, u'indices': [21, 29], u'id_str': u'10228272', u'screen_name': u'YouTube', u'name': u'YouTube'}], u'hashtags': [], u'urls': [{u'url': u'https://t.co/vDop7PUjaA', u'indices': [39, 62], u'expanded_url': u'http://youtu.be/2p3oLyWJdAc?a', u'display_url': u'youtu.be/2p3oLyWJdAc?a'}]}, u'in_reply_to_screen_name': None, u'in_reply_to_user_id': None, u'retweet_count': 0, u'id_str': u'818077674858041348', u'favorited': False, u'geo': None, u'in_reply_to_user_id_str': None, u'possibly_sensitive': False, u'lang': u'en', u'created_at': u'Sun Jan 08 12:51:31 +0000 2017', u'in_reply_to_status_id_str': None, u'place': None}, u'is_translation_enabled': False, u'utc_offset': 19800, u'statuses_count': 267, u'description': u'I tried being normal for two minutes; worst two minutes of my life!\\n\\nCertified Ethical Hacker \\nOver thinker\\nPoet\\nWriter\\nStage Lover\\nFoodie', u'friends_count': 53, u'location': u'New Delhi, India', u'profile_link_color': u'1DA1F2', u'profile_image_url': u'http://pbs.twimg.com/profile_images/765189782452396032/O-aSoR_R_normal.jpg', u'following': True, u'geo_enabled': True, u'profile_banner_url': u'https://pbs.twimg.com/profile_banners/2410928323/1471270422', u'profile_background_image_url': u'http://abs.twimg.com/images/themes/theme1/bg.png', u'screen_name': u'HarshitRajpal14', u'lang': u'en', u'profile_background_tile': False, u'favourites_count': 108, u'name': u'Harshit Rajpal', u'notifications': False, u'url': u'https://t.co/AJ4zzRp5Qt', u'created_at': u'Tue Mar 25 12:15:58 +0000 2014', u'contributors_enabled': False, u'time_zone': u'Chennai', u'protected': False, u'default_profile': True, u'is_translator': False}, time_zone=u'Chennai', id=2410928323, description=u'I tried being normal for two minutes; worst two minutes of my life!\\n\\nCertified Ethical Hacker \\nOver thinker\\nPoet\\nWriter\\nStage Lover\\nFoodie', _api=<tweepy.api.API object at 0x7fad7a87bb90>, verified=False, profile_text_color=u'333333', profile_image_url_https=u'https://pbs.twimg.com/profile_images/765189782452396032/O-aSoR_R_normal.jpg', profile_sidebar_fill_color=u'DDEEF6', is_translator=False, geo_enabled=True, entities={u'url': {u'urls': [{u'url': u'https://t.co/AJ4zzRp5Qt', u'indices': [0, 23], u'expanded_url': u'http://youtube.com/hackmefast', u'display_url': u'youtube.com/hackmefast'}]}, u'description': {u'urls': []}}, followers_count=61, protected=False, id_str=u'2410928323', default_profile_image=False, listed_count=1, status=Status(contributors=None, truncated=False, text=u'I added a video to a @YouTube playlist https://t.co/vDop7PUjaA [FREE]Accessing blocked websites on Android/ iPhone(VPN)', is_quote_status=False, in_reply_to_status_id=None, id=818077674858041348, favorite_count=1, _api=<tweepy.api.API object at 0x7fad7a87bb90>, source=u'Google', _json={u'contributors': None, u'truncated': False, u'text': u'I added a video to a @YouTube playlist https://t.co/vDop7PUjaA [FREE]Accessing blocked websites on Android/ iPhone(VPN)', u'is_quote_status': False, u'in_reply_to_status_id': None, u'id': 818077674858041348, u'favorite_count': 1, u'source': u'<a href=\"http://www.google.com/\" rel=\"nofollow\">Google</a>', u'retweeted': False, u'coordinates': None, u'entities': {u'symbols': [], u'user_mentions': [{u'id': 10228272, u'indices': [21, 29], u'id_str': u'10228272', u'screen_name': u'YouTube', u'name': u'YouTube'}], u'hashtags': [], u'urls': [{u'url': u'https://t.co/vDop7PUjaA', u'indices': [39, 62], u'expanded_url': u'http://youtu.be/2p3oLyWJdAc?a', u'display_url': u'youtu.be/2p3oLyWJdAc?a'}]}, u'in_reply_to_screen_name': None, u'in_reply_to_user_id': None, u'retweet_count': 0, u'id_str': u'818077674858041348', u'favorited': False, u'geo': None, u'in_reply_to_user_id_str': None, u'possibly_sensitive': False, u'lang': u'en', u'created_at': u'Sun Jan 08 12:51:31 +0000 2017', u'in_reply_to_status_id_str': None, u'place': None}, coordinates=None, entities={u'symbols': [], u'user_mentions': [{u'id': 10228272, u'indices': [21, 29], u'id_str': u'10228272', u'screen_name': u'YouTube', u'name': u'YouTube'}], u'hashtags': [], u'urls': [{u'url': u'https://t.co/vDop7PUjaA', u'indices': [39, 62], u'expanded_url': u'http://youtu.be/2p3oLyWJdAc?a', u'display_url': u'youtu.be/2p3oLyWJdAc?a'}]}, in_reply_to_screen_name=None, id_str=u'818077674858041348', retweet_count=0, in_reply_to_user_id=None, favorited=False, source_url=u'http://www.google.com/', geo=None, in_reply_to_user_id_str=None, possibly_sensitive=False, lang=u'en', created_at=datetime.datetime(2017, 1, 8, 12, 51, 31), in_reply_to_status_id_str=None, place=None, retweeted=False), lang=u'en', utc_offset=19800, statuses_count=267, profile_background_color=u'C0DEED', friends_count=53, profile_link_color=u'1DA1F2', profile_image_url=u'http://pbs.twimg.com/profile_images/765189782452396032/O-aSoR_R_normal.jpg', notifications=False, default_profile=True, profile_background_image_url_https=u'https://abs.twimg.com/images/themes/theme1/bg.png', profile_banner_url=u'https://pbs.twimg.com/profile_banners/2410928323/1471270422', profile_background_image_url=u'http://abs.twimg.com/images/themes/theme1/bg.png', name=u'Harshit Rajpal', is_translation_enabled=False, profile_background_tile=False, favourites_count=108, screen_name=u'HarshitRajpal14', url=u'https://t.co/AJ4zzRp5Qt', created_at=datetime.datetime(2014, 3, 25, 12, 15, 58), contributors_enabled=False, location=u'New Delhi, India', profile_sidebar_border_color=u'C0DEED', translator_type=u'none', following=True),\n",
              " User(follow_request_sent=False, has_extended_profile=True, profile_use_background_image=True, _json={u'follow_request_sent': False, u'has_extended_profile': True, u'profile_use_background_image': True, u'default_profile_image': False, u'id': 2573397520, u'profile_background_image_url_https': u'https://abs.twimg.com/images/themes/theme1/bg.png', u'verified': False, u'translator_type': u'none', u'profile_text_color': u'333333', u'profile_image_url_https': u'https://pbs.twimg.com/profile_images/777649697267736576/gR_iMiUo_normal.jpg', u'profile_sidebar_fill_color': u'DDEEF6', u'entities': {u'description': {u'urls': []}}, u'followers_count': 10, u'profile_sidebar_border_color': u'C0DEED', u'id_str': u'2573397520', u'profile_background_color': u'C0DEED', u'listed_count': 0, u'status': {u'contributors': None, u'truncated': False, u'text': u\"@UnboxTherapy Woah that's one hell of a tower\\U0001f602\", u'is_quote_status': False, u'in_reply_to_status_id': 768323424674459648, u'id': 777648716119285760, u'favorite_count': 0, u'source': u'<a href=\"http://twitter.com/download/android\" rel=\"nofollow\">Twitter for Android</a>', u'retweeted': False, u'coordinates': None, u'entities': {u'symbols': [], u'user_mentions': [{u'id': 239672340, u'indices': [0, 13], u'id_str': u'239672340', u'screen_name': u'UnboxTherapy', u'name': u'Lewis Hilsenteger'}], u'hashtags': [], u'urls': []}, u'in_reply_to_screen_name': u'UnboxTherapy', u'in_reply_to_user_id': 239672340, u'retweet_count': 0, u'id_str': u'777648716119285760', u'favorited': False, u'geo': None, u'in_reply_to_user_id_str': u'239672340', u'lang': u'en', u'created_at': u'Sun Sep 18 23:21:16 +0000 2016', u'in_reply_to_status_id_str': u'768323424674459648', u'place': None}, u'is_translation_enabled': False, u'utc_offset': None, u'statuses_count': 1, u'description': u'19| \\nNyctophilic\\nProgrammer\\nBikes over anything\\nStan!', u'friends_count': 20, u'location': u'New Delhi, India', u'profile_link_color': u'1DA1F2', u'profile_image_url': u'http://pbs.twimg.com/profile_images/777649697267736576/gR_iMiUo_normal.jpg', u'following': True, u'geo_enabled': False, u'profile_banner_url': u'https://pbs.twimg.com/profile_banners/2573397520/1474241109', u'profile_background_image_url': u'http://abs.twimg.com/images/themes/theme1/bg.png', u'screen_name': u'iamstarkyy', u'lang': u'en', u'profile_background_tile': False, u'favourites_count': 4, u'name': u'Sarthak Rajput', u'notifications': False, u'url': None, u'created_at': u'Sat May 31 05:45:36 +0000 2014', u'contributors_enabled': False, u'time_zone': None, u'protected': False, u'default_profile': True, u'is_translator': False}, time_zone=None, id=2573397520, description=u'19| \\nNyctophilic\\nProgrammer\\nBikes over anything\\nStan!', _api=<tweepy.api.API object at 0x7fad7a87bb90>, verified=False, profile_text_color=u'333333', profile_image_url_https=u'https://pbs.twimg.com/profile_images/777649697267736576/gR_iMiUo_normal.jpg', profile_sidebar_fill_color=u'DDEEF6', is_translator=False, geo_enabled=False, entities={u'description': {u'urls': []}}, followers_count=10, protected=False, id_str=u'2573397520', default_profile_image=False, listed_count=0, status=Status(contributors=None, truncated=False, text=u\"@UnboxTherapy Woah that's one hell of a tower\\U0001f602\", is_quote_status=False, in_reply_to_status_id=768323424674459648, id=777648716119285760, favorite_count=0, _api=<tweepy.api.API object at 0x7fad7a87bb90>, source=u'Twitter for Android', _json={u'contributors': None, u'truncated': False, u'text': u\"@UnboxTherapy Woah that's one hell of a tower\\U0001f602\", u'is_quote_status': False, u'in_reply_to_status_id': 768323424674459648, u'id': 777648716119285760, u'favorite_count': 0, u'source': u'<a href=\"http://twitter.com/download/android\" rel=\"nofollow\">Twitter for Android</a>', u'retweeted': False, u'coordinates': None, u'entities': {u'symbols': [], u'user_mentions': [{u'id': 239672340, u'indices': [0, 13], u'id_str': u'239672340', u'screen_name': u'UnboxTherapy', u'name': u'Lewis Hilsenteger'}], u'hashtags': [], u'urls': []}, u'in_reply_to_screen_name': u'UnboxTherapy', u'in_reply_to_user_id': 239672340, u'retweet_count': 0, u'id_str': u'777648716119285760', u'favorited': False, u'geo': None, u'in_reply_to_user_id_str': u'239672340', u'lang': u'en', u'created_at': u'Sun Sep 18 23:21:16 +0000 2016', u'in_reply_to_status_id_str': u'768323424674459648', u'place': None}, coordinates=None, entities={u'symbols': [], u'user_mentions': [{u'id': 239672340, u'indices': [0, 13], u'id_str': u'239672340', u'screen_name': u'UnboxTherapy', u'name': u'Lewis Hilsenteger'}], u'hashtags': [], u'urls': []}, in_reply_to_screen_name=u'UnboxTherapy', id_str=u'777648716119285760', retweet_count=0, in_reply_to_user_id=239672340, favorited=False, source_url=u'http://twitter.com/download/android', geo=None, in_reply_to_user_id_str=u'239672340', lang=u'en', created_at=datetime.datetime(2016, 9, 18, 23, 21, 16), in_reply_to_status_id_str=u'768323424674459648', place=None, retweeted=False), lang=u'en', utc_offset=None, statuses_count=1, profile_background_color=u'C0DEED', friends_count=20, profile_link_color=u'1DA1F2', profile_image_url=u'http://pbs.twimg.com/profile_images/777649697267736576/gR_iMiUo_normal.jpg', notifications=False, default_profile=True, profile_background_image_url_https=u'https://abs.twimg.com/images/themes/theme1/bg.png', profile_banner_url=u'https://pbs.twimg.com/profile_banners/2573397520/1474241109', profile_background_image_url=u'http://abs.twimg.com/images/themes/theme1/bg.png', name=u'Sarthak Rajput', is_translation_enabled=False, profile_background_tile=False, favourites_count=4, screen_name=u'iamstarkyy', url=None, created_at=datetime.datetime(2014, 5, 31, 5, 45, 36), contributors_enabled=False, location=u'New Delhi, India', profile_sidebar_border_color=u'C0DEED', translator_type=u'none', following=True),\n",
              " User(follow_request_sent=False, has_extended_profile=True, profile_use_background_image=True, _json={u'follow_request_sent': False, u'has_extended_profile': True, u'profile_use_background_image': True, u'default_profile_image': False, u'id': 781322549422620672, u'profile_background_image_url_https': None, u'verified': False, u'translator_type': u'none', u'profile_text_color': u'333333', u'profile_image_url_https': u'https://pbs.twimg.com/profile_images/781797939127738369/XzqyVrsm_normal.jpg', u'profile_sidebar_fill_color': u'DDEEF6', u'entities': {u'description': {u'urls': []}}, u'followers_count': 16, u'profile_sidebar_border_color': u'C0DEED', u'id_str': u'781322549422620672', u'profile_background_color': u'F5F8FA', u'listed_count': 0, u'status': {u'contributors': None, u'truncated': False, u'text': u\"RT @AnselElgort: WOW!! HOME ALONE IS OUT ON ITUNES! I can't believe this day is finally here!!!\\nGet it here! https://t.co/aAy8Gq2rsO\", u'is_quote_status': False, u'in_reply_to_status_id': None, u'id': 783484441717051392, u'favorite_count': 0, u'source': u'<a href=\"http://twitter.com/download/iphone\" rel=\"nofollow\">Twitter for iPhone</a>', u'retweeted': False, u'coordinates': None, u'entities': {u'symbols': [], u'user_mentions': [{u'id': 216201838, u'indices': [3, 15], u'id_str': u'216201838', u'screen_name': u'AnselElgort', u'name': u'Ansel Elgort'}], u'hashtags': [], u'urls': [{u'url': u'https://t.co/aAy8Gq2rsO', u'indices': [109, 132], u'expanded_url': u'http://smarturl.it/AnselHomeAlone', u'display_url': u'smarturl.it/AnselHomeAlone'}]}, u'in_reply_to_screen_name': None, u'in_reply_to_user_id': None, u'retweet_count': 3702, u'id_str': u'783484441717051392', u'favorited': False, u'retweeted_status': {u'contributors': None, u'truncated': False, u'text': u\"WOW!! HOME ALONE IS OUT ON ITUNES! I can't believe this day is finally here!!!\\nGet it here! https://t.co/aAy8Gq2rsO\", u'is_quote_status': False, u'in_reply_to_status_id': None, u'id': 756383309349920769, u'favorite_count': 7786, u'source': u'<a href=\"http://twitter.com/download/iphone\" rel=\"nofollow\">Twitter for iPhone</a>', u'retweeted': False, u'coordinates': None, u'entities': {u'symbols': [], u'user_mentions': [], u'hashtags': [], u'urls': [{u'url': u'https://t.co/aAy8Gq2rsO', u'indices': [92, 115], u'expanded_url': u'http://smarturl.it/AnselHomeAlone', u'display_url': u'smarturl.it/AnselHomeAlone'}]}, u'in_reply_to_screen_name': None, u'in_reply_to_user_id': None, u'retweet_count': 3702, u'id_str': u'756383309349920769', u'favorited': False, u'geo': None, u'in_reply_to_user_id_str': None, u'possibly_sensitive': False, u'lang': u'en', u'created_at': u'Fri Jul 22 07:00:08 +0000 2016', u'in_reply_to_status_id_str': None, u'place': None}, u'geo': None, u'in_reply_to_user_id_str': None, u'possibly_sensitive': False, u'lang': u'en', u'created_at': u'Wed Oct 05 01:50:21 +0000 2016', u'in_reply_to_status_id_str': None, u'place': None}, u'is_translation_enabled': False, u'utc_offset': None, u'statuses_count': 2, u'description': u'Dentistry is love \\U0001f60d', u'friends_count': 25, u'location': u'New Delhi, India', u'profile_link_color': u'1DA1F2', u'profile_image_url': u'http://pbs.twimg.com/profile_images/781797939127738369/XzqyVrsm_normal.jpg', u'following': True, u'geo_enabled': False, u'profile_banner_url': u'https://pbs.twimg.com/profile_banners/781322549422620672/1475632477', u'profile_background_image_url': None, u'screen_name': u'sakshi28tyagi', u'lang': u'en', u'profile_background_tile': False, u'favourites_count': 15, u'name': u'Sakshi', u'notifications': True, u'url': None, u'created_at': u'Thu Sep 29 02:39:46 +0000 2016', u'contributors_enabled': False, u'time_zone': None, u'protected': False, u'default_profile': True, u'is_translator': False}, time_zone=None, id=781322549422620672, description=u'Dentistry is love \\U0001f60d', _api=<tweepy.api.API object at 0x7fad7a87bb90>, verified=False, profile_text_color=u'333333', profile_image_url_https=u'https://pbs.twimg.com/profile_images/781797939127738369/XzqyVrsm_normal.jpg', profile_sidebar_fill_color=u'DDEEF6', is_translator=False, geo_enabled=False, entities={u'description': {u'urls': []}}, followers_count=16, protected=False, id_str=u'781322549422620672', default_profile_image=False, listed_count=0, status=Status(contributors=None, truncated=False, text=u\"RT @AnselElgort: WOW!! HOME ALONE IS OUT ON ITUNES! I can't believe this day is finally here!!!\\nGet it here! https://t.co/aAy8Gq2rsO\", is_quote_status=False, in_reply_to_status_id=None, id=783484441717051392, favorite_count=0, _api=<tweepy.api.API object at 0x7fad7a87bb90>, source=u'Twitter for iPhone', _json={u'contributors': None, u'truncated': False, u'text': u\"RT @AnselElgort: WOW!! HOME ALONE IS OUT ON ITUNES! I can't believe this day is finally here!!!\\nGet it here! https://t.co/aAy8Gq2rsO\", u'is_quote_status': False, u'in_reply_to_status_id': None, u'id': 783484441717051392, u'favorite_count': 0, u'source': u'<a href=\"http://twitter.com/download/iphone\" rel=\"nofollow\">Twitter for iPhone</a>', u'retweeted': False, u'coordinates': None, u'entities': {u'symbols': [], u'user_mentions': [{u'id': 216201838, u'indices': [3, 15], u'id_str': u'216201838', u'screen_name': u'AnselElgort', u'name': u'Ansel Elgort'}], u'hashtags': [], u'urls': [{u'url': u'https://t.co/aAy8Gq2rsO', u'indices': [109, 132], u'expanded_url': u'http://smarturl.it/AnselHomeAlone', u'display_url': u'smarturl.it/AnselHomeAlone'}]}, u'in_reply_to_screen_name': None, u'in_reply_to_user_id': None, u'retweet_count': 3702, u'id_str': u'783484441717051392', u'favorited': False, u'retweeted_status': {u'contributors': None, u'truncated': False, u'text': u\"WOW!! HOME ALONE IS OUT ON ITUNES! I can't believe this day is finally here!!!\\nGet it here! https://t.co/aAy8Gq2rsO\", u'is_quote_status': False, u'in_reply_to_status_id': None, u'id': 756383309349920769, u'favorite_count': 7786, u'source': u'<a href=\"http://twitter.com/download/iphone\" rel=\"nofollow\">Twitter for iPhone</a>', u'retweeted': False, u'coordinates': None, u'entities': {u'symbols': [], u'user_mentions': [], u'hashtags': [], u'urls': [{u'url': u'https://t.co/aAy8Gq2rsO', u'indices': [92, 115], u'expanded_url': u'http://smarturl.it/AnselHomeAlone', u'display_url': u'smarturl.it/AnselHomeAlone'}]}, u'in_reply_to_screen_name': None, u'in_reply_to_user_id': None, u'retweet_count': 3702, u'id_str': u'756383309349920769', u'favorited': False, u'geo': None, u'in_reply_to_user_id_str': None, u'possibly_sensitive': False, u'lang': u'en', u'created_at': u'Fri Jul 22 07:00:08 +0000 2016', u'in_reply_to_status_id_str': None, u'place': None}, u'geo': None, u'in_reply_to_user_id_str': None, u'possibly_sensitive': False, u'lang': u'en', u'created_at': u'Wed Oct 05 01:50:21 +0000 2016', u'in_reply_to_status_id_str': None, u'place': None}, coordinates=None, entities={u'symbols': [], u'user_mentions': [{u'id': 216201838, u'indices': [3, 15], u'id_str': u'216201838', u'screen_name': u'AnselElgort', u'name': u'Ansel Elgort'}], u'hashtags': [], u'urls': [{u'url': u'https://t.co/aAy8Gq2rsO', u'indices': [109, 132], u'expanded_url': u'http://smarturl.it/AnselHomeAlone', u'display_url': u'smarturl.it/AnselHomeAlone'}]}, in_reply_to_screen_name=None, id_str=u'783484441717051392', retweet_count=3702, in_reply_to_user_id=None, favorited=False, retweeted_status=Status(contributors=None, truncated=False, text=u\"WOW!! HOME ALONE IS OUT ON ITUNES! I can't believe this day is finally here!!!\\nGet it here! https://t.co/aAy8Gq2rsO\", is_quote_status=False, in_reply_to_status_id=None, id=756383309349920769, favorite_count=7786, _api=<tweepy.api.API object at 0x7fad7a87bb90>, source=u'Twitter for iPhone', _json={u'contributors': None, u'truncated': False, u'text': u\"WOW!! HOME ALONE IS OUT ON ITUNES! I can't believe this day is finally here!!!\\nGet it here! https://t.co/aAy8Gq2rsO\", u'is_quote_status': False, u'in_reply_to_status_id': None, u'id': 756383309349920769, u'favorite_count': 7786, u'source': u'<a href=\"http://twitter.com/download/iphone\" rel=\"nofollow\">Twitter for iPhone</a>', u'retweeted': False, u'coordinates': None, u'entities': {u'symbols': [], u'user_mentions': [], u'hashtags': [], u'urls': [{u'url': u'https://t.co/aAy8Gq2rsO', u'indices': [92, 115], u'expanded_url': u'http://smarturl.it/AnselHomeAlone', u'display_url': u'smarturl.it/AnselHomeAlone'}]}, u'in_reply_to_screen_name': None, u'in_reply_to_user_id': None, u'retweet_count': 3702, u'id_str': u'756383309349920769', u'favorited': False, u'geo': None, u'in_reply_to_user_id_str': None, u'possibly_sensitive': False, u'lang': u'en', u'created_at': u'Fri Jul 22 07:00:08 +0000 2016', u'in_reply_to_status_id_str': None, u'place': None}, coordinates=None, entities={u'symbols': [], u'user_mentions': [], u'hashtags': [], u'urls': [{u'url': u'https://t.co/aAy8Gq2rsO', u'indices': [92, 115], u'expanded_url': u'http://smarturl.it/AnselHomeAlone', u'display_url': u'smarturl.it/AnselHomeAlone'}]}, in_reply_to_screen_name=None, id_str=u'756383309349920769', retweet_count=3702, in_reply_to_user_id=None, favorited=False, source_url=u'http://twitter.com/download/iphone', geo=None, in_reply_to_user_id_str=None, possibly_sensitive=False, lang=u'en', created_at=datetime.datetime(2016, 7, 22, 7, 0, 8), in_reply_to_status_id_str=None, place=None, retweeted=False), source_url=u'http://twitter.com/download/iphone', geo=None, in_reply_to_user_id_str=None, possibly_sensitive=False, lang=u'en', created_at=datetime.datetime(2016, 10, 5, 1, 50, 21), in_reply_to_status_id_str=None, place=None, retweeted=False), lang=u'en', utc_offset=None, statuses_count=2, profile_background_color=u'F5F8FA', friends_count=25, profile_link_color=u'1DA1F2', profile_image_url=u'http://pbs.twimg.com/profile_images/781797939127738369/XzqyVrsm_normal.jpg', notifications=True, default_profile=True, profile_background_image_url_https=None, profile_banner_url=u'https://pbs.twimg.com/profile_banners/781322549422620672/1475632477', profile_background_image_url=None, name=u'Sakshi', is_translation_enabled=False, profile_background_tile=False, favourites_count=15, screen_name=u'sakshi28tyagi', url=None, created_at=datetime.datetime(2016, 9, 29, 2, 39, 46), contributors_enabled=False, location=u'New Delhi, India', profile_sidebar_border_color=u'C0DEED', translator_type=u'none', following=True),\n",
              " User(follow_request_sent=False, has_extended_profile=True, profile_use_background_image=False, _json={u'follow_request_sent': False, u'has_extended_profile': True, u'profile_use_background_image': False, u'default_profile_image': False, u'id': 3308324016, u'profile_background_image_url_https': u'https://abs.twimg.com/images/themes/theme1/bg.png', u'verified': False, u'translator_type': u'none', u'profile_text_color': u'000000', u'profile_image_url_https': u'https://pbs.twimg.com/profile_images/781130790264377344/D7uurw0u_normal.jpg', u'profile_sidebar_fill_color': u'000000', u'entities': {u'url': {u'urls': [{u'url': u'https://t.co/gBgJb26m8z', u'indices': [0, 23], u'expanded_url': u'https://www.wattpad.com/user/meltingrelations', u'display_url': u'wattpad.com/user/meltingre\\u2026'}]}, u'description': {u'urls': []}}, u'followers_count': 3314, u'profile_sidebar_border_color': u'000000', u'id_str': u'3308324016', u'profile_background_color': u'000000', u'listed_count': 20, u'status': {u'contributors': None, u'truncated': False, u'text': u'10 people followed me and 9 people unfollowed me // automatically checked by https://t.co/ViWxgfCNDq', u'is_quote_status': False, u'in_reply_to_status_id': None, u'id': 992669736424091652, u'favorite_count': 0, u'source': u'<a href=\"http://fllwrs.com\" rel=\"nofollow\">fllwrs</a>', u'retweeted': False, u'coordinates': None, u'entities': {u'symbols': [], u'user_mentions': [], u'hashtags': [], u'urls': [{u'url': u'https://t.co/ViWxgfCNDq', u'indices': [77, 100], u'expanded_url': u'http://fllwrs.com', u'display_url': u'fllwrs.com'}]}, u'in_reply_to_screen_name': None, u'in_reply_to_user_id': None, u'retweet_count': 0, u'id_str': u'992669736424091652', u'favorited': False, u'geo': None, u'in_reply_to_user_id_str': None, u'possibly_sensitive': False, u'lang': u'en', u'created_at': u'Sat May 05 07:38:02 +0000 2018', u'in_reply_to_status_id_str': None, u'place': None}, u'is_translation_enabled': False, u'utc_offset': -25200, u'statuses_count': 1147, u'description': u'I PROMOTE books by online authors, regardless of platform! Simply PM me on twitter the LINK, make the request quick. Link below is to my #wattpad account:)', u'friends_count': 3533, u'location': u'Wattpad & Twitter', u'profile_link_color': u'9266CC', u'profile_image_url': u'http://pbs.twimg.com/profile_images/781130790264377344/D7uurw0u_normal.jpg', u'following': True, u'geo_enabled': False, u'profile_banner_url': u'https://pbs.twimg.com/profile_banners/3308324016/1476068666', u'profile_background_image_url': u'http://abs.twimg.com/images/themes/theme1/bg.png', u'screen_name': u'WattpadForum', u'lang': u'en', u'profile_background_tile': False, u'favourites_count': 2935, u'name': u'WattpadForum', u'notifications': False, u'url': u'https://t.co/gBgJb26m8z', u'created_at': u'Fri Aug 07 02:54:56 +0000 2015', u'contributors_enabled': False, u'time_zone': u'Pacific Time (US & Canada)', u'protected': False, u'default_profile': False, u'is_translator': False}, time_zone=u'Pacific Time (US & Canada)', id=3308324016, description=u'I PROMOTE books by online authors, regardless of platform! Simply PM me on twitter the LINK, make the request quick. Link below is to my #wattpad account:)', _api=<tweepy.api.API object at 0x7fad7a87bb90>, verified=False, profile_text_color=u'000000', profile_image_url_https=u'https://pbs.twimg.com/profile_images/781130790264377344/D7uurw0u_normal.jpg', profile_sidebar_fill_color=u'000000', is_translator=False, geo_enabled=False, entities={u'url': {u'urls': [{u'url': u'https://t.co/gBgJb26m8z', u'indices': [0, 23], u'expanded_url': u'https://www.wattpad.com/user/meltingrelations', u'display_url': u'wattpad.com/user/meltingre\\u2026'}]}, u'description': {u'urls': []}}, followers_count=3314, protected=False, id_str=u'3308324016', default_profile_image=False, listed_count=20, status=Status(contributors=None, truncated=False, text=u'10 people followed me and 9 people unfollowed me // automatically checked by https://t.co/ViWxgfCNDq', is_quote_status=False, in_reply_to_status_id=None, id=992669736424091652, favorite_count=0, _api=<tweepy.api.API object at 0x7fad7a87bb90>, source=u'fllwrs', _json={u'contributors': None, u'truncated': False, u'text': u'10 people followed me and 9 people unfollowed me // automatically checked by https://t.co/ViWxgfCNDq', u'is_quote_status': False, u'in_reply_to_status_id': None, u'id': 992669736424091652, u'favorite_count': 0, u'source': u'<a href=\"http://fllwrs.com\" rel=\"nofollow\">fllwrs</a>', u'retweeted': False, u'coordinates': None, u'entities': {u'symbols': [], u'user_mentions': [], u'hashtags': [], u'urls': [{u'url': u'https://t.co/ViWxgfCNDq', u'indices': [77, 100], u'expanded_url': u'http://fllwrs.com', u'display_url': u'fllwrs.com'}]}, u'in_reply_to_screen_name': None, u'in_reply_to_user_id': None, u'retweet_count': 0, u'id_str': u'992669736424091652', u'favorited': False, u'geo': None, u'in_reply_to_user_id_str': None, u'possibly_sensitive': False, u'lang': u'en', u'created_at': u'Sat May 05 07:38:02 +0000 2018', u'in_reply_to_status_id_str': None, u'place': None}, coordinates=None, entities={u'symbols': [], u'user_mentions': [], u'hashtags': [], u'urls': [{u'url': u'https://t.co/ViWxgfCNDq', u'indices': [77, 100], u'expanded_url': u'http://fllwrs.com', u'display_url': u'fllwrs.com'}]}, in_reply_to_screen_name=None, id_str=u'992669736424091652', retweet_count=0, in_reply_to_user_id=None, favorited=False, source_url=u'http://fllwrs.com', geo=None, in_reply_to_user_id_str=None, possibly_sensitive=False, lang=u'en', created_at=datetime.datetime(2018, 5, 5, 7, 38, 2), in_reply_to_status_id_str=None, place=None, retweeted=False), lang=u'en', utc_offset=-25200, statuses_count=1147, profile_background_color=u'000000', friends_count=3533, profile_link_color=u'9266CC', profile_image_url=u'http://pbs.twimg.com/profile_images/781130790264377344/D7uurw0u_normal.jpg', notifications=False, default_profile=False, profile_background_image_url_https=u'https://abs.twimg.com/images/themes/theme1/bg.png', profile_banner_url=u'https://pbs.twimg.com/profile_banners/3308324016/1476068666', profile_background_image_url=u'http://abs.twimg.com/images/themes/theme1/bg.png', name=u'WattpadForum', is_translation_enabled=False, profile_background_tile=False, favourites_count=2935, screen_name=u'WattpadForum', url=u'https://t.co/gBgJb26m8z', created_at=datetime.datetime(2015, 8, 7, 2, 54, 56), contributors_enabled=False, location=u'Wattpad & Twitter', profile_sidebar_border_color=u'000000', translator_type=u'none', following=True),\n",
              " User(follow_request_sent=False, has_extended_profile=True, profile_use_background_image=True, _json={u'follow_request_sent': False, u'has_extended_profile': True, u'profile_use_background_image': True, u'default_profile_image': False, u'id': 4310983692, u'profile_background_image_url_https': u'https://abs.twimg.com/images/themes/theme1/bg.png', u'verified': False, u'translator_type': u'none', u'profile_text_color': u'333333', u'profile_image_url_https': u'https://pbs.twimg.com/profile_images/826138707765846017/4p-P6ZV6_normal.jpg', u'profile_sidebar_fill_color': u'DDEEF6', u'entities': {u'description': {u'urls': []}}, u'followers_count': 221, u'profile_sidebar_border_color': u'C0DEED', u'id_str': u'4310983692', u'profile_background_color': u'C0DEED', u'listed_count': 0, u'status': {u'contributors': None, u'truncated': False, u'text': u'RT @DOCTORATLARGE: There are no more lovers - only seducers\\nThere are no more batsmen - only hitters\\nThere are no more leaders - only misle\\u2026', u'is_quote_status': False, u'in_reply_to_status_id': None, u'id': 992339413861568513, u'favorite_count': 0, u'source': u'<a href=\"http://twitter.com/download/android\" rel=\"nofollow\">Twitter for Android</a>', u'retweeted': False, u'coordinates': None, u'entities': {u'symbols': [], u'user_mentions': [{u'id': 73871975, u'indices': [3, 17], u'id_str': u'73871975', u'screen_name': u'DOCTORATLARGE', u'name': u'The Bad Doctor'}], u'hashtags': [], u'urls': []}, u'in_reply_to_screen_name': None, u'in_reply_to_user_id': None, u'retweet_count': 492, u'id_str': u'992339413861568513', u'favorited': False, u'retweeted_status': {u'contributors': None, u'truncated': True, u'text': u'There are no more lovers - only seducers\\nThere are no more batsmen - only hitters\\nThere are no more leaders - only\\u2026 https://t.co/9X7ABeXZpq', u'is_quote_status': False, u'in_reply_to_status_id': None, u'id': 992289510632255488, u'favorite_count': 991, u'source': u'<a href=\"http://twitter.com/download/android\" rel=\"nofollow\">Twitter for Android</a>', u'retweeted': False, u'coordinates': None, u'entities': {u'symbols': [], u'user_mentions': [], u'hashtags': [], u'urls': [{u'url': u'https://t.co/9X7ABeXZpq', u'indices': [116, 139], u'expanded_url': u'https://twitter.com/i/web/status/992289510632255488', u'display_url': u'twitter.com/i/web/status/9\\u2026'}]}, u'in_reply_to_screen_name': None, u'in_reply_to_user_id': None, u'retweet_count': 492, u'id_str': u'992289510632255488', u'favorited': False, u'geo': None, u'in_reply_to_user_id_str': None, u'lang': u'en', u'created_at': u'Fri May 04 06:27:09 +0000 2018', u'in_reply_to_status_id_str': None, u'place': None}, u'geo': None, u'in_reply_to_user_id_str': None, u'lang': u'en', u'created_at': u'Fri May 04 09:45:27 +0000 2018', u'in_reply_to_status_id_str': None, u'place': None}, u'is_translation_enabled': False, u'utc_offset': None, u'statuses_count': 679, u'description': u'An INDIAN first. Kashmiri Pandit later. \\nJAI HIND', u'friends_count': 340, u'location': u'New Delhi, India', u'profile_link_color': u'1DA1F2', u'profile_image_url': u'http://pbs.twimg.com/profile_images/826138707765846017/4p-P6ZV6_normal.jpg', u'following': True, u'geo_enabled': False, u'profile_banner_url': u'https://pbs.twimg.com/profile_banners/4310983692/1479497660', u'profile_background_image_url': u'http://abs.twimg.com/images/themes/theme1/bg.png', u'screen_name': u'myself_ap', u'lang': u'en', u'profile_background_tile': False, u'favourites_count': 474, u'name': u'Aarav Punjabi', u'notifications': True, u'url': None, u'created_at': u'Sat Nov 21 10:38:17 +0000 2015', u'contributors_enabled': False, u'time_zone': None, u'protected': False, u'default_profile': True, u'is_translator': False}, time_zone=None, id=4310983692, description=u'An INDIAN first. Kashmiri Pandit later. \\nJAI HIND', _api=<tweepy.api.API object at 0x7fad7a87bb90>, verified=False, profile_text_color=u'333333', profile_image_url_https=u'https://pbs.twimg.com/profile_images/826138707765846017/4p-P6ZV6_normal.jpg', profile_sidebar_fill_color=u'DDEEF6', is_translator=False, geo_enabled=False, entities={u'description': {u'urls': []}}, followers_count=221, protected=False, id_str=u'4310983692', default_profile_image=False, listed_count=0, status=Status(contributors=None, truncated=False, text=u'RT @DOCTORATLARGE: There are no more lovers - only seducers\\nThere are no more batsmen - only hitters\\nThere are no more leaders - only misle\\u2026', is_quote_status=False, in_reply_to_status_id=None, id=992339413861568513, favorite_count=0, _api=<tweepy.api.API object at 0x7fad7a87bb90>, source=u'Twitter for Android', _json={u'contributors': None, u'truncated': False, u'text': u'RT @DOCTORATLARGE: There are no more lovers - only seducers\\nThere are no more batsmen - only hitters\\nThere are no more leaders - only misle\\u2026', u'is_quote_status': False, u'in_reply_to_status_id': None, u'id': 992339413861568513, u'favorite_count': 0, u'source': u'<a href=\"http://twitter.com/download/android\" rel=\"nofollow\">Twitter for Android</a>', u'retweeted': False, u'coordinates': None, u'entities': {u'symbols': [], u'user_mentions': [{u'id': 73871975, u'indices': [3, 17], u'id_str': u'73871975', u'screen_name': u'DOCTORATLARGE', u'name': u'The Bad Doctor'}], u'hashtags': [], u'urls': []}, u'in_reply_to_screen_name': None, u'in_reply_to_user_id': None, u'retweet_count': 492, u'id_str': u'992339413861568513', u'favorited': False, u'retweeted_status': {u'contributors': None, u'truncated': True, u'text': u'There are no more lovers - only seducers\\nThere are no more batsmen - only hitters\\nThere are no more leaders - only\\u2026 https://t.co/9X7ABeXZpq', u'is_quote_status': False, u'in_reply_to_status_id': None, u'id': 992289510632255488, u'favorite_count': 991, u'source': u'<a href=\"http://twitter.com/download/android\" rel=\"nofollow\">Twitter for Android</a>', u'retweeted': False, u'coordinates': None, u'entities': {u'symbols': [], u'user_mentions': [], u'hashtags': [], u'urls': [{u'url': u'https://t.co/9X7ABeXZpq', u'indices': [116, 139], u'expanded_url': u'https://twitter.com/i/web/status/992289510632255488', u'display_url': u'twitter.com/i/web/status/9\\u2026'}]}, u'in_reply_to_screen_name': None, u'in_reply_to_user_id': None, u'retweet_count': 492, u'id_str': u'992289510632255488', u'favorited': False, u'geo': None, u'in_reply_to_user_id_str': None, u'lang': u'en', u'created_at': u'Fri May 04 06:27:09 +0000 2018', u'in_reply_to_status_id_str': None, u'place': None}, u'geo': None, u'in_reply_to_user_id_str': None, u'lang': u'en', u'created_at': u'Fri May 04 09:45:27 +0000 2018', u'in_reply_to_status_id_str': None, u'place': None}, coordinates=None, entities={u'symbols': [], u'user_mentions': [{u'id': 73871975, u'indices': [3, 17], u'id_str': u'73871975', u'screen_name': u'DOCTORATLARGE', u'name': u'The Bad Doctor'}], u'hashtags': [], u'urls': []}, in_reply_to_screen_name=None, id_str=u'992339413861568513', retweet_count=492, in_reply_to_user_id=None, favorited=False, retweeted_status=Status(contributors=None, truncated=True, text=u'There are no more lovers - only seducers\\nThere are no more batsmen - only hitters\\nThere are no more leaders - only\\u2026 https://t.co/9X7ABeXZpq', is_quote_status=False, in_reply_to_status_id=None, id=992289510632255488, favorite_count=991, _api=<tweepy.api.API object at 0x7fad7a87bb90>, source=u'Twitter for Android', _json={u'contributors': None, u'truncated': True, u'text': u'There are no more lovers - only seducers\\nThere are no more batsmen - only hitters\\nThere are no more leaders - only\\u2026 https://t.co/9X7ABeXZpq', u'is_quote_status': False, u'in_reply_to_status_id': None, u'id': 992289510632255488, u'favorite_count': 991, u'source': u'<a href=\"http://twitter.com/download/android\" rel=\"nofollow\">Twitter for Android</a>', u'retweeted': False, u'coordinates': None, u'entities': {u'symbols': [], u'user_mentions': [], u'hashtags': [], u'urls': [{u'url': u'https://t.co/9X7ABeXZpq', u'indices': [116, 139], u'expanded_url': u'https://twitter.com/i/web/status/992289510632255488', u'display_url': u'twitter.com/i/web/status/9\\u2026'}]}, u'in_reply_to_screen_name': None, u'in_reply_to_user_id': None, u'retweet_count': 492, u'id_str': u'992289510632255488', u'favorited': False, u'geo': None, u'in_reply_to_user_id_str': None, u'lang': u'en', u'created_at': u'Fri May 04 06:27:09 +0000 2018', u'in_reply_to_status_id_str': None, u'place': None}, coordinates=None, entities={u'symbols': [], u'user_mentions': [], u'hashtags': [], u'urls': [{u'url': u'https://t.co/9X7ABeXZpq', u'indices': [116, 139], u'expanded_url': u'https://twitter.com/i/web/status/992289510632255488', u'display_url': u'twitter.com/i/web/status/9\\u2026'}]}, in_reply_to_screen_name=None, id_str=u'992289510632255488', retweet_count=492, in_reply_to_user_id=None, favorited=False, source_url=u'http://twitter.com/download/android', geo=None, in_reply_to_user_id_str=None, lang=u'en', created_at=datetime.datetime(2018, 5, 4, 6, 27, 9), in_reply_to_status_id_str=None, place=None, retweeted=False), source_url=u'http://twitter.com/download/android', geo=None, in_reply_to_user_id_str=None, lang=u'en', created_at=datetime.datetime(2018, 5, 4, 9, 45, 27), in_reply_to_status_id_str=None, place=None, retweeted=False), lang=u'en', utc_offset=None, statuses_count=679, profile_background_color=u'C0DEED', friends_count=340, profile_link_color=u'1DA1F2', profile_image_url=u'http://pbs.twimg.com/profile_images/826138707765846017/4p-P6ZV6_normal.jpg', notifications=True, default_profile=True, profile_background_image_url_https=u'https://abs.twimg.com/images/themes/theme1/bg.png', profile_banner_url=u'https://pbs.twimg.com/profile_banners/4310983692/1479497660', profile_background_image_url=u'http://abs.twimg.com/images/themes/theme1/bg.png', name=u'Aarav Punjabi', is_translation_enabled=False, profile_background_tile=False, favourites_count=474, screen_name=u'myself_ap', url=None, created_at=datetime.datetime(2015, 11, 21, 10, 38, 17), contributors_enabled=False, location=u'New Delhi, India', profile_sidebar_border_color=u'C0DEED', translator_type=u'none', following=True)]"
            ]
          },
          "metadata": {
            "tags": []
          },
          "execution_count": 68
        }
      ]
    },
    {
      "metadata": {
        "id": "Log8EDIA1yDG",
        "colab_type": "code",
        "colab": {
          "base_uri": "https://localhost:8080/",
          "height": 54
        },
        "outputId": "2ffc94d3-9ddf-4319-8340-2991feaaf694"
      },
      "cell_type": "code",
      "source": [
        "api.send_direct_message(screen_name = '@myself_ap' , text='just a bot testing using python, ignore it')"
      ],
      "execution_count": 71,
      "outputs": [
        {
          "output_type": "execute_result",
          "data": {
            "text/plain": [
              "DirectMessage(_api=<tweepy.api.API object at 0x7fad7a87bb90>, recipient_id_str=u'4310983692', sender=User(follow_request_sent=False, has_extended_profile=True, profile_use_background_image=True, _json={u'follow_request_sent': False, u'has_extended_profile': True, u'profile_use_background_image': True, u'default_profile_image': False, u'id': 780951174086168576, u'profile_background_image_url_https': None, u'verified': False, u'translator_type': u'none', u'profile_text_color': u'333333', u'profile_image_url_https': u'https://pbs.twimg.com/profile_images/784033730193010689/R10bU-Su_normal.jpg', u'profile_sidebar_fill_color': u'DDEEF6', u'entities': {u'description': {u'urls': []}}, u'followers_count': 10, u'profile_sidebar_border_color': u'C0DEED', u'id_str': u'780951174086168576', u'profile_background_color': u'F5F8FA', u'listed_count': 0, u'is_translation_enabled': False, u'utc_offset': None, u'statuses_count': 13, u'description': u'Sports Cricketers and Commentators Entertainment Food Government and Politics Lifestyle Comedy and Humour TV Personalities Politicians and Pol Parties', u'friends_count': 40, u'location': u'West Sagarpur, New Delhi', u'profile_link_color': u'1DA1F2', u'profile_image_url': u'http://pbs.twimg.com/profile_images/784033730193010689/R10bU-Su_normal.jpg', u'following': False, u'geo_enabled': False, u'profile_banner_url': u'https://pbs.twimg.com/profile_banners/780951174086168576/1475763181', u'profile_background_image_url': None, u'screen_name': u'myself_dj', u'lang': u'en', u'profile_background_tile': False, u'favourites_count': 27, u'name': u'Dipesh Jain', u'notifications': False, u'url': None, u'created_at': u'Wed Sep 28 02:04:04 +0000 2016', u'contributors_enabled': False, u'time_zone': None, u'protected': False, u'default_profile': True, u'is_translator': False}, time_zone=None, id=780951174086168576, description=u'Sports Cricketers and Commentators Entertainment Food Government and Politics Lifestyle Comedy and Humour TV Personalities Politicians and Pol Parties', _api=<tweepy.api.API object at 0x7fad7a87bb90>, verified=False, profile_text_color=u'333333', profile_image_url_https=u'https://pbs.twimg.com/profile_images/784033730193010689/R10bU-Su_normal.jpg', profile_sidebar_fill_color=u'DDEEF6', is_translator=False, geo_enabled=False, entities={u'description': {u'urls': []}}, followers_count=10, protected=False, id_str=u'780951174086168576', default_profile_image=False, listed_count=0, lang=u'en', utc_offset=None, statuses_count=13, profile_background_color=u'F5F8FA', friends_count=40, profile_link_color=u'1DA1F2', profile_image_url=u'http://pbs.twimg.com/profile_images/784033730193010689/R10bU-Su_normal.jpg', notifications=False, default_profile=True, profile_background_image_url_https=None, profile_banner_url=u'https://pbs.twimg.com/profile_banners/780951174086168576/1475763181', profile_background_image_url=None, name=u'Dipesh Jain', is_translation_enabled=False, profile_background_tile=False, favourites_count=27, screen_name=u'myself_dj', url=None, created_at=datetime.datetime(2016, 9, 28, 2, 4, 4), contributors_enabled=False, location=u'West Sagarpur, New Delhi', profile_sidebar_border_color=u'C0DEED', translator_type=u'none', following=False), sender_id_str=u'780951174086168576', text=u'just a bot testing using python, ignore it', created_at=datetime.datetime(2018, 5, 6, 6, 41, 39), sender_id=780951174086168576, id=993017932279140356, entities={u'symbols': [], u'user_mentions': [], u'hashtags': [], u'urls': []}, recipient_id=4310983692, id_str=u'993017932279140356', recipient_screen_name=u'myself_ap', recipient=User(follow_request_sent=False, has_extended_profile=True, profile_use_background_image=True, _json={u'follow_request_sent': False, u'has_extended_profile': True, u'profile_use_background_image': True, u'default_profile_image': False, u'id': 4310983692, u'profile_background_image_url_https': u'https://abs.twimg.com/images/themes/theme1/bg.png', u'verified': False, u'translator_type': u'none', u'profile_text_color': u'333333', u'profile_image_url_https': u'https://pbs.twimg.com/profile_images/826138707765846017/4p-P6ZV6_normal.jpg', u'profile_sidebar_fill_color': u'DDEEF6', u'entities': {u'description': {u'urls': []}}, u'followers_count': 221, u'profile_sidebar_border_color': u'C0DEED', u'id_str': u'4310983692', u'profile_background_color': u'C0DEED', u'listed_count': 0, u'is_translation_enabled': False, u'utc_offset': None, u'statuses_count': 679, u'description': u'An INDIAN first. Kashmiri Pandit later. \\nJAI HIND', u'friends_count': 340, u'location': u'New Delhi, India', u'profile_link_color': u'1DA1F2', u'profile_image_url': u'http://pbs.twimg.com/profile_images/826138707765846017/4p-P6ZV6_normal.jpg', u'following': True, u'geo_enabled': False, u'profile_banner_url': u'https://pbs.twimg.com/profile_banners/4310983692/1479497660', u'profile_background_image_url': u'http://abs.twimg.com/images/themes/theme1/bg.png', u'screen_name': u'myself_ap', u'lang': u'en', u'profile_background_tile': False, u'favourites_count': 474, u'name': u'Aarav Punjabi', u'notifications': True, u'url': None, u'created_at': u'Sat Nov 21 10:38:17 +0000 2015', u'contributors_enabled': False, u'time_zone': None, u'protected': False, u'default_profile': True, u'is_translator': False}, time_zone=None, id=4310983692, description=u'An INDIAN first. Kashmiri Pandit later. \\nJAI HIND', _api=<tweepy.api.API object at 0x7fad7a87bb90>, verified=False, profile_text_color=u'333333', profile_image_url_https=u'https://pbs.twimg.com/profile_images/826138707765846017/4p-P6ZV6_normal.jpg', profile_sidebar_fill_color=u'DDEEF6', is_translator=False, geo_enabled=False, entities={u'description': {u'urls': []}}, followers_count=221, protected=False, id_str=u'4310983692', default_profile_image=False, listed_count=0, lang=u'en', utc_offset=None, statuses_count=679, profile_background_color=u'C0DEED', friends_count=340, profile_link_color=u'1DA1F2', profile_image_url=u'http://pbs.twimg.com/profile_images/826138707765846017/4p-P6ZV6_normal.jpg', notifications=True, default_profile=True, profile_background_image_url_https=u'https://abs.twimg.com/images/themes/theme1/bg.png', profile_banner_url=u'https://pbs.twimg.com/profile_banners/4310983692/1479497660', profile_background_image_url=u'http://abs.twimg.com/images/themes/theme1/bg.png', name=u'Aarav Punjabi', is_translation_enabled=False, profile_background_tile=False, favourites_count=474, screen_name=u'myself_ap', url=None, created_at=datetime.datetime(2015, 11, 21, 10, 38, 17), contributors_enabled=False, location=u'New Delhi, India', profile_sidebar_border_color=u'C0DEED', translator_type=u'none', following=True), sender_screen_name=u'myself_dj')"
            ]
          },
          "metadata": {
            "tags": []
          },
          "execution_count": 71
        }
      ]
    },
    {
      "metadata": {
        "id": "fHOlSbob28l4",
        "colab_type": "code",
        "colab": {
          "base_uri": "https://localhost:8080/",
          "height": 54
        },
        "outputId": "fd51ca50-bd7f-4fe3-cb18-1e2e466d6416"
      },
      "cell_type": "code",
      "source": [
        "api.send_direct_message(screen_name = '@HarshitRajpal14' , text='just a bot testing using python, ignore it')"
      ],
      "execution_count": 72,
      "outputs": [
        {
          "output_type": "execute_result",
          "data": {
            "text/plain": [
              "DirectMessage(_api=<tweepy.api.API object at 0x7fad7a87bb90>, recipient_id_str=u'2410928323', sender=User(follow_request_sent=False, has_extended_profile=True, profile_use_background_image=True, _json={u'follow_request_sent': False, u'has_extended_profile': True, u'profile_use_background_image': True, u'default_profile_image': False, u'id': 780951174086168576, u'profile_background_image_url_https': None, u'verified': False, u'translator_type': u'none', u'profile_text_color': u'333333', u'profile_image_url_https': u'https://pbs.twimg.com/profile_images/784033730193010689/R10bU-Su_normal.jpg', u'profile_sidebar_fill_color': u'DDEEF6', u'entities': {u'description': {u'urls': []}}, u'followers_count': 10, u'profile_sidebar_border_color': u'C0DEED', u'id_str': u'780951174086168576', u'profile_background_color': u'F5F8FA', u'listed_count': 0, u'is_translation_enabled': False, u'utc_offset': None, u'statuses_count': 13, u'description': u'Sports Cricketers and Commentators Entertainment Food Government and Politics Lifestyle Comedy and Humour TV Personalities Politicians and Pol Parties', u'friends_count': 40, u'location': u'West Sagarpur, New Delhi', u'profile_link_color': u'1DA1F2', u'profile_image_url': u'http://pbs.twimg.com/profile_images/784033730193010689/R10bU-Su_normal.jpg', u'following': False, u'geo_enabled': False, u'profile_banner_url': u'https://pbs.twimg.com/profile_banners/780951174086168576/1475763181', u'profile_background_image_url': None, u'screen_name': u'myself_dj', u'lang': u'en', u'profile_background_tile': False, u'favourites_count': 27, u'name': u'Dipesh Jain', u'notifications': False, u'url': None, u'created_at': u'Wed Sep 28 02:04:04 +0000 2016', u'contributors_enabled': False, u'time_zone': None, u'protected': False, u'default_profile': True, u'is_translator': False}, time_zone=None, id=780951174086168576, description=u'Sports Cricketers and Commentators Entertainment Food Government and Politics Lifestyle Comedy and Humour TV Personalities Politicians and Pol Parties', _api=<tweepy.api.API object at 0x7fad7a87bb90>, verified=False, profile_text_color=u'333333', profile_image_url_https=u'https://pbs.twimg.com/profile_images/784033730193010689/R10bU-Su_normal.jpg', profile_sidebar_fill_color=u'DDEEF6', is_translator=False, geo_enabled=False, entities={u'description': {u'urls': []}}, followers_count=10, protected=False, id_str=u'780951174086168576', default_profile_image=False, listed_count=0, lang=u'en', utc_offset=None, statuses_count=13, profile_background_color=u'F5F8FA', friends_count=40, profile_link_color=u'1DA1F2', profile_image_url=u'http://pbs.twimg.com/profile_images/784033730193010689/R10bU-Su_normal.jpg', notifications=False, default_profile=True, profile_background_image_url_https=None, profile_banner_url=u'https://pbs.twimg.com/profile_banners/780951174086168576/1475763181', profile_background_image_url=None, name=u'Dipesh Jain', is_translation_enabled=False, profile_background_tile=False, favourites_count=27, screen_name=u'myself_dj', url=None, created_at=datetime.datetime(2016, 9, 28, 2, 4, 4), contributors_enabled=False, location=u'West Sagarpur, New Delhi', profile_sidebar_border_color=u'C0DEED', translator_type=u'none', following=False), sender_id_str=u'780951174086168576', text=u'just a bot testing using python, ignore it', created_at=datetime.datetime(2018, 5, 6, 6, 42, 16), sender_id=780951174086168576, id=993018089490001924, entities={u'symbols': [], u'user_mentions': [], u'hashtags': [], u'urls': []}, recipient_id=2410928323, id_str=u'993018089490001924', recipient_screen_name=u'HarshitRajpal14', recipient=User(follow_request_sent=False, has_extended_profile=True, profile_use_background_image=True, _json={u'follow_request_sent': False, u'has_extended_profile': True, u'profile_use_background_image': True, u'default_profile_image': False, u'id': 2410928323, u'profile_background_image_url_https': u'https://abs.twimg.com/images/themes/theme1/bg.png', u'verified': False, u'translator_type': u'none', u'profile_text_color': u'333333', u'profile_image_url_https': u'https://pbs.twimg.com/profile_images/765189782452396032/O-aSoR_R_normal.jpg', u'profile_sidebar_fill_color': u'DDEEF6', u'entities': {u'url': {u'urls': [{u'url': u'https://t.co/AJ4zzRp5Qt', u'indices': [0, 23], u'expanded_url': u'http://youtube.com/hackmefast', u'display_url': u'youtube.com/hackmefast'}]}, u'description': {u'urls': []}}, u'followers_count': 61, u'profile_sidebar_border_color': u'C0DEED', u'id_str': u'2410928323', u'profile_background_color': u'C0DEED', u'listed_count': 1, u'is_translation_enabled': False, u'utc_offset': 19800, u'statuses_count': 267, u'description': u'I tried being normal for two minutes; worst two minutes of my life!\\n\\nCertified Ethical Hacker \\nOver thinker\\nPoet\\nWriter\\nStage Lover\\nFoodie', u'friends_count': 53, u'location': u'New Delhi, India', u'profile_link_color': u'1DA1F2', u'profile_image_url': u'http://pbs.twimg.com/profile_images/765189782452396032/O-aSoR_R_normal.jpg', u'following': True, u'geo_enabled': True, u'profile_banner_url': u'https://pbs.twimg.com/profile_banners/2410928323/1471270422', u'profile_background_image_url': u'http://abs.twimg.com/images/themes/theme1/bg.png', u'screen_name': u'HarshitRajpal14', u'lang': u'en', u'profile_background_tile': False, u'favourites_count': 108, u'name': u'Harshit Rajpal', u'notifications': False, u'url': u'https://t.co/AJ4zzRp5Qt', u'created_at': u'Tue Mar 25 12:15:58 +0000 2014', u'contributors_enabled': False, u'time_zone': u'Chennai', u'protected': False, u'default_profile': True, u'is_translator': False}, time_zone=u'Chennai', id=2410928323, description=u'I tried being normal for two minutes; worst two minutes of my life!\\n\\nCertified Ethical Hacker \\nOver thinker\\nPoet\\nWriter\\nStage Lover\\nFoodie', _api=<tweepy.api.API object at 0x7fad7a87bb90>, verified=False, profile_text_color=u'333333', profile_image_url_https=u'https://pbs.twimg.com/profile_images/765189782452396032/O-aSoR_R_normal.jpg', profile_sidebar_fill_color=u'DDEEF6', is_translator=False, geo_enabled=True, entities={u'url': {u'urls': [{u'url': u'https://t.co/AJ4zzRp5Qt', u'indices': [0, 23], u'expanded_url': u'http://youtube.com/hackmefast', u'display_url': u'youtube.com/hackmefast'}]}, u'description': {u'urls': []}}, followers_count=61, protected=False, id_str=u'2410928323', default_profile_image=False, listed_count=1, lang=u'en', utc_offset=19800, statuses_count=267, profile_background_color=u'C0DEED', friends_count=53, profile_link_color=u'1DA1F2', profile_image_url=u'http://pbs.twimg.com/profile_images/765189782452396032/O-aSoR_R_normal.jpg', notifications=False, default_profile=True, profile_background_image_url_https=u'https://abs.twimg.com/images/themes/theme1/bg.png', profile_banner_url=u'https://pbs.twimg.com/profile_banners/2410928323/1471270422', profile_background_image_url=u'http://abs.twimg.com/images/themes/theme1/bg.png', name=u'Harshit Rajpal', is_translation_enabled=False, profile_background_tile=False, favourites_count=108, screen_name=u'HarshitRajpal14', url=u'https://t.co/AJ4zzRp5Qt', created_at=datetime.datetime(2014, 3, 25, 12, 15, 58), contributors_enabled=False, location=u'New Delhi, India', profile_sidebar_border_color=u'C0DEED', translator_type=u'none', following=True), sender_screen_name=u'myself_dj')"
            ]
          },
          "metadata": {
            "tags": []
          },
          "execution_count": 72
        }
      ]
    },
    {
      "metadata": {
        "id": "DB0aQdii3ggq",
        "colab_type": "code",
        "colab": {
          "base_uri": "https://localhost:8080/",
          "height": 54
        },
        "outputId": "1517f34f-89f4-4dd0-bc35-21d6b6713c25"
      },
      "cell_type": "code",
      "source": [
        "api.update_status('#CHELIV super excited! come on CFC!')"
      ],
      "execution_count": 73,
      "outputs": [
        {
          "output_type": "execute_result",
          "data": {
            "text/plain": [
              "Status(contributors=None, truncated=False, text=u'#CHELIV super excited! come on CFC!', is_quote_status=False, in_reply_to_status_id=None, id=993019016284377088, favorite_count=0, _api=<tweepy.api.API object at 0x7fad7a87bb90>, author=User(follow_request_sent=False, has_extended_profile=True, profile_use_background_image=True, _json={u'follow_request_sent': False, u'has_extended_profile': True, u'profile_use_background_image': True, u'default_profile_image': False, u'id': 780951174086168576, u'profile_background_image_url_https': None, u'verified': False, u'translator_type': u'none', u'profile_text_color': u'333333', u'profile_image_url_https': u'https://pbs.twimg.com/profile_images/784033730193010689/R10bU-Su_normal.jpg', u'profile_sidebar_fill_color': u'DDEEF6', u'entities': {u'description': {u'urls': []}}, u'followers_count': 10, u'profile_sidebar_border_color': u'C0DEED', u'id_str': u'780951174086168576', u'profile_background_color': u'F5F8FA', u'listed_count': 0, u'is_translation_enabled': False, u'utc_offset': None, u'statuses_count': 14, u'description': u'Sports Cricketers and Commentators Entertainment Food Government and Politics Lifestyle Comedy and Humour TV Personalities Politicians and Pol Parties', u'friends_count': 40, u'location': u'West Sagarpur, New Delhi', u'profile_link_color': u'1DA1F2', u'profile_image_url': u'http://pbs.twimg.com/profile_images/784033730193010689/R10bU-Su_normal.jpg', u'following': False, u'geo_enabled': False, u'profile_banner_url': u'https://pbs.twimg.com/profile_banners/780951174086168576/1475763181', u'profile_background_image_url': None, u'screen_name': u'myself_dj', u'lang': u'en', u'profile_background_tile': False, u'favourites_count': 27, u'name': u'Dipesh Jain', u'notifications': False, u'url': None, u'created_at': u'Wed Sep 28 02:04:04 +0000 2016', u'contributors_enabled': False, u'time_zone': None, u'protected': False, u'default_profile': True, u'is_translator': False}, time_zone=None, id=780951174086168576, description=u'Sports Cricketers and Commentators Entertainment Food Government and Politics Lifestyle Comedy and Humour TV Personalities Politicians and Pol Parties', _api=<tweepy.api.API object at 0x7fad7a87bb90>, verified=False, profile_text_color=u'333333', profile_image_url_https=u'https://pbs.twimg.com/profile_images/784033730193010689/R10bU-Su_normal.jpg', profile_sidebar_fill_color=u'DDEEF6', is_translator=False, geo_enabled=False, entities={u'description': {u'urls': []}}, followers_count=10, protected=False, id_str=u'780951174086168576', default_profile_image=False, listed_count=0, lang=u'en', utc_offset=None, statuses_count=14, profile_background_color=u'F5F8FA', friends_count=40, profile_link_color=u'1DA1F2', profile_image_url=u'http://pbs.twimg.com/profile_images/784033730193010689/R10bU-Su_normal.jpg', notifications=False, default_profile=True, profile_background_image_url_https=None, profile_banner_url=u'https://pbs.twimg.com/profile_banners/780951174086168576/1475763181', profile_background_image_url=None, name=u'Dipesh Jain', is_translation_enabled=False, profile_background_tile=False, favourites_count=27, screen_name=u'myself_dj', url=None, created_at=datetime.datetime(2016, 9, 28, 2, 4, 4), contributors_enabled=False, location=u'West Sagarpur, New Delhi', profile_sidebar_border_color=u'C0DEED', translator_type=u'none', following=False), _json={u'contributors': None, u'truncated': False, u'text': u'#CHELIV super excited! come on CFC!', u'is_quote_status': False, u'in_reply_to_status_id': None, u'id': 993019016284377088, u'favorite_count': 0, u'source': u'<a href=\"https://www.acadview.com\" rel=\"nofollow\">PYF_ON1_TWT_ANALYSIS</a>', u'retweeted': False, u'coordinates': None, u'entities': {u'symbols': [], u'user_mentions': [], u'hashtags': [{u'indices': [0, 7], u'text': u'CHELIV'}], u'urls': []}, u'in_reply_to_screen_name': None, u'in_reply_to_user_id': None, u'retweet_count': 0, u'id_str': u'993019016284377088', u'favorited': False, u'user': {u'follow_request_sent': False, u'has_extended_profile': True, u'profile_use_background_image': True, u'default_profile_image': False, u'id': 780951174086168576, u'profile_background_image_url_https': None, u'verified': False, u'translator_type': u'none', u'profile_text_color': u'333333', u'profile_image_url_https': u'https://pbs.twimg.com/profile_images/784033730193010689/R10bU-Su_normal.jpg', u'profile_sidebar_fill_color': u'DDEEF6', u'entities': {u'description': {u'urls': []}}, u'followers_count': 10, u'profile_sidebar_border_color': u'C0DEED', u'id_str': u'780951174086168576', u'profile_background_color': u'F5F8FA', u'listed_count': 0, u'is_translation_enabled': False, u'utc_offset': None, u'statuses_count': 14, u'description': u'Sports Cricketers and Commentators Entertainment Food Government and Politics Lifestyle Comedy and Humour TV Personalities Politicians and Pol Parties', u'friends_count': 40, u'location': u'West Sagarpur, New Delhi', u'profile_link_color': u'1DA1F2', u'profile_image_url': u'http://pbs.twimg.com/profile_images/784033730193010689/R10bU-Su_normal.jpg', u'following': False, u'geo_enabled': False, u'profile_banner_url': u'https://pbs.twimg.com/profile_banners/780951174086168576/1475763181', u'profile_background_image_url': None, u'screen_name': u'myself_dj', u'lang': u'en', u'profile_background_tile': False, u'favourites_count': 27, u'name': u'Dipesh Jain', u'notifications': False, u'url': None, u'created_at': u'Wed Sep 28 02:04:04 +0000 2016', u'contributors_enabled': False, u'time_zone': None, u'protected': False, u'default_profile': True, u'is_translator': False}, u'geo': None, u'in_reply_to_user_id_str': None, u'lang': u'en', u'created_at': u'Sun May 06 06:45:57 +0000 2018', u'in_reply_to_status_id_str': None, u'place': None}, coordinates=None, entities={u'symbols': [], u'user_mentions': [], u'hashtags': [{u'indices': [0, 7], u'text': u'CHELIV'}], u'urls': []}, in_reply_to_screen_name=None, id_str=u'993019016284377088', retweet_count=0, in_reply_to_user_id=None, favorited=False, source_url=u'https://www.acadview.com', user=User(follow_request_sent=False, has_extended_profile=True, profile_use_background_image=True, _json={u'follow_request_sent': False, u'has_extended_profile': True, u'profile_use_background_image': True, u'default_profile_image': False, u'id': 780951174086168576, u'profile_background_image_url_https': None, u'verified': False, u'translator_type': u'none', u'profile_text_color': u'333333', u'profile_image_url_https': u'https://pbs.twimg.com/profile_images/784033730193010689/R10bU-Su_normal.jpg', u'profile_sidebar_fill_color': u'DDEEF6', u'entities': {u'description': {u'urls': []}}, u'followers_count': 10, u'profile_sidebar_border_color': u'C0DEED', u'id_str': u'780951174086168576', u'profile_background_color': u'F5F8FA', u'listed_count': 0, u'is_translation_enabled': False, u'utc_offset': None, u'statuses_count': 14, u'description': u'Sports Cricketers and Commentators Entertainment Food Government and Politics Lifestyle Comedy and Humour TV Personalities Politicians and Pol Parties', u'friends_count': 40, u'location': u'West Sagarpur, New Delhi', u'profile_link_color': u'1DA1F2', u'profile_image_url': u'http://pbs.twimg.com/profile_images/784033730193010689/R10bU-Su_normal.jpg', u'following': False, u'geo_enabled': False, u'profile_banner_url': u'https://pbs.twimg.com/profile_banners/780951174086168576/1475763181', u'profile_background_image_url': None, u'screen_name': u'myself_dj', u'lang': u'en', u'profile_background_tile': False, u'favourites_count': 27, u'name': u'Dipesh Jain', u'notifications': False, u'url': None, u'created_at': u'Wed Sep 28 02:04:04 +0000 2016', u'contributors_enabled': False, u'time_zone': None, u'protected': False, u'default_profile': True, u'is_translator': False}, time_zone=None, id=780951174086168576, description=u'Sports Cricketers and Commentators Entertainment Food Government and Politics Lifestyle Comedy and Humour TV Personalities Politicians and Pol Parties', _api=<tweepy.api.API object at 0x7fad7a87bb90>, verified=False, profile_text_color=u'333333', profile_image_url_https=u'https://pbs.twimg.com/profile_images/784033730193010689/R10bU-Su_normal.jpg', profile_sidebar_fill_color=u'DDEEF6', is_translator=False, geo_enabled=False, entities={u'description': {u'urls': []}}, followers_count=10, protected=False, id_str=u'780951174086168576', default_profile_image=False, listed_count=0, lang=u'en', utc_offset=None, statuses_count=14, profile_background_color=u'F5F8FA', friends_count=40, profile_link_color=u'1DA1F2', profile_image_url=u'http://pbs.twimg.com/profile_images/784033730193010689/R10bU-Su_normal.jpg', notifications=False, default_profile=True, profile_background_image_url_https=None, profile_banner_url=u'https://pbs.twimg.com/profile_banners/780951174086168576/1475763181', profile_background_image_url=None, name=u'Dipesh Jain', is_translation_enabled=False, profile_background_tile=False, favourites_count=27, screen_name=u'myself_dj', url=None, created_at=datetime.datetime(2016, 9, 28, 2, 4, 4), contributors_enabled=False, location=u'West Sagarpur, New Delhi', profile_sidebar_border_color=u'C0DEED', translator_type=u'none', following=False), geo=None, in_reply_to_user_id_str=None, lang=u'en', created_at=datetime.datetime(2018, 5, 6, 6, 45, 57), in_reply_to_status_id_str=None, place=None, source=u'PYF_ON1_TWT_ANALYSIS', retweeted=False)"
            ]
          },
          "metadata": {
            "tags": []
          },
          "execution_count": 73
        }
      ]
    },
    {
      "metadata": {
        "id": "ZtwEae0Q4WdH",
        "colab_type": "code",
        "colab": {
          "base_uri": "https://localhost:8080/",
          "height": 54
        },
        "outputId": "4f265831-5c26-4fd5-fbc7-f9fbc8986b5e"
      },
      "cell_type": "code",
      "source": [
        "api.update_status('#BarcaVsReal super excited! come on @realmadrid')"
      ],
      "execution_count": 74,
      "outputs": [
        {
          "output_type": "execute_result",
          "data": {
            "text/plain": [
              "Status(contributors=None, truncated=False, text=u'#BarcaVsReal super excited! come on @realmadrid', is_quote_status=False, in_reply_to_status_id=None, id=993020703002767361, favorite_count=0, _api=<tweepy.api.API object at 0x7fad7a87bb90>, author=User(follow_request_sent=False, has_extended_profile=True, profile_use_background_image=True, _json={u'follow_request_sent': False, u'has_extended_profile': True, u'profile_use_background_image': True, u'default_profile_image': False, u'id': 780951174086168576, u'profile_background_image_url_https': None, u'verified': False, u'translator_type': u'none', u'profile_text_color': u'333333', u'profile_image_url_https': u'https://pbs.twimg.com/profile_images/784033730193010689/R10bU-Su_normal.jpg', u'profile_sidebar_fill_color': u'DDEEF6', u'entities': {u'description': {u'urls': []}}, u'followers_count': 10, u'profile_sidebar_border_color': u'C0DEED', u'id_str': u'780951174086168576', u'profile_background_color': u'F5F8FA', u'listed_count': 0, u'is_translation_enabled': False, u'utc_offset': None, u'statuses_count': 14, u'description': u'Sports Cricketers and Commentators Entertainment Food Government and Politics Lifestyle Comedy and Humour TV Personalities Politicians and Pol Parties', u'friends_count': 40, u'location': u'West Sagarpur, New Delhi', u'profile_link_color': u'1DA1F2', u'profile_image_url': u'http://pbs.twimg.com/profile_images/784033730193010689/R10bU-Su_normal.jpg', u'following': False, u'geo_enabled': False, u'profile_banner_url': u'https://pbs.twimg.com/profile_banners/780951174086168576/1475763181', u'profile_background_image_url': None, u'screen_name': u'myself_dj', u'lang': u'en', u'profile_background_tile': False, u'favourites_count': 27, u'name': u'Dipesh Jain', u'notifications': False, u'url': None, u'created_at': u'Wed Sep 28 02:04:04 +0000 2016', u'contributors_enabled': False, u'time_zone': None, u'protected': False, u'default_profile': True, u'is_translator': False}, time_zone=None, id=780951174086168576, description=u'Sports Cricketers and Commentators Entertainment Food Government and Politics Lifestyle Comedy and Humour TV Personalities Politicians and Pol Parties', _api=<tweepy.api.API object at 0x7fad7a87bb90>, verified=False, profile_text_color=u'333333', profile_image_url_https=u'https://pbs.twimg.com/profile_images/784033730193010689/R10bU-Su_normal.jpg', profile_sidebar_fill_color=u'DDEEF6', is_translator=False, geo_enabled=False, entities={u'description': {u'urls': []}}, followers_count=10, protected=False, id_str=u'780951174086168576', default_profile_image=False, listed_count=0, lang=u'en', utc_offset=None, statuses_count=14, profile_background_color=u'F5F8FA', friends_count=40, profile_link_color=u'1DA1F2', profile_image_url=u'http://pbs.twimg.com/profile_images/784033730193010689/R10bU-Su_normal.jpg', notifications=False, default_profile=True, profile_background_image_url_https=None, profile_banner_url=u'https://pbs.twimg.com/profile_banners/780951174086168576/1475763181', profile_background_image_url=None, name=u'Dipesh Jain', is_translation_enabled=False, profile_background_tile=False, favourites_count=27, screen_name=u'myself_dj', url=None, created_at=datetime.datetime(2016, 9, 28, 2, 4, 4), contributors_enabled=False, location=u'West Sagarpur, New Delhi', profile_sidebar_border_color=u'C0DEED', translator_type=u'none', following=False), _json={u'contributors': None, u'truncated': False, u'text': u'#BarcaVsReal super excited! come on @realmadrid', u'is_quote_status': False, u'in_reply_to_status_id': None, u'id': 993020703002767361, u'favorite_count': 0, u'source': u'<a href=\"https://www.acadview.com\" rel=\"nofollow\">PYF_ON1_TWT_ANALYSIS</a>', u'retweeted': False, u'coordinates': None, u'entities': {u'symbols': [], u'user_mentions': [{u'id': 14872237, u'indices': [36, 47], u'id_str': u'14872237', u'screen_name': u'realmadrid', u'name': u'Real Madrid C.F. \\u26bd\\ufe0f'}], u'hashtags': [{u'indices': [0, 12], u'text': u'BarcaVsReal'}], u'urls': []}, u'in_reply_to_screen_name': None, u'in_reply_to_user_id': None, u'retweet_count': 0, u'id_str': u'993020703002767361', u'favorited': False, u'user': {u'follow_request_sent': False, u'has_extended_profile': True, u'profile_use_background_image': True, u'default_profile_image': False, u'id': 780951174086168576, u'profile_background_image_url_https': None, u'verified': False, u'translator_type': u'none', u'profile_text_color': u'333333', u'profile_image_url_https': u'https://pbs.twimg.com/profile_images/784033730193010689/R10bU-Su_normal.jpg', u'profile_sidebar_fill_color': u'DDEEF6', u'entities': {u'description': {u'urls': []}}, u'followers_count': 10, u'profile_sidebar_border_color': u'C0DEED', u'id_str': u'780951174086168576', u'profile_background_color': u'F5F8FA', u'listed_count': 0, u'is_translation_enabled': False, u'utc_offset': None, u'statuses_count': 14, u'description': u'Sports Cricketers and Commentators Entertainment Food Government and Politics Lifestyle Comedy and Humour TV Personalities Politicians and Pol Parties', u'friends_count': 40, u'location': u'West Sagarpur, New Delhi', u'profile_link_color': u'1DA1F2', u'profile_image_url': u'http://pbs.twimg.com/profile_images/784033730193010689/R10bU-Su_normal.jpg', u'following': False, u'geo_enabled': False, u'profile_banner_url': u'https://pbs.twimg.com/profile_banners/780951174086168576/1475763181', u'profile_background_image_url': None, u'screen_name': u'myself_dj', u'lang': u'en', u'profile_background_tile': False, u'favourites_count': 27, u'name': u'Dipesh Jain', u'notifications': False, u'url': None, u'created_at': u'Wed Sep 28 02:04:04 +0000 2016', u'contributors_enabled': False, u'time_zone': None, u'protected': False, u'default_profile': True, u'is_translator': False}, u'geo': None, u'in_reply_to_user_id_str': None, u'lang': u'en', u'created_at': u'Sun May 06 06:52:39 +0000 2018', u'in_reply_to_status_id_str': None, u'place': None}, coordinates=None, entities={u'symbols': [], u'user_mentions': [{u'id': 14872237, u'indices': [36, 47], u'id_str': u'14872237', u'screen_name': u'realmadrid', u'name': u'Real Madrid C.F. \\u26bd\\ufe0f'}], u'hashtags': [{u'indices': [0, 12], u'text': u'BarcaVsReal'}], u'urls': []}, in_reply_to_screen_name=None, id_str=u'993020703002767361', retweet_count=0, in_reply_to_user_id=None, favorited=False, source_url=u'https://www.acadview.com', user=User(follow_request_sent=False, has_extended_profile=True, profile_use_background_image=True, _json={u'follow_request_sent': False, u'has_extended_profile': True, u'profile_use_background_image': True, u'default_profile_image': False, u'id': 780951174086168576, u'profile_background_image_url_https': None, u'verified': False, u'translator_type': u'none', u'profile_text_color': u'333333', u'profile_image_url_https': u'https://pbs.twimg.com/profile_images/784033730193010689/R10bU-Su_normal.jpg', u'profile_sidebar_fill_color': u'DDEEF6', u'entities': {u'description': {u'urls': []}}, u'followers_count': 10, u'profile_sidebar_border_color': u'C0DEED', u'id_str': u'780951174086168576', u'profile_background_color': u'F5F8FA', u'listed_count': 0, u'is_translation_enabled': False, u'utc_offset': None, u'statuses_count': 14, u'description': u'Sports Cricketers and Commentators Entertainment Food Government and Politics Lifestyle Comedy and Humour TV Personalities Politicians and Pol Parties', u'friends_count': 40, u'location': u'West Sagarpur, New Delhi', u'profile_link_color': u'1DA1F2', u'profile_image_url': u'http://pbs.twimg.com/profile_images/784033730193010689/R10bU-Su_normal.jpg', u'following': False, u'geo_enabled': False, u'profile_banner_url': u'https://pbs.twimg.com/profile_banners/780951174086168576/1475763181', u'profile_background_image_url': None, u'screen_name': u'myself_dj', u'lang': u'en', u'profile_background_tile': False, u'favourites_count': 27, u'name': u'Dipesh Jain', u'notifications': False, u'url': None, u'created_at': u'Wed Sep 28 02:04:04 +0000 2016', u'contributors_enabled': False, u'time_zone': None, u'protected': False, u'default_profile': True, u'is_translator': False}, time_zone=None, id=780951174086168576, description=u'Sports Cricketers and Commentators Entertainment Food Government and Politics Lifestyle Comedy and Humour TV Personalities Politicians and Pol Parties', _api=<tweepy.api.API object at 0x7fad7a87bb90>, verified=False, profile_text_color=u'333333', profile_image_url_https=u'https://pbs.twimg.com/profile_images/784033730193010689/R10bU-Su_normal.jpg', profile_sidebar_fill_color=u'DDEEF6', is_translator=False, geo_enabled=False, entities={u'description': {u'urls': []}}, followers_count=10, protected=False, id_str=u'780951174086168576', default_profile_image=False, listed_count=0, lang=u'en', utc_offset=None, statuses_count=14, profile_background_color=u'F5F8FA', friends_count=40, profile_link_color=u'1DA1F2', profile_image_url=u'http://pbs.twimg.com/profile_images/784033730193010689/R10bU-Su_normal.jpg', notifications=False, default_profile=True, profile_background_image_url_https=None, profile_banner_url=u'https://pbs.twimg.com/profile_banners/780951174086168576/1475763181', profile_background_image_url=None, name=u'Dipesh Jain', is_translation_enabled=False, profile_background_tile=False, favourites_count=27, screen_name=u'myself_dj', url=None, created_at=datetime.datetime(2016, 9, 28, 2, 4, 4), contributors_enabled=False, location=u'West Sagarpur, New Delhi', profile_sidebar_border_color=u'C0DEED', translator_type=u'none', following=False), geo=None, in_reply_to_user_id_str=None, lang=u'en', created_at=datetime.datetime(2018, 5, 6, 6, 52, 39), in_reply_to_status_id_str=None, place=None, source=u'PYF_ON1_TWT_ANALYSIS', retweeted=False)"
            ]
          },
          "metadata": {
            "tags": []
          },
          "execution_count": 74
        }
      ]
    },
    {
      "metadata": {
        "id": "ZPUEDTMP54pH",
        "colab_type": "code",
        "colab": {}
      },
      "cell_type": "code",
      "source": [
        ""
      ],
      "execution_count": 0,
      "outputs": []
    }
  ]
}